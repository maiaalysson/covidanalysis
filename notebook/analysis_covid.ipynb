{
 "cells": [
  {
   "cell_type": "code",
   "source": [
    "import numpy as np\n",
    "import pandas as pd\n",
    "import plotly.express as px\n",
    "import matplotlib.pyplot as plt"
   ],
   "metadata": {
    "collapsed": false,
    "ExecuteTime": {
     "end_time": "2024-04-15T05:34:50.727574Z",
     "start_time": "2024-04-15T05:34:50.721076Z"
    }
   },
   "id": "76e131aa902db8e5",
   "outputs": [],
   "execution_count": 102
  },
  {
   "cell_type": "code",
   "source": [
    "from statistics import median\n",
    "from matplotlib_venn import venn2\n",
    "from sklearn.cluster import KMeans\n",
    "from sklearn.preprocessing import MinMaxScaler"
   ],
   "metadata": {
    "collapsed": false,
    "ExecuteTime": {
     "end_time": "2024-04-15T05:34:51.146221Z",
     "start_time": "2024-04-15T05:34:51.137227Z"
    }
   },
   "id": "5c344ddb2ac78f5e",
   "outputs": [],
   "execution_count": 103
  },
  {
   "metadata": {
    "ExecuteTime": {
     "end_time": "2024-04-15T05:01:27.418702Z",
     "start_time": "2024-04-15T05:01:27.405082Z"
    }
   },
   "cell_type": "code",
   "source": [
    "def array_remove_none(array):\n",
    "    return array.values[array.values != np.array(None)]"
   ],
   "id": "3f8a477a92e8b533",
   "outputs": [],
   "execution_count": 5
  },
  {
   "metadata": {
    "ExecuteTime": {
     "end_time": "2024-04-15T05:34:56.611187Z",
     "start_time": "2024-04-15T05:34:56.603188Z"
    }
   },
   "cell_type": "code",
   "source": [
    "def normalize_values(dataframe):\n",
    "    scaler = MinMaxScaler()\n",
    "    scaler.fit(dataframe)\n",
    "    return scaler.transform(dataframe)"
   ],
   "id": "f8da0ebb5e18dd9e",
   "outputs": [],
   "execution_count": 104
  },
  {
   "metadata": {
    "ExecuteTime": {
     "end_time": "2024-04-15T05:34:57.184347Z",
     "start_time": "2024-04-15T05:34:57.166846Z"
    }
   },
   "cell_type": "code",
   "source": [
    "def cluster_alg(amount, interactions, dataframe):\n",
    "    cluster = KMeans(n_clusters=amount, max_iter=interactions) #K-MEANS é um algoritmo da família de agrupamento de dados (clustering)\n",
    "    cluster.fit(dataframe)\n",
    "    return cluster"
   ],
   "id": "c00ebff0f46de206",
   "outputs": [],
   "execution_count": 105
  },
  {
   "metadata": {
    "ExecuteTime": {
     "end_time": "2024-04-15T05:34:57.664308Z",
     "start_time": "2024-04-15T05:34:57.651306Z"
    }
   },
   "cell_type": "code",
   "source": [
    "def cluster_groups(cluster, dataframe):\n",
    "    return cluster.predict(dataframe)"
   ],
   "id": "ecdd64dbf32bfd0c",
   "outputs": [],
   "execution_count": 106
  },
  {
   "metadata": {
    "ExecuteTime": {
     "end_time": "2024-04-15T05:34:58.067030Z",
     "start_time": "2024-04-15T05:34:58.048530Z"
    }
   },
   "cell_type": "code",
   "source": [
    "def country_groups(groups, countries):\n",
    "    country = {i: [] for i in range(groups.max() + 1)}\n",
    "    for i in range(groups.size):\n",
    "        items = country[groups.item(i)]\n",
    "        items.append(str(countries.item(i)))\n",
    "        country[groups.item(i)] = items\n",
    "    return country"
   ],
   "id": "32fd9ef86a71982b",
   "outputs": [],
   "execution_count": 107
  },
  {
   "metadata": {
    "ExecuteTime": {
     "end_time": "2024-04-15T05:45:26.000500Z",
     "start_time": "2024-04-15T05:45:25.989905Z"
    }
   },
   "cell_type": "code",
   "source": [
    "def venn2_intersection(a, b, intersection, a_label, b_label, a_color, b_color):\n",
    "    plt.clf()\n",
    "    plt.gca().set_title('Diagrama De Venn')\n",
    "    venn2(\n",
    "        subsets= (a, b, len(intersection)), \n",
    "        set_labels = (a_label, b_label),\n",
    "        set_colors= (a_color, b_color),\n",
    "        alpha= 0.7\n",
    "    )\n",
    "    plt.show()"
   ],
   "id": "cff8e1fa3a019849",
   "outputs": [],
   "execution_count": 154
  },
  {
   "cell_type": "code",
   "source": "dfCovidEconomyHuman = pd.read_pickle(\"dataframe/covidEconomyHuman.pkl\")",
   "metadata": {
    "collapsed": false,
    "ExecuteTime": {
     "end_time": "2024-04-15T05:34:59.057776Z",
     "start_time": "2024-04-15T05:34:59.039276Z"
    }
   },
   "id": "456dacf8c2436653",
   "outputs": [],
   "execution_count": 109
  },
  {
   "cell_type": "code",
   "source": [
    "cehDataOver5M = dfCovidEconomyHuman[dfCovidEconomyHuman['Population(2022)'] > 5000000] #eliminar países pequenos em termos de população\n",
    "cehDataOver5M = cehDataOver5M.reset_index(drop=True)\n",
    "cehDataOver5M"
   ],
   "metadata": {
    "collapsed": false,
    "ExecuteTime": {
     "end_time": "2024-04-15T05:35:00.110849Z",
     "start_time": "2024-04-15T05:35:00.095341Z"
    }
   },
   "id": "90c66246478dda9c",
   "outputs": [
    {
     "data": {
      "text/plain": [
       "                      Country  HDI Rank(2022)  HDI(2022)  Population(2022)  \\\n",
       "0                 Switzerland               1      0.967           8740472   \n",
       "1                      Norway               2      0.966           5434319   \n",
       "2                   Hong Kong               4      0.956           7488865   \n",
       "3                     Denmark               5      0.952           5882261   \n",
       "4                      Sweden               5      0.952          10549347   \n",
       "..                        ...             ...        ...               ...   \n",
       "106                   Burundi             187      0.420          12889576   \n",
       "107                      Mali             188      0.410          22593590   \n",
       "108                      Chad             189      0.394          17723315   \n",
       "109                     Niger             189      0.394          26207977   \n",
       "110  Central African Republic             191      0.387           5579144   \n",
       "\n",
       "     GDP(Nominal,2022)  GDP(Per Capita)  TotCases1Mpop  Deaths1Mpop  \\\n",
       "0         807706000000            92410         507515         1647   \n",
       "1         579267000000           106594         273930         1204   \n",
       "2         359839000000            48050         386217         1958   \n",
       "3         395404000000            67220         545636         1511   \n",
       "4         585939000000            55543         269494         2680   \n",
       "..                 ...              ...            ...          ...   \n",
       "106         3073414678              238           4334            3   \n",
       "107        18827176532              833           1544           35   \n",
       "108        12704149842              717            442           11   \n",
       "109        13969605583              533            381           12   \n",
       "110         2382618615              427           3078           23   \n",
       "\n",
       "     Tests1Mpop  \n",
       "0       2716487  \n",
       "1       1996315  \n",
       "2      10011143  \n",
       "3      22165247  \n",
       "4       1908301  \n",
       "..          ...  \n",
       "106       27386  \n",
       "107       37483  \n",
       "108       10988  \n",
       "109        9759  \n",
       "110       16205  \n",
       "\n",
       "[111 rows x 9 columns]"
      ],
      "text/html": [
       "<div>\n",
       "<style scoped>\n",
       "    .dataframe tbody tr th:only-of-type {\n",
       "        vertical-align: middle;\n",
       "    }\n",
       "\n",
       "    .dataframe tbody tr th {\n",
       "        vertical-align: top;\n",
       "    }\n",
       "\n",
       "    .dataframe thead th {\n",
       "        text-align: right;\n",
       "    }\n",
       "</style>\n",
       "<table border=\"1\" class=\"dataframe\">\n",
       "  <thead>\n",
       "    <tr style=\"text-align: right;\">\n",
       "      <th></th>\n",
       "      <th>Country</th>\n",
       "      <th>HDI Rank(2022)</th>\n",
       "      <th>HDI(2022)</th>\n",
       "      <th>Population(2022)</th>\n",
       "      <th>GDP(Nominal,2022)</th>\n",
       "      <th>GDP(Per Capita)</th>\n",
       "      <th>TotCases1Mpop</th>\n",
       "      <th>Deaths1Mpop</th>\n",
       "      <th>Tests1Mpop</th>\n",
       "    </tr>\n",
       "  </thead>\n",
       "  <tbody>\n",
       "    <tr>\n",
       "      <th>0</th>\n",
       "      <td>Switzerland</td>\n",
       "      <td>1</td>\n",
       "      <td>0.967</td>\n",
       "      <td>8740472</td>\n",
       "      <td>807706000000</td>\n",
       "      <td>92410</td>\n",
       "      <td>507515</td>\n",
       "      <td>1647</td>\n",
       "      <td>2716487</td>\n",
       "    </tr>\n",
       "    <tr>\n",
       "      <th>1</th>\n",
       "      <td>Norway</td>\n",
       "      <td>2</td>\n",
       "      <td>0.966</td>\n",
       "      <td>5434319</td>\n",
       "      <td>579267000000</td>\n",
       "      <td>106594</td>\n",
       "      <td>273930</td>\n",
       "      <td>1204</td>\n",
       "      <td>1996315</td>\n",
       "    </tr>\n",
       "    <tr>\n",
       "      <th>2</th>\n",
       "      <td>Hong Kong</td>\n",
       "      <td>4</td>\n",
       "      <td>0.956</td>\n",
       "      <td>7488865</td>\n",
       "      <td>359839000000</td>\n",
       "      <td>48050</td>\n",
       "      <td>386217</td>\n",
       "      <td>1958</td>\n",
       "      <td>10011143</td>\n",
       "    </tr>\n",
       "    <tr>\n",
       "      <th>3</th>\n",
       "      <td>Denmark</td>\n",
       "      <td>5</td>\n",
       "      <td>0.952</td>\n",
       "      <td>5882261</td>\n",
       "      <td>395404000000</td>\n",
       "      <td>67220</td>\n",
       "      <td>545636</td>\n",
       "      <td>1511</td>\n",
       "      <td>22165247</td>\n",
       "    </tr>\n",
       "    <tr>\n",
       "      <th>4</th>\n",
       "      <td>Sweden</td>\n",
       "      <td>5</td>\n",
       "      <td>0.952</td>\n",
       "      <td>10549347</td>\n",
       "      <td>585939000000</td>\n",
       "      <td>55543</td>\n",
       "      <td>269494</td>\n",
       "      <td>2680</td>\n",
       "      <td>1908301</td>\n",
       "    </tr>\n",
       "    <tr>\n",
       "      <th>...</th>\n",
       "      <td>...</td>\n",
       "      <td>...</td>\n",
       "      <td>...</td>\n",
       "      <td>...</td>\n",
       "      <td>...</td>\n",
       "      <td>...</td>\n",
       "      <td>...</td>\n",
       "      <td>...</td>\n",
       "      <td>...</td>\n",
       "    </tr>\n",
       "    <tr>\n",
       "      <th>106</th>\n",
       "      <td>Burundi</td>\n",
       "      <td>187</td>\n",
       "      <td>0.420</td>\n",
       "      <td>12889576</td>\n",
       "      <td>3073414678</td>\n",
       "      <td>238</td>\n",
       "      <td>4334</td>\n",
       "      <td>3</td>\n",
       "      <td>27386</td>\n",
       "    </tr>\n",
       "    <tr>\n",
       "      <th>107</th>\n",
       "      <td>Mali</td>\n",
       "      <td>188</td>\n",
       "      <td>0.410</td>\n",
       "      <td>22593590</td>\n",
       "      <td>18827176532</td>\n",
       "      <td>833</td>\n",
       "      <td>1544</td>\n",
       "      <td>35</td>\n",
       "      <td>37483</td>\n",
       "    </tr>\n",
       "    <tr>\n",
       "      <th>108</th>\n",
       "      <td>Chad</td>\n",
       "      <td>189</td>\n",
       "      <td>0.394</td>\n",
       "      <td>17723315</td>\n",
       "      <td>12704149842</td>\n",
       "      <td>717</td>\n",
       "      <td>442</td>\n",
       "      <td>11</td>\n",
       "      <td>10988</td>\n",
       "    </tr>\n",
       "    <tr>\n",
       "      <th>109</th>\n",
       "      <td>Niger</td>\n",
       "      <td>189</td>\n",
       "      <td>0.394</td>\n",
       "      <td>26207977</td>\n",
       "      <td>13969605583</td>\n",
       "      <td>533</td>\n",
       "      <td>381</td>\n",
       "      <td>12</td>\n",
       "      <td>9759</td>\n",
       "    </tr>\n",
       "    <tr>\n",
       "      <th>110</th>\n",
       "      <td>Central African Republic</td>\n",
       "      <td>191</td>\n",
       "      <td>0.387</td>\n",
       "      <td>5579144</td>\n",
       "      <td>2382618615</td>\n",
       "      <td>427</td>\n",
       "      <td>3078</td>\n",
       "      <td>23</td>\n",
       "      <td>16205</td>\n",
       "    </tr>\n",
       "  </tbody>\n",
       "</table>\n",
       "<p>111 rows × 9 columns</p>\n",
       "</div>"
      ]
     },
     "execution_count": 110,
     "metadata": {},
     "output_type": "execute_result"
    }
   ],
   "execution_count": 110
  },
  {
   "cell_type": "code",
   "source": [
    "plt.clf()\n",
    "boxplotDeaths1Mpop = cehDataOver5M.boxplot(column=['Deaths1Mpop']) #Q1(0.25), Q2(0.50), Q3(0.75), outliers\n",
    "plt.show()"
   ],
   "metadata": {
    "collapsed": false,
    "ExecuteTime": {
     "end_time": "2024-04-15T05:35:01.147236Z",
     "start_time": "2024-04-15T05:35:01.060721Z"
    }
   },
   "id": "8bef4642475bfca3",
   "outputs": [
    {
     "data": {
      "text/plain": [
       "<Figure size 640x480 with 1 Axes>"
      ],
      "image/png": "[encoded data removed]"
     },
     "metadata": {},
     "output_type": "display_data"
    }
   ],
   "execution_count": 111
  },
  {
   "cell_type": "code",
   "source": [
    "Q1 = cehDataOver5M['Deaths1Mpop'].quantile(0.25)\n",
    "Q3 = cehDataOver5M['Deaths1Mpop'].quantile(0.75)\n",
    "IQR = Q3 - Q1\n",
    "\n",
    "higherBoundary = Q3 + 1.5 * IQR\n",
    "higherBoundary"
   ],
   "metadata": {
    "collapsed": false,
    "ExecuteTime": {
     "end_time": "2024-04-15T05:35:01.936659Z",
     "start_time": "2024-04-15T05:35:01.921660Z"
    }
   },
   "id": "1e164e64cda41117",
   "outputs": [
    {
     "data": {
      "text/plain": [
       "5143.25"
      ]
     },
     "execution_count": 112,
     "metadata": {},
     "output_type": "execute_result"
    }
   ],
   "execution_count": 112
  },
  {
   "cell_type": "code",
   "source": [
    "median = median(cehDataOver5M['Deaths1Mpop'])\n",
    "median"
   ],
   "metadata": {
    "collapsed": false,
    "ExecuteTime": {
     "end_time": "2024-04-15T05:35:02.973703Z",
     "start_time": "2024-04-15T05:35:02.959703Z"
    }
   },
   "id": "68f637a0eee53a3c",
   "outputs": [
    {
     "data": {
      "text/plain": [
       "700"
      ]
     },
     "execution_count": 113,
     "metadata": {},
     "output_type": "execute_result"
    }
   ],
   "execution_count": 113
  },
  {
   "cell_type": "code",
   "source": "cehDataOver5M[cehDataOver5M['Deaths1Mpop'] >= higherBoundary ] #Outliers",
   "metadata": {
    "collapsed": false,
    "ExecuteTime": {
     "end_time": "2024-04-15T05:35:03.562Z",
     "start_time": "2024-04-15T05:35:03.538993Z"
    }
   },
   "id": "d5e7a020b02b0eed",
   "outputs": [
    {
     "data": {
      "text/plain": [
       "     Country  HDI Rank(2022)  HDI(2022)  Population(2022)  GDP(Nominal,2022)  \\\n",
       "42  Bulgaria              70      0.799           6781953        89040398406   \n",
       "49      Peru              87      0.762          34049588       242632000000   \n",
       "\n",
       "    GDP(Per Capita)  TotCases1Mpop  Deaths1Mpop  Tests1Mpop  \n",
       "42            13129         195747         5661     1704664  \n",
       "49             7126         135751         6595     1158115  "
      ],
      "text/html": [
       "<div>\n",
       "<style scoped>\n",
       "    .dataframe tbody tr th:only-of-type {\n",
       "        vertical-align: middle;\n",
       "    }\n",
       "\n",
       "    .dataframe tbody tr th {\n",
       "        vertical-align: top;\n",
       "    }\n",
       "\n",
       "    .dataframe thead th {\n",
       "        text-align: right;\n",
       "    }\n",
       "</style>\n",
       "<table border=\"1\" class=\"dataframe\">\n",
       "  <thead>\n",
       "    <tr style=\"text-align: right;\">\n",
       "      <th></th>\n",
       "      <th>Country</th>\n",
       "      <th>HDI Rank(2022)</th>\n",
       "      <th>HDI(2022)</th>\n",
       "      <th>Population(2022)</th>\n",
       "      <th>GDP(Nominal,2022)</th>\n",
       "      <th>GDP(Per Capita)</th>\n",
       "      <th>TotCases1Mpop</th>\n",
       "      <th>Deaths1Mpop</th>\n",
       "      <th>Tests1Mpop</th>\n",
       "    </tr>\n",
       "  </thead>\n",
       "  <tbody>\n",
       "    <tr>\n",
       "      <th>42</th>\n",
       "      <td>Bulgaria</td>\n",
       "      <td>70</td>\n",
       "      <td>0.799</td>\n",
       "      <td>6781953</td>\n",
       "      <td>89040398406</td>\n",
       "      <td>13129</td>\n",
       "      <td>195747</td>\n",
       "      <td>5661</td>\n",
       "      <td>1704664</td>\n",
       "    </tr>\n",
       "    <tr>\n",
       "      <th>49</th>\n",
       "      <td>Peru</td>\n",
       "      <td>87</td>\n",
       "      <td>0.762</td>\n",
       "      <td>34049588</td>\n",
       "      <td>242632000000</td>\n",
       "      <td>7126</td>\n",
       "      <td>135751</td>\n",
       "      <td>6595</td>\n",
       "      <td>1158115</td>\n",
       "    </tr>\n",
       "  </tbody>\n",
       "</table>\n",
       "</div>"
      ]
     },
     "execution_count": 114,
     "metadata": {},
     "output_type": "execute_result"
    }
   ],
   "execution_count": 114
  },
  {
   "cell_type": "code",
   "source": [
    "cehDataLessOutliers = cehDataOver5M[cehDataOver5M['Deaths1Mpop'] <= higherBoundary ]\n",
    "cehDataLessOutliers = cehDataLessOutliers.reset_index(drop=True)\n",
    "cehDataLessOutliers"
   ],
   "metadata": {
    "collapsed": false,
    "ExecuteTime": {
     "end_time": "2024-04-15T05:35:03.964718Z",
     "start_time": "2024-04-15T05:35:03.950719Z"
    }
   },
   "id": "8246c4ea44a90ecf",
   "outputs": [
    {
     "data": {
      "text/plain": [
       "                      Country  HDI Rank(2022)  HDI(2022)  Population(2022)  \\\n",
       "0                 Switzerland               1      0.967           8740472   \n",
       "1                      Norway               2      0.966           5434319   \n",
       "2                   Hong Kong               4      0.956           7488865   \n",
       "3                     Denmark               5      0.952           5882261   \n",
       "4                      Sweden               5      0.952          10549347   \n",
       "..                        ...             ...        ...               ...   \n",
       "104                   Burundi             187      0.420          12889576   \n",
       "105                      Mali             188      0.410          22593590   \n",
       "106                      Chad             189      0.394          17723315   \n",
       "107                     Niger             189      0.394          26207977   \n",
       "108  Central African Republic             191      0.387           5579144   \n",
       "\n",
       "     GDP(Nominal,2022)  GDP(Per Capita)  TotCases1Mpop  Deaths1Mpop  \\\n",
       "0         807706000000            92410         507515         1647   \n",
       "1         579267000000           106594         273930         1204   \n",
       "2         359839000000            48050         386217         1958   \n",
       "3         395404000000            67220         545636         1511   \n",
       "4         585939000000            55543         269494         2680   \n",
       "..                 ...              ...            ...          ...   \n",
       "104         3073414678              238           4334            3   \n",
       "105        18827176532              833           1544           35   \n",
       "106        12704149842              717            442           11   \n",
       "107        13969605583              533            381           12   \n",
       "108         2382618615              427           3078           23   \n",
       "\n",
       "     Tests1Mpop  \n",
       "0       2716487  \n",
       "1       1996315  \n",
       "2      10011143  \n",
       "3      22165247  \n",
       "4       1908301  \n",
       "..          ...  \n",
       "104       27386  \n",
       "105       37483  \n",
       "106       10988  \n",
       "107        9759  \n",
       "108       16205  \n",
       "\n",
       "[109 rows x 9 columns]"
      ],
      "text/html": [
       "<div>\n",
       "<style scoped>\n",
       "    .dataframe tbody tr th:only-of-type {\n",
       "        vertical-align: middle;\n",
       "    }\n",
       "\n",
       "    .dataframe tbody tr th {\n",
       "        vertical-align: top;\n",
       "    }\n",
       "\n",
       "    .dataframe thead th {\n",
       "        text-align: right;\n",
       "    }\n",
       "</style>\n",
       "<table border=\"1\" class=\"dataframe\">\n",
       "  <thead>\n",
       "    <tr style=\"text-align: right;\">\n",
       "      <th></th>\n",
       "      <th>Country</th>\n",
       "      <th>HDI Rank(2022)</th>\n",
       "      <th>HDI(2022)</th>\n",
       "      <th>Population(2022)</th>\n",
       "      <th>GDP(Nominal,2022)</th>\n",
       "      <th>GDP(Per Capita)</th>\n",
       "      <th>TotCases1Mpop</th>\n",
       "      <th>Deaths1Mpop</th>\n",
       "      <th>Tests1Mpop</th>\n",
       "    </tr>\n",
       "  </thead>\n",
       "  <tbody>\n",
       "    <tr>\n",
       "      <th>0</th>\n",
       "      <td>Switzerland</td>\n",
       "      <td>1</td>\n",
       "      <td>0.967</td>\n",
       "      <td>8740472</td>\n",
       "      <td>807706000000</td>\n",
       "      <td>92410</td>\n",
       "      <td>507515</td>\n",
       "      <td>1647</td>\n",
       "      <td>2716487</td>\n",
       "    </tr>\n",
       "    <tr>\n",
       "      <th>1</th>\n",
       "      <td>Norway</td>\n",
       "      <td>2</td>\n",
       "      <td>0.966</td>\n",
       "      <td>5434319</td>\n",
       "      <td>579267000000</td>\n",
       "      <td>106594</td>\n",
       "      <td>273930</td>\n",
       "      <td>1204</td>\n",
       "      <td>1996315</td>\n",
       "    </tr>\n",
       "    <tr>\n",
       "      <th>2</th>\n",
       "      <td>Hong Kong</td>\n",
       "      <td>4</td>\n",
       "      <td>0.956</td>\n",
       "      <td>7488865</td>\n",
       "      <td>359839000000</td>\n",
       "      <td>48050</td>\n",
       "      <td>386217</td>\n",
       "      <td>1958</td>\n",
       "      <td>10011143</td>\n",
       "    </tr>\n",
       "    <tr>\n",
       "      <th>3</th>\n",
       "      <td>Denmark</td>\n",
       "      <td>5</td>\n",
       "      <td>0.952</td>\n",
       "      <td>5882261</td>\n",
       "      <td>395404000000</td>\n",
       "      <td>67220</td>\n",
       "      <td>545636</td>\n",
       "      <td>1511</td>\n",
       "      <td>22165247</td>\n",
       "    </tr>\n",
       "    <tr>\n",
       "      <th>4</th>\n",
       "      <td>Sweden</td>\n",
       "      <td>5</td>\n",
       "      <td>0.952</td>\n",
       "      <td>10549347</td>\n",
       "      <td>585939000000</td>\n",
       "      <td>55543</td>\n",
       "      <td>269494</td>\n",
       "      <td>2680</td>\n",
       "      <td>1908301</td>\n",
       "    </tr>\n",
       "    <tr>\n",
       "      <th>...</th>\n",
       "      <td>...</td>\n",
       "      <td>...</td>\n",
       "      <td>...</td>\n",
       "      <td>...</td>\n",
       "      <td>...</td>\n",
       "      <td>...</td>\n",
       "      <td>...</td>\n",
       "      <td>...</td>\n",
       "      <td>...</td>\n",
       "    </tr>\n",
       "    <tr>\n",
       "      <th>104</th>\n",
       "      <td>Burundi</td>\n",
       "      <td>187</td>\n",
       "      <td>0.420</td>\n",
       "      <td>12889576</td>\n",
       "      <td>3073414678</td>\n",
       "      <td>238</td>\n",
       "      <td>4334</td>\n",
       "      <td>3</td>\n",
       "      <td>27386</td>\n",
       "    </tr>\n",
       "    <tr>\n",
       "      <th>105</th>\n",
       "      <td>Mali</td>\n",
       "      <td>188</td>\n",
       "      <td>0.410</td>\n",
       "      <td>22593590</td>\n",
       "      <td>18827176532</td>\n",
       "      <td>833</td>\n",
       "      <td>1544</td>\n",
       "      <td>35</td>\n",
       "      <td>37483</td>\n",
       "    </tr>\n",
       "    <tr>\n",
       "      <th>106</th>\n",
       "      <td>Chad</td>\n",
       "      <td>189</td>\n",
       "      <td>0.394</td>\n",
       "      <td>17723315</td>\n",
       "      <td>12704149842</td>\n",
       "      <td>717</td>\n",
       "      <td>442</td>\n",
       "      <td>11</td>\n",
       "      <td>10988</td>\n",
       "    </tr>\n",
       "    <tr>\n",
       "      <th>107</th>\n",
       "      <td>Niger</td>\n",
       "      <td>189</td>\n",
       "      <td>0.394</td>\n",
       "      <td>26207977</td>\n",
       "      <td>13969605583</td>\n",
       "      <td>533</td>\n",
       "      <td>381</td>\n",
       "      <td>12</td>\n",
       "      <td>9759</td>\n",
       "    </tr>\n",
       "    <tr>\n",
       "      <th>108</th>\n",
       "      <td>Central African Republic</td>\n",
       "      <td>191</td>\n",
       "      <td>0.387</td>\n",
       "      <td>5579144</td>\n",
       "      <td>2382618615</td>\n",
       "      <td>427</td>\n",
       "      <td>3078</td>\n",
       "      <td>23</td>\n",
       "      <td>16205</td>\n",
       "    </tr>\n",
       "  </tbody>\n",
       "</table>\n",
       "<p>109 rows × 9 columns</p>\n",
       "</div>"
      ]
     },
     "execution_count": 115,
     "metadata": {},
     "output_type": "execute_result"
    }
   ],
   "execution_count": 115
  },
  {
   "cell_type": "code",
   "source": "cehDataLessOutliers[cehDataLessOutliers['Deaths1Mpop'] <= median ] #países que obtiveram bons resultados na pandemia c19",
   "metadata": {
    "collapsed": false,
    "ExecuteTime": {
     "end_time": "2024-04-15T05:35:05.064293Z",
     "start_time": "2024-04-15T05:35:05.042298Z"
    }
   },
   "id": "1ae503529c051ccc",
   "outputs": [
    {
     "data": {
      "text/plain": [
       "                      Country  HDI Rank(2022)  HDI(2022)  Population(2022)  \\\n",
       "7                   Singapore               9      0.949           5975689   \n",
       "14       United Arab Emirates              17      0.937           9441129   \n",
       "16                South Korea              19      0.929          51815810   \n",
       "19                      Japan              24      0.920         123951692   \n",
       "27               Saudi Arabia              40      0.875          36408820   \n",
       "39                   Thailand              66      0.803          71697030   \n",
       "42                      China              75      0.788        1425887337   \n",
       "46         Dominican Republic              82      0.766          11228821   \n",
       "52                    Algeria              93      0.745          44903225   \n",
       "57                      Egypt             105      0.728         110990103   \n",
       "58                 Uzbekistan             106      0.727          34627652   \n",
       "59                    Vietnam             107      0.726          98186856   \n",
       "62                  Indonesia             112      0.713         275501339   \n",
       "63                Philippines             113      0.710         115559009   \n",
       "64                 Kyrgyzstan             117      0.701           6630623   \n",
       "66                    Morocco             120      0.698          37457971   \n",
       "67                El Salvador             127      0.674           6336392   \n",
       "68                       Iraq             128      0.673          44496122   \n",
       "69                 Bangladesh             129      0.670         171186372   \n",
       "70                      India             134      0.644        1417173173   \n",
       "73                       Laos             139      0.620           7529475   \n",
       "74                    Myanmar             144      0.608          54179306   \n",
       "75                      Ghana             145      0.602          33475870   \n",
       "76                      Kenya             146      0.601          54027487   \n",
       "77                      Nepal             146      0.601          30547580   \n",
       "78                   Cambodia             148      0.600          16767842   \n",
       "79                      Congo             149      0.593           5970424   \n",
       "80                     Angola             150      0.591          35588987   \n",
       "81                   Cameroon             151      0.587          27914536   \n",
       "82                     Zambia             153      0.569          20017675   \n",
       "83           Papua New Guinea             154      0.568          10142619   \n",
       "84                      Haiti             158      0.552          11584996   \n",
       "85                     Uganda             159      0.550          47249585   \n",
       "86                   Zimbabwe             159      0.550          16320537   \n",
       "87                    Nigeria             161      0.548         218541212   \n",
       "88                     Rwanda             161      0.548          13776698   \n",
       "89                       Togo             163      0.547           8848699   \n",
       "90                   Pakistan             164      0.540         235824862   \n",
       "91                Ivory Coast             166      0.534          28160542   \n",
       "92                    Senegal             169      0.517          17316449   \n",
       "93                      Sudan             170      0.516          46874204   \n",
       "94                     Malawi             172      0.508          20405317   \n",
       "95                      Benin             173      0.504          13352864   \n",
       "96                   Ethiopia             176      0.492         123379924   \n",
       "97                    Liberia             177      0.487           5302681   \n",
       "98                 Madagascar             177      0.487          29611714   \n",
       "99                   DR Congo             180      0.481          99010212   \n",
       "100                    Guinea             181      0.471          13859341   \n",
       "101                Mozambique             183      0.461          32969518   \n",
       "102              Sierra Leone             184      0.458           8605718   \n",
       "103              Burkina Faso             185      0.438          22673762   \n",
       "104                   Burundi             187      0.420          12889576   \n",
       "105                      Mali             188      0.410          22593590   \n",
       "106                      Chad             189      0.394          17723315   \n",
       "107                     Niger             189      0.394          26207977   \n",
       "108  Central African Republic             191      0.387           5579144   \n",
       "\n",
       "     GDP(Nominal,2022)  GDP(Per Capita)  TotCases1Mpop  Deaths1Mpop  \\\n",
       "7         466789000000            78115         505785          341   \n",
       "14        507535000000            53758         105837          233   \n",
       "16       1665250000000            32138         673523          700   \n",
       "19       4231140000000            34135         269169          595   \n",
       "27       1108150000000            30436          23475          269   \n",
       "39        495341000000             6909          68056          493   \n",
       "42      17963200000000            12598            347            4   \n",
       "46        113642000000            10121          61131          397   \n",
       "52        191913000000             4274           5998          152   \n",
       "57        476748000000             4295           4861          232   \n",
       "58         80391853885             2322           7378           48   \n",
       "59        408802000000             4164         117481          437   \n",
       "62       1319100000000             4788          24465          581   \n",
       "63        404284000000             3499          36800          594   \n",
       "64         10930644915             1649          30750          445   \n",
       "66        134182000000             3582          33860          432   \n",
       "67         32488720000             5127          30816          646   \n",
       "68        264182000000             5937          58474          602   \n",
       "69        460201000000             2688          12204          176   \n",
       "70       3385090000000             2389          32016          379   \n",
       "73         15724383783             2088          29270          101   \n",
       "74         59364362541             1096          11622          353   \n",
       "75         72838798788             2176           5306           45   \n",
       "76        113420000000             2099           6122          101   \n",
       "77         40828247302             1337          33199          398   \n",
       "78         29956769529             1787           8102          178   \n",
       "79         14615532210             2448           4377           67   \n",
       "80        106714000000             2999           3064           55   \n",
       "81         44341646509             1588           4492           71   \n",
       "82         29784454056             1488          17940          209   \n",
       "83         30633444295             3020           5043           72   \n",
       "84         20253551885             1748           2968           74   \n",
       "85         45559202049              964           3554           75   \n",
       "86         20678055598             1267          17373          374   \n",
       "87        477386000000             2184           1233           15   \n",
       "88         13312796765              966           9817          108   \n",
       "89          8126439481              918           4559           33   \n",
       "90        376533000000             1597           6893          134   \n",
       "91         70018715017             2486           3186           30   \n",
       "92         27684430244             1599           5044          112   \n",
       "93         51662241775             1102           1391          110   \n",
       "94         13164667627              645           4437          133   \n",
       "95         17401746309             1303           2193           13   \n",
       "96        126783000000             1028           4148           63   \n",
       "97          4001047150              755           1525           56   \n",
       "98         14954967604              505           2347           49   \n",
       "99         58065953573              586           1043           15   \n",
       "100        21227749389             1532           2782           34   \n",
       "101        17851491428              541           7064           68   \n",
       "102         3970343852              461            937           15   \n",
       "103        18884619613              833           1000           18   \n",
       "104         3073414678              238           4334            3   \n",
       "105        18827176532              833           1544           35   \n",
       "106        12704149842              717            442           11   \n",
       "107        13969605583              533            381           12   \n",
       "108         2382618615              427           3078           23   \n",
       "\n",
       "     Tests1Mpop  \n",
       "7       4165302  \n",
       "14     19910389  \n",
       "16       307892  \n",
       "19       799578  \n",
       "27      1268848  \n",
       "39       246488  \n",
       "42       110461  \n",
       "46       338350  \n",
       "52         5093  \n",
       "57        34792  \n",
       "58        40077  \n",
       "59       867342  \n",
       "62       408975  \n",
       "63       320888  \n",
       "64       283460  \n",
       "66       344191  \n",
       "67       398467  \n",
       "68       463523  \n",
       "69        90862  \n",
       "70       665334  \n",
       "73       164845  \n",
       "74       212061  \n",
       "75        78456  \n",
       "76        70569  \n",
       "77       200088  \n",
       "78       180062  \n",
       "79        59991  \n",
       "80        42818  \n",
       "81        62762  \n",
       "82       211244  \n",
       "83        26813  \n",
       "84        11337  \n",
       "85        62198  \n",
       "86       164744  \n",
       "87        26339  \n",
       "88       442778  \n",
       "89        93908  \n",
       "90       133292  \n",
       "91        60951  \n",
       "92        64946  \n",
       "93        12240  \n",
       "94        30959  \n",
       "95        47268  \n",
       "96        46066  \n",
       "97        26356  \n",
       "98        18210  \n",
       "99         8890  \n",
       "100       47607  \n",
       "101       41437  \n",
       "102       31296  \n",
       "103       11265  \n",
       "104       27386  \n",
       "105       37483  \n",
       "106       10988  \n",
       "107        9759  \n",
       "108       16205  "
      ],
      "text/html": [
       "<div>\n",
       "<style scoped>\n",
       "    .dataframe tbody tr th:only-of-type {\n",
       "        vertical-align: middle;\n",
       "    }\n",
       "\n",
       "    .dataframe tbody tr th {\n",
       "        vertical-align: top;\n",
       "    }\n",
       "\n",
       "    .dataframe thead th {\n",
       "        text-align: right;\n",
       "    }\n",
       "</style>\n",
       "<table border=\"1\" class=\"dataframe\">\n",
       "  <thead>\n",
       "    <tr style=\"text-align: right;\">\n",
       "      <th></th>\n",
       "      <th>Country</th>\n",
       "      <th>HDI Rank(2022)</th>\n",
       "      <th>HDI(2022)</th>\n",
       "      <th>Population(2022)</th>\n",
       "      <th>GDP(Nominal,2022)</th>\n",
       "      <th>GDP(Per Capita)</th>\n",
       "      <th>TotCases1Mpop</th>\n",
       "      <th>Deaths1Mpop</th>\n",
       "      <th>Tests1Mpop</th>\n",
       "    </tr>\n",
       "  </thead>\n",
       "  <tbody>\n",
       "    <tr>\n",
       "      <th>7</th>\n",
       "      <td>Singapore</td>\n",
       "      <td>9</td>\n",
       "      <td>0.949</td>\n",
       "      <td>5975689</td>\n",
       "      <td>466789000000</td>\n",
       "      <td>78115</td>\n",
       "      <td>505785</td>\n",
       "      <td>341</td>\n",
       "      <td>4165302</td>\n",
       "    </tr>\n",
       "    <tr>\n",
       "      <th>14</th>\n",
       "      <td>United Arab Emirates</td>\n",
       "      <td>17</td>\n",
       "      <td>0.937</td>\n",
       "      <td>9441129</td>\n",
       "      <td>507535000000</td>\n",
       "      <td>53758</td>\n",
       "      <td>105837</td>\n",
       "      <td>233</td>\n",
       "      <td>19910389</td>\n",
       "    </tr>\n",
       "    <tr>\n",
       "      <th>16</th>\n",
       "      <td>South Korea</td>\n",
       "      <td>19</td>\n",
       "      <td>0.929</td>\n",
       "      <td>51815810</td>\n",
       "      <td>1665250000000</td>\n",
       "      <td>32138</td>\n",
       "      <td>673523</td>\n",
       "      <td>700</td>\n",
       "      <td>307892</td>\n",
       "    </tr>\n",
       "    <tr>\n",
       "      <th>19</th>\n",
       "      <td>Japan</td>\n",
       "      <td>24</td>\n",
       "      <td>0.920</td>\n",
       "      <td>123951692</td>\n",
       "      <td>4231140000000</td>\n",
       "      <td>34135</td>\n",
       "      <td>269169</td>\n",
       "      <td>595</td>\n",
       "      <td>799578</td>\n",
       "    </tr>\n",
       "    <tr>\n",
       "      <th>27</th>\n",
       "      <td>Saudi Arabia</td>\n",
       "      <td>40</td>\n",
       "      <td>0.875</td>\n",
       "      <td>36408820</td>\n",
       "      <td>1108150000000</td>\n",
       "      <td>30436</td>\n",
       "      <td>23475</td>\n",
       "      <td>269</td>\n",
       "      <td>1268848</td>\n",
       "    </tr>\n",
       "    <tr>\n",
       "      <th>39</th>\n",
       "      <td>Thailand</td>\n",
       "      <td>66</td>\n",
       "      <td>0.803</td>\n",
       "      <td>71697030</td>\n",
       "      <td>495341000000</td>\n",
       "      <td>6909</td>\n",
       "      <td>68056</td>\n",
       "      <td>493</td>\n",
       "      <td>246488</td>\n",
       "    </tr>\n",
       "    <tr>\n",
       "      <th>42</th>\n",
       "      <td>China</td>\n",
       "      <td>75</td>\n",
       "      <td>0.788</td>\n",
       "      <td>1425887337</td>\n",
       "      <td>17963200000000</td>\n",
       "      <td>12598</td>\n",
       "      <td>347</td>\n",
       "      <td>4</td>\n",
       "      <td>110461</td>\n",
       "    </tr>\n",
       "    <tr>\n",
       "      <th>46</th>\n",
       "      <td>Dominican Republic</td>\n",
       "      <td>82</td>\n",
       "      <td>0.766</td>\n",
       "      <td>11228821</td>\n",
       "      <td>113642000000</td>\n",
       "      <td>10121</td>\n",
       "      <td>61131</td>\n",
       "      <td>397</td>\n",
       "      <td>338350</td>\n",
       "    </tr>\n",
       "    <tr>\n",
       "      <th>52</th>\n",
       "      <td>Algeria</td>\n",
       "      <td>93</td>\n",
       "      <td>0.745</td>\n",
       "      <td>44903225</td>\n",
       "      <td>191913000000</td>\n",
       "      <td>4274</td>\n",
       "      <td>5998</td>\n",
       "      <td>152</td>\n",
       "      <td>5093</td>\n",
       "    </tr>\n",
       "    <tr>\n",
       "      <th>57</th>\n",
       "      <td>Egypt</td>\n",
       "      <td>105</td>\n",
       "      <td>0.728</td>\n",
       "      <td>110990103</td>\n",
       "      <td>476748000000</td>\n",
       "      <td>4295</td>\n",
       "      <td>4861</td>\n",
       "      <td>232</td>\n",
       "      <td>34792</td>\n",
       "    </tr>\n",
       "    <tr>\n",
       "      <th>58</th>\n",
       "      <td>Uzbekistan</td>\n",
       "      <td>106</td>\n",
       "      <td>0.727</td>\n",
       "      <td>34627652</td>\n",
       "      <td>80391853885</td>\n",
       "      <td>2322</td>\n",
       "      <td>7378</td>\n",
       "      <td>48</td>\n",
       "      <td>40077</td>\n",
       "    </tr>\n",
       "    <tr>\n",
       "      <th>59</th>\n",
       "      <td>Vietnam</td>\n",
       "      <td>107</td>\n",
       "      <td>0.726</td>\n",
       "      <td>98186856</td>\n",
       "      <td>408802000000</td>\n",
       "      <td>4164</td>\n",
       "      <td>117481</td>\n",
       "      <td>437</td>\n",
       "      <td>867342</td>\n",
       "    </tr>\n",
       "    <tr>\n",
       "      <th>62</th>\n",
       "      <td>Indonesia</td>\n",
       "      <td>112</td>\n",
       "      <td>0.713</td>\n",
       "      <td>275501339</td>\n",
       "      <td>1319100000000</td>\n",
       "      <td>4788</td>\n",
       "      <td>24465</td>\n",
       "      <td>581</td>\n",
       "      <td>408975</td>\n",
       "    </tr>\n",
       "    <tr>\n",
       "      <th>63</th>\n",
       "      <td>Philippines</td>\n",
       "      <td>113</td>\n",
       "      <td>0.710</td>\n",
       "      <td>115559009</td>\n",
       "      <td>404284000000</td>\n",
       "      <td>3499</td>\n",
       "      <td>36800</td>\n",
       "      <td>594</td>\n",
       "      <td>320888</td>\n",
       "    </tr>\n",
       "    <tr>\n",
       "      <th>64</th>\n",
       "      <td>Kyrgyzstan</td>\n",
       "      <td>117</td>\n",
       "      <td>0.701</td>\n",
       "      <td>6630623</td>\n",
       "      <td>10930644915</td>\n",
       "      <td>1649</td>\n",
       "      <td>30750</td>\n",
       "      <td>445</td>\n",
       "      <td>283460</td>\n",
       "    </tr>\n",
       "    <tr>\n",
       "      <th>66</th>\n",
       "      <td>Morocco</td>\n",
       "      <td>120</td>\n",
       "      <td>0.698</td>\n",
       "      <td>37457971</td>\n",
       "      <td>134182000000</td>\n",
       "      <td>3582</td>\n",
       "      <td>33860</td>\n",
       "      <td>432</td>\n",
       "      <td>344191</td>\n",
       "    </tr>\n",
       "    <tr>\n",
       "      <th>67</th>\n",
       "      <td>El Salvador</td>\n",
       "      <td>127</td>\n",
       "      <td>0.674</td>\n",
       "      <td>6336392</td>\n",
       "      <td>32488720000</td>\n",
       "      <td>5127</td>\n",
       "      <td>30816</td>\n",
       "      <td>646</td>\n",
       "      <td>398467</td>\n",
       "    </tr>\n",
       "    <tr>\n",
       "      <th>68</th>\n",
       "      <td>Iraq</td>\n",
       "      <td>128</td>\n",
       "      <td>0.673</td>\n",
       "      <td>44496122</td>\n",
       "      <td>264182000000</td>\n",
       "      <td>5937</td>\n",
       "      <td>58474</td>\n",
       "      <td>602</td>\n",
       "      <td>463523</td>\n",
       "    </tr>\n",
       "    <tr>\n",
       "      <th>69</th>\n",
       "      <td>Bangladesh</td>\n",
       "      <td>129</td>\n",
       "      <td>0.670</td>\n",
       "      <td>171186372</td>\n",
       "      <td>460201000000</td>\n",
       "      <td>2688</td>\n",
       "      <td>12204</td>\n",
       "      <td>176</td>\n",
       "      <td>90862</td>\n",
       "    </tr>\n",
       "    <tr>\n",
       "      <th>70</th>\n",
       "      <td>India</td>\n",
       "      <td>134</td>\n",
       "      <td>0.644</td>\n",
       "      <td>1417173173</td>\n",
       "      <td>3385090000000</td>\n",
       "      <td>2389</td>\n",
       "      <td>32016</td>\n",
       "      <td>379</td>\n",
       "      <td>665334</td>\n",
       "    </tr>\n",
       "    <tr>\n",
       "      <th>73</th>\n",
       "      <td>Laos</td>\n",
       "      <td>139</td>\n",
       "      <td>0.620</td>\n",
       "      <td>7529475</td>\n",
       "      <td>15724383783</td>\n",
       "      <td>2088</td>\n",
       "      <td>29270</td>\n",
       "      <td>101</td>\n",
       "      <td>164845</td>\n",
       "    </tr>\n",
       "    <tr>\n",
       "      <th>74</th>\n",
       "      <td>Myanmar</td>\n",
       "      <td>144</td>\n",
       "      <td>0.608</td>\n",
       "      <td>54179306</td>\n",
       "      <td>59364362541</td>\n",
       "      <td>1096</td>\n",
       "      <td>11622</td>\n",
       "      <td>353</td>\n",
       "      <td>212061</td>\n",
       "    </tr>\n",
       "    <tr>\n",
       "      <th>75</th>\n",
       "      <td>Ghana</td>\n",
       "      <td>145</td>\n",
       "      <td>0.602</td>\n",
       "      <td>33475870</td>\n",
       "      <td>72838798788</td>\n",
       "      <td>2176</td>\n",
       "      <td>5306</td>\n",
       "      <td>45</td>\n",
       "      <td>78456</td>\n",
       "    </tr>\n",
       "    <tr>\n",
       "      <th>76</th>\n",
       "      <td>Kenya</td>\n",
       "      <td>146</td>\n",
       "      <td>0.601</td>\n",
       "      <td>54027487</td>\n",
       "      <td>113420000000</td>\n",
       "      <td>2099</td>\n",
       "      <td>6122</td>\n",
       "      <td>101</td>\n",
       "      <td>70569</td>\n",
       "    </tr>\n",
       "    <tr>\n",
       "      <th>77</th>\n",
       "      <td>Nepal</td>\n",
       "      <td>146</td>\n",
       "      <td>0.601</td>\n",
       "      <td>30547580</td>\n",
       "      <td>40828247302</td>\n",
       "      <td>1337</td>\n",
       "      <td>33199</td>\n",
       "      <td>398</td>\n",
       "      <td>200088</td>\n",
       "    </tr>\n",
       "    <tr>\n",
       "      <th>78</th>\n",
       "      <td>Cambodia</td>\n",
       "      <td>148</td>\n",
       "      <td>0.600</td>\n",
       "      <td>16767842</td>\n",
       "      <td>29956769529</td>\n",
       "      <td>1787</td>\n",
       "      <td>8102</td>\n",
       "      <td>178</td>\n",
       "      <td>180062</td>\n",
       "    </tr>\n",
       "    <tr>\n",
       "      <th>79</th>\n",
       "      <td>Congo</td>\n",
       "      <td>149</td>\n",
       "      <td>0.593</td>\n",
       "      <td>5970424</td>\n",
       "      <td>14615532210</td>\n",
       "      <td>2448</td>\n",
       "      <td>4377</td>\n",
       "      <td>67</td>\n",
       "      <td>59991</td>\n",
       "    </tr>\n",
       "    <tr>\n",
       "      <th>80</th>\n",
       "      <td>Angola</td>\n",
       "      <td>150</td>\n",
       "      <td>0.591</td>\n",
       "      <td>35588987</td>\n",
       "      <td>106714000000</td>\n",
       "      <td>2999</td>\n",
       "      <td>3064</td>\n",
       "      <td>55</td>\n",
       "      <td>42818</td>\n",
       "    </tr>\n",
       "    <tr>\n",
       "      <th>81</th>\n",
       "      <td>Cameroon</td>\n",
       "      <td>151</td>\n",
       "      <td>0.587</td>\n",
       "      <td>27914536</td>\n",
       "      <td>44341646509</td>\n",
       "      <td>1588</td>\n",
       "      <td>4492</td>\n",
       "      <td>71</td>\n",
       "      <td>62762</td>\n",
       "    </tr>\n",
       "    <tr>\n",
       "      <th>82</th>\n",
       "      <td>Zambia</td>\n",
       "      <td>153</td>\n",
       "      <td>0.569</td>\n",
       "      <td>20017675</td>\n",
       "      <td>29784454056</td>\n",
       "      <td>1488</td>\n",
       "      <td>17940</td>\n",
       "      <td>209</td>\n",
       "      <td>211244</td>\n",
       "    </tr>\n",
       "    <tr>\n",
       "      <th>83</th>\n",
       "      <td>Papua New Guinea</td>\n",
       "      <td>154</td>\n",
       "      <td>0.568</td>\n",
       "      <td>10142619</td>\n",
       "      <td>30633444295</td>\n",
       "      <td>3020</td>\n",
       "      <td>5043</td>\n",
       "      <td>72</td>\n",
       "      <td>26813</td>\n",
       "    </tr>\n",
       "    <tr>\n",
       "      <th>84</th>\n",
       "      <td>Haiti</td>\n",
       "      <td>158</td>\n",
       "      <td>0.552</td>\n",
       "      <td>11584996</td>\n",
       "      <td>20253551885</td>\n",
       "      <td>1748</td>\n",
       "      <td>2968</td>\n",
       "      <td>74</td>\n",
       "      <td>11337</td>\n",
       "    </tr>\n",
       "    <tr>\n",
       "      <th>85</th>\n",
       "      <td>Uganda</td>\n",
       "      <td>159</td>\n",
       "      <td>0.550</td>\n",
       "      <td>47249585</td>\n",
       "      <td>45559202049</td>\n",
       "      <td>964</td>\n",
       "      <td>3554</td>\n",
       "      <td>75</td>\n",
       "      <td>62198</td>\n",
       "    </tr>\n",
       "    <tr>\n",
       "      <th>86</th>\n",
       "      <td>Zimbabwe</td>\n",
       "      <td>159</td>\n",
       "      <td>0.550</td>\n",
       "      <td>16320537</td>\n",
       "      <td>20678055598</td>\n",
       "      <td>1267</td>\n",
       "      <td>17373</td>\n",
       "      <td>374</td>\n",
       "      <td>164744</td>\n",
       "    </tr>\n",
       "    <tr>\n",
       "      <th>87</th>\n",
       "      <td>Nigeria</td>\n",
       "      <td>161</td>\n",
       "      <td>0.548</td>\n",
       "      <td>218541212</td>\n",
       "      <td>477386000000</td>\n",
       "      <td>2184</td>\n",
       "      <td>1233</td>\n",
       "      <td>15</td>\n",
       "      <td>26339</td>\n",
       "    </tr>\n",
       "    <tr>\n",
       "      <th>88</th>\n",
       "      <td>Rwanda</td>\n",
       "      <td>161</td>\n",
       "      <td>0.548</td>\n",
       "      <td>13776698</td>\n",
       "      <td>13312796765</td>\n",
       "      <td>966</td>\n",
       "      <td>9817</td>\n",
       "      <td>108</td>\n",
       "      <td>442778</td>\n",
       "    </tr>\n",
       "    <tr>\n",
       "      <th>89</th>\n",
       "      <td>Togo</td>\n",
       "      <td>163</td>\n",
       "      <td>0.547</td>\n",
       "      <td>8848699</td>\n",
       "      <td>8126439481</td>\n",
       "      <td>918</td>\n",
       "      <td>4559</td>\n",
       "      <td>33</td>\n",
       "      <td>93908</td>\n",
       "    </tr>\n",
       "    <tr>\n",
       "      <th>90</th>\n",
       "      <td>Pakistan</td>\n",
       "      <td>164</td>\n",
       "      <td>0.540</td>\n",
       "      <td>235824862</td>\n",
       "      <td>376533000000</td>\n",
       "      <td>1597</td>\n",
       "      <td>6893</td>\n",
       "      <td>134</td>\n",
       "      <td>133292</td>\n",
       "    </tr>\n",
       "    <tr>\n",
       "      <th>91</th>\n",
       "      <td>Ivory Coast</td>\n",
       "      <td>166</td>\n",
       "      <td>0.534</td>\n",
       "      <td>28160542</td>\n",
       "      <td>70018715017</td>\n",
       "      <td>2486</td>\n",
       "      <td>3186</td>\n",
       "      <td>30</td>\n",
       "      <td>60951</td>\n",
       "    </tr>\n",
       "    <tr>\n",
       "      <th>92</th>\n",
       "      <td>Senegal</td>\n",
       "      <td>169</td>\n",
       "      <td>0.517</td>\n",
       "      <td>17316449</td>\n",
       "      <td>27684430244</td>\n",
       "      <td>1599</td>\n",
       "      <td>5044</td>\n",
       "      <td>112</td>\n",
       "      <td>64946</td>\n",
       "    </tr>\n",
       "    <tr>\n",
       "      <th>93</th>\n",
       "      <td>Sudan</td>\n",
       "      <td>170</td>\n",
       "      <td>0.516</td>\n",
       "      <td>46874204</td>\n",
       "      <td>51662241775</td>\n",
       "      <td>1102</td>\n",
       "      <td>1391</td>\n",
       "      <td>110</td>\n",
       "      <td>12240</td>\n",
       "    </tr>\n",
       "    <tr>\n",
       "      <th>94</th>\n",
       "      <td>Malawi</td>\n",
       "      <td>172</td>\n",
       "      <td>0.508</td>\n",
       "      <td>20405317</td>\n",
       "      <td>13164667627</td>\n",
       "      <td>645</td>\n",
       "      <td>4437</td>\n",
       "      <td>133</td>\n",
       "      <td>30959</td>\n",
       "    </tr>\n",
       "    <tr>\n",
       "      <th>95</th>\n",
       "      <td>Benin</td>\n",
       "      <td>173</td>\n",
       "      <td>0.504</td>\n",
       "      <td>13352864</td>\n",
       "      <td>17401746309</td>\n",
       "      <td>1303</td>\n",
       "      <td>2193</td>\n",
       "      <td>13</td>\n",
       "      <td>47268</td>\n",
       "    </tr>\n",
       "    <tr>\n",
       "      <th>96</th>\n",
       "      <td>Ethiopia</td>\n",
       "      <td>176</td>\n",
       "      <td>0.492</td>\n",
       "      <td>123379924</td>\n",
       "      <td>126783000000</td>\n",
       "      <td>1028</td>\n",
       "      <td>4148</td>\n",
       "      <td>63</td>\n",
       "      <td>46066</td>\n",
       "    </tr>\n",
       "    <tr>\n",
       "      <th>97</th>\n",
       "      <td>Liberia</td>\n",
       "      <td>177</td>\n",
       "      <td>0.487</td>\n",
       "      <td>5302681</td>\n",
       "      <td>4001047150</td>\n",
       "      <td>755</td>\n",
       "      <td>1525</td>\n",
       "      <td>56</td>\n",
       "      <td>26356</td>\n",
       "    </tr>\n",
       "    <tr>\n",
       "      <th>98</th>\n",
       "      <td>Madagascar</td>\n",
       "      <td>177</td>\n",
       "      <td>0.487</td>\n",
       "      <td>29611714</td>\n",
       "      <td>14954967604</td>\n",
       "      <td>505</td>\n",
       "      <td>2347</td>\n",
       "      <td>49</td>\n",
       "      <td>18210</td>\n",
       "    </tr>\n",
       "    <tr>\n",
       "      <th>99</th>\n",
       "      <td>DR Congo</td>\n",
       "      <td>180</td>\n",
       "      <td>0.481</td>\n",
       "      <td>99010212</td>\n",
       "      <td>58065953573</td>\n",
       "      <td>586</td>\n",
       "      <td>1043</td>\n",
       "      <td>15</td>\n",
       "      <td>8890</td>\n",
       "    </tr>\n",
       "    <tr>\n",
       "      <th>100</th>\n",
       "      <td>Guinea</td>\n",
       "      <td>181</td>\n",
       "      <td>0.471</td>\n",
       "      <td>13859341</td>\n",
       "      <td>21227749389</td>\n",
       "      <td>1532</td>\n",
       "      <td>2782</td>\n",
       "      <td>34</td>\n",
       "      <td>47607</td>\n",
       "    </tr>\n",
       "    <tr>\n",
       "      <th>101</th>\n",
       "      <td>Mozambique</td>\n",
       "      <td>183</td>\n",
       "      <td>0.461</td>\n",
       "      <td>32969518</td>\n",
       "      <td>17851491428</td>\n",
       "      <td>541</td>\n",
       "      <td>7064</td>\n",
       "      <td>68</td>\n",
       "      <td>41437</td>\n",
       "    </tr>\n",
       "    <tr>\n",
       "      <th>102</th>\n",
       "      <td>Sierra Leone</td>\n",
       "      <td>184</td>\n",
       "      <td>0.458</td>\n",
       "      <td>8605718</td>\n",
       "      <td>3970343852</td>\n",
       "      <td>461</td>\n",
       "      <td>937</td>\n",
       "      <td>15</td>\n",
       "      <td>31296</td>\n",
       "    </tr>\n",
       "    <tr>\n",
       "      <th>103</th>\n",
       "      <td>Burkina Faso</td>\n",
       "      <td>185</td>\n",
       "      <td>0.438</td>\n",
       "      <td>22673762</td>\n",
       "      <td>18884619613</td>\n",
       "      <td>833</td>\n",
       "      <td>1000</td>\n",
       "      <td>18</td>\n",
       "      <td>11265</td>\n",
       "    </tr>\n",
       "    <tr>\n",
       "      <th>104</th>\n",
       "      <td>Burundi</td>\n",
       "      <td>187</td>\n",
       "      <td>0.420</td>\n",
       "      <td>12889576</td>\n",
       "      <td>3073414678</td>\n",
       "      <td>238</td>\n",
       "      <td>4334</td>\n",
       "      <td>3</td>\n",
       "      <td>27386</td>\n",
       "    </tr>\n",
       "    <tr>\n",
       "      <th>105</th>\n",
       "      <td>Mali</td>\n",
       "      <td>188</td>\n",
       "      <td>0.410</td>\n",
       "      <td>22593590</td>\n",
       "      <td>18827176532</td>\n",
       "      <td>833</td>\n",
       "      <td>1544</td>\n",
       "      <td>35</td>\n",
       "      <td>37483</td>\n",
       "    </tr>\n",
       "    <tr>\n",
       "      <th>106</th>\n",
       "      <td>Chad</td>\n",
       "      <td>189</td>\n",
       "      <td>0.394</td>\n",
       "      <td>17723315</td>\n",
       "      <td>12704149842</td>\n",
       "      <td>717</td>\n",
       "      <td>442</td>\n",
       "      <td>11</td>\n",
       "      <td>10988</td>\n",
       "    </tr>\n",
       "    <tr>\n",
       "      <th>107</th>\n",
       "      <td>Niger</td>\n",
       "      <td>189</td>\n",
       "      <td>0.394</td>\n",
       "      <td>26207977</td>\n",
       "      <td>13969605583</td>\n",
       "      <td>533</td>\n",
       "      <td>381</td>\n",
       "      <td>12</td>\n",
       "      <td>9759</td>\n",
       "    </tr>\n",
       "    <tr>\n",
       "      <th>108</th>\n",
       "      <td>Central African Republic</td>\n",
       "      <td>191</td>\n",
       "      <td>0.387</td>\n",
       "      <td>5579144</td>\n",
       "      <td>2382618615</td>\n",
       "      <td>427</td>\n",
       "      <td>3078</td>\n",
       "      <td>23</td>\n",
       "      <td>16205</td>\n",
       "    </tr>\n",
       "  </tbody>\n",
       "</table>\n",
       "</div>"
      ]
     },
     "execution_count": 116,
     "metadata": {},
     "output_type": "execute_result"
    }
   ],
   "execution_count": 116
  },
  {
   "cell_type": "code",
   "source": [
    "cehDataLessOutliers.sort_values(by=['Deaths1Mpop'], ascending = False) #países que obtiveram os piores resultados na pandemia c19"
   ],
   "metadata": {
    "collapsed": false,
    "ExecuteTime": {
     "end_time": "2024-04-15T05:35:05.946296Z",
     "start_time": "2024-04-15T05:35:05.932797Z"
    }
   },
   "id": "148fd7948c23cb7b",
   "outputs": [
    {
     "data": {
      "text/plain": [
       "           Country  HDI Rank(2022)  HDI(2022)  Population(2022)  \\\n",
       "32         Hungary              47      0.851           9967308   \n",
       "24         Czechia              32      0.895          10493986   \n",
       "30        Slovakia              45      0.855           5643453   \n",
       "25          Greece              33      0.893          10384971   \n",
       "17   United States              20      0.927         338289857   \n",
       "..             ...             ...        ...               ...   \n",
       "95           Benin             173      0.504          13352864   \n",
       "107          Niger             189      0.394          26207977   \n",
       "106           Chad             189      0.394          17723315   \n",
       "42           China              75      0.788        1425887337   \n",
       "104        Burundi             187      0.420          12889576   \n",
       "\n",
       "     GDP(Nominal,2022)  GDP(Per Capita)  TotCases1Mpop  Deaths1Mpop  \\\n",
       "32        178789000000            17938         232164         5106   \n",
       "24        290924000000            27723         443246         4053   \n",
       "30        115469000000            20461         343872         3887   \n",
       "25        219066000000            21095         591412         3671   \n",
       "17      25462700000000            75269         333912         3642   \n",
       "..                 ...              ...            ...          ...   \n",
       "95         17401746309             1303           2193           13   \n",
       "107        13969605583              533            381           12   \n",
       "106        12704149842              717            442           11   \n",
       "42      17963200000000            12598            347            4   \n",
       "104         3073414678              238           4334            3   \n",
       "\n",
       "     Tests1Mpop  \n",
       "32      1186160  \n",
       "24      5386552  \n",
       "30      1364199  \n",
       "25      9909078  \n",
       "17      3544901  \n",
       "..          ...  \n",
       "95        47268  \n",
       "107        9759  \n",
       "106       10988  \n",
       "42       110461  \n",
       "104       27386  \n",
       "\n",
       "[109 rows x 9 columns]"
      ],
      "text/html": [
       "<div>\n",
       "<style scoped>\n",
       "    .dataframe tbody tr th:only-of-type {\n",
       "        vertical-align: middle;\n",
       "    }\n",
       "\n",
       "    .dataframe tbody tr th {\n",
       "        vertical-align: top;\n",
       "    }\n",
       "\n",
       "    .dataframe thead th {\n",
       "        text-align: right;\n",
       "    }\n",
       "</style>\n",
       "<table border=\"1\" class=\"dataframe\">\n",
       "  <thead>\n",
       "    <tr style=\"text-align: right;\">\n",
       "      <th></th>\n",
       "      <th>Country</th>\n",
       "      <th>HDI Rank(2022)</th>\n",
       "      <th>HDI(2022)</th>\n",
       "      <th>Population(2022)</th>\n",
       "      <th>GDP(Nominal,2022)</th>\n",
       "      <th>GDP(Per Capita)</th>\n",
       "      <th>TotCases1Mpop</th>\n",
       "      <th>Deaths1Mpop</th>\n",
       "      <th>Tests1Mpop</th>\n",
       "    </tr>\n",
       "  </thead>\n",
       "  <tbody>\n",
       "    <tr>\n",
       "      <th>32</th>\n",
       "      <td>Hungary</td>\n",
       "      <td>47</td>\n",
       "      <td>0.851</td>\n",
       "      <td>9967308</td>\n",
       "      <td>178789000000</td>\n",
       "      <td>17938</td>\n",
       "      <td>232164</td>\n",
       "      <td>5106</td>\n",
       "      <td>1186160</td>\n",
       "    </tr>\n",
       "    <tr>\n",
       "      <th>24</th>\n",
       "      <td>Czechia</td>\n",
       "      <td>32</td>\n",
       "      <td>0.895</td>\n",
       "      <td>10493986</td>\n",
       "      <td>290924000000</td>\n",
       "      <td>27723</td>\n",
       "      <td>443246</td>\n",
       "      <td>4053</td>\n",
       "      <td>5386552</td>\n",
       "    </tr>\n",
       "    <tr>\n",
       "      <th>30</th>\n",
       "      <td>Slovakia</td>\n",
       "      <td>45</td>\n",
       "      <td>0.855</td>\n",
       "      <td>5643453</td>\n",
       "      <td>115469000000</td>\n",
       "      <td>20461</td>\n",
       "      <td>343872</td>\n",
       "      <td>3887</td>\n",
       "      <td>1364199</td>\n",
       "    </tr>\n",
       "    <tr>\n",
       "      <th>25</th>\n",
       "      <td>Greece</td>\n",
       "      <td>33</td>\n",
       "      <td>0.893</td>\n",
       "      <td>10384971</td>\n",
       "      <td>219066000000</td>\n",
       "      <td>21095</td>\n",
       "      <td>591412</td>\n",
       "      <td>3671</td>\n",
       "      <td>9909078</td>\n",
       "    </tr>\n",
       "    <tr>\n",
       "      <th>17</th>\n",
       "      <td>United States</td>\n",
       "      <td>20</td>\n",
       "      <td>0.927</td>\n",
       "      <td>338289857</td>\n",
       "      <td>25462700000000</td>\n",
       "      <td>75269</td>\n",
       "      <td>333912</td>\n",
       "      <td>3642</td>\n",
       "      <td>3544901</td>\n",
       "    </tr>\n",
       "    <tr>\n",
       "      <th>...</th>\n",
       "      <td>...</td>\n",
       "      <td>...</td>\n",
       "      <td>...</td>\n",
       "      <td>...</td>\n",
       "      <td>...</td>\n",
       "      <td>...</td>\n",
       "      <td>...</td>\n",
       "      <td>...</td>\n",
       "      <td>...</td>\n",
       "    </tr>\n",
       "    <tr>\n",
       "      <th>95</th>\n",
       "      <td>Benin</td>\n",
       "      <td>173</td>\n",
       "      <td>0.504</td>\n",
       "      <td>13352864</td>\n",
       "      <td>17401746309</td>\n",
       "      <td>1303</td>\n",
       "      <td>2193</td>\n",
       "      <td>13</td>\n",
       "      <td>47268</td>\n",
       "    </tr>\n",
       "    <tr>\n",
       "      <th>107</th>\n",
       "      <td>Niger</td>\n",
       "      <td>189</td>\n",
       "      <td>0.394</td>\n",
       "      <td>26207977</td>\n",
       "      <td>13969605583</td>\n",
       "      <td>533</td>\n",
       "      <td>381</td>\n",
       "      <td>12</td>\n",
       "      <td>9759</td>\n",
       "    </tr>\n",
       "    <tr>\n",
       "      <th>106</th>\n",
       "      <td>Chad</td>\n",
       "      <td>189</td>\n",
       "      <td>0.394</td>\n",
       "      <td>17723315</td>\n",
       "      <td>12704149842</td>\n",
       "      <td>717</td>\n",
       "      <td>442</td>\n",
       "      <td>11</td>\n",
       "      <td>10988</td>\n",
       "    </tr>\n",
       "    <tr>\n",
       "      <th>42</th>\n",
       "      <td>China</td>\n",
       "      <td>75</td>\n",
       "      <td>0.788</td>\n",
       "      <td>1425887337</td>\n",
       "      <td>17963200000000</td>\n",
       "      <td>12598</td>\n",
       "      <td>347</td>\n",
       "      <td>4</td>\n",
       "      <td>110461</td>\n",
       "    </tr>\n",
       "    <tr>\n",
       "      <th>104</th>\n",
       "      <td>Burundi</td>\n",
       "      <td>187</td>\n",
       "      <td>0.420</td>\n",
       "      <td>12889576</td>\n",
       "      <td>3073414678</td>\n",
       "      <td>238</td>\n",
       "      <td>4334</td>\n",
       "      <td>3</td>\n",
       "      <td>27386</td>\n",
       "    </tr>\n",
       "  </tbody>\n",
       "</table>\n",
       "<p>109 rows × 9 columns</p>\n",
       "</div>"
      ]
     },
     "execution_count": 117,
     "metadata": {},
     "output_type": "execute_result"
    }
   ],
   "execution_count": 117
  },
  {
   "cell_type": "code",
   "source": [
    "plt.clf()\n",
    "plotCasesDeathsByCountry = px.scatter(cehDataLessOutliers, x='TotCases1Mpop', y='Deaths1Mpop', color='Country',hover_data=['Country'])\n",
    "plotCasesDeathsByCountry.show()"
   ],
   "metadata": {
    "collapsed": false,
    "ExecuteTime": {
     "end_time": "2024-04-15T05:36:32.714369Z",
     "start_time": "2024-04-15T05:36:32.296803Z"
    }
   },
   "id": "ccca7462a83b65c0",
   "outputs": [
    {
     "data": {
      "application/vnd.plotly.v1+json": {
       "data": [
        {
         "customdata": [
          [
           "Switzerland"
          ]
         ],
         "hovertemplate": "Country=%{customdata[0]}<br>TotCases1Mpop=%{x}<br>Deaths1Mpop=%{y}<extra></extra>",
         "legendgroup": "Switzerland",
         "marker": {
          "color": "#636efa",
          "symbol": "circle"
         },
         "mode": "markers",
         "name": "Switzerland",
         "orientation": "v",
         "showlegend": true,
         "x": [
          507515
         ],
         "xaxis": "x",
         "y": [
          1647
         ],
         "yaxis": "y",
         "type": "scatter"
        },
        {
         "customdata": [
          [
           "Norway"
          ]
         ],
         "hovertemplate": "Country=%{customdata[0]}<br>TotCases1Mpop=%{x}<br>Deaths1Mpop=%{y}<extra></extra>",
         "legendgroup": "Norway",
         "marker": {
          "color": "#EF553B",
          "symbol": "circle"
         },
         "mode": "markers",
         "name": "Norway",
         "orientation": "v",
         "showlegend": true,
         "x": [
          273930
         ],
         "xaxis": "x",
         "y": [
          1204
         ],
         "yaxis": "y",
         "type": "scatter"
        },
        {
         "customdata": [
          [
           "Hong Kong"
          ]
         ],
         "hovertemplate": "Country=%{customdata[0]}<br>TotCases1Mpop=%{x}<br>Deaths1Mpop=%{y}<extra></extra>",
         "legendgroup": "Hong Kong",
         "marker": {
          "color": "#00cc96",
          "symbol": "circle"
         },
         "mode": "markers",
         "name": "Hong Kong",
         "orientation": "v",
         "showlegend": true,
         "x": [
          386217
         ],
         "xaxis": "x",
         "y": [
          1958
         ],
         "yaxis": "y",
         "type": "scatter"
        },
        {
         "customdata": [
          [
           "Denmark"
          ]
         ],
         "hovertemplate": "Country=%{customdata[0]}<br>TotCases1Mpop=%{x}<br>Deaths1Mpop=%{y}<extra></extra>",
         "legendgroup": "Denmark",
         "marker": {
          "color": "#ab63fa",
          "symbol": "circle"
         },
         "mode": "markers",
         "name": "Denmark",
         "orientation": "v",
         "showlegend": true,
         "x": [
          545636
         ],
         "xaxis": "x",
         "y": [
          1511
         ],
         "yaxis": "y",
         "type": "scatter"
        },
        {
         "customdata": [
          [
           "Sweden"
          ]
         ],
         "hovertemplate": "Country=%{customdata[0]}<br>TotCases1Mpop=%{x}<br>Deaths1Mpop=%{y}<extra></extra>",
         "legendgroup": "Sweden",
         "marker": {
          "color": "#FFA15A",
          "symbol": "circle"
         },
         "mode": "markers",
         "name": "Sweden",
         "orientation": "v",
         "showlegend": true,
         "x": [
          269494
         ],
         "xaxis": "x",
         "y": [
          2680
         ],
         "yaxis": "y",
         "type": "scatter"
        },
        {
         "customdata": [
          [
           "Germany"
          ]
         ],
         "hovertemplate": "Country=%{customdata[0]}<br>TotCases1Mpop=%{x}<br>Deaths1Mpop=%{y}<extra></extra>",
         "legendgroup": "Germany",
         "marker": {
          "color": "#19d3f3",
          "symbol": "circle"
         },
         "mode": "markers",
         "name": "Germany",
         "orientation": "v",
         "showlegend": true,
         "x": [
          462874
         ],
         "xaxis": "x",
         "y": [
          2181
         ],
         "yaxis": "y",
         "type": "scatter"
        },
        {
         "customdata": [
          [
           "Ireland"
          ]
         ],
         "hovertemplate": "Country=%{customdata[0]}<br>TotCases1Mpop=%{x}<br>Deaths1Mpop=%{y}<extra></extra>",
         "legendgroup": "Ireland",
         "marker": {
          "color": "#FF6692",
          "symbol": "circle"
         },
         "mode": "markers",
         "name": "Ireland",
         "orientation": "v",
         "showlegend": true,
         "x": [
          345521
         ],
         "xaxis": "x",
         "y": [
          1891
         ],
         "yaxis": "y",
         "type": "scatter"
        },
        {
         "customdata": [
          [
           "Singapore"
          ]
         ],
         "hovertemplate": "Country=%{customdata[0]}<br>TotCases1Mpop=%{x}<br>Deaths1Mpop=%{y}<extra></extra>",
         "legendgroup": "Singapore",
         "marker": {
          "color": "#B6E880",
          "symbol": "circle"
         },
         "mode": "markers",
         "name": "Singapore",
         "orientation": "v",
         "showlegend": true,
         "x": [
          505785
         ],
         "xaxis": "x",
         "y": [
          341
         ],
         "yaxis": "y",
         "type": "scatter"
        },
        {
         "customdata": [
          [
           "Australia"
          ]
         ],
         "hovertemplate": "Country=%{customdata[0]}<br>TotCases1Mpop=%{x}<br>Deaths1Mpop=%{y}<extra></extra>",
         "legendgroup": "Australia",
         "marker": {
          "color": "#FF97FF",
          "symbol": "circle"
         },
         "mode": "markers",
         "name": "Australia",
         "orientation": "v",
         "showlegend": true,
         "x": [
          454496
         ],
         "xaxis": "x",
         "y": [
          935
         ],
         "yaxis": "y",
         "type": "scatter"
        },
        {
         "customdata": [
          [
           "Netherlands"
          ]
         ],
         "hovertemplate": "Country=%{customdata[0]}<br>TotCases1Mpop=%{x}<br>Deaths1Mpop=%{y}<extra></extra>",
         "legendgroup": "Netherlands",
         "marker": {
          "color": "#FECB52",
          "symbol": "circle"
         },
         "mode": "markers",
         "name": "Netherlands",
         "orientation": "v",
         "showlegend": true,
         "x": [
          501735
         ],
         "xaxis": "x",
         "y": [
          1336
         ],
         "yaxis": "y",
         "type": "scatter"
        },
        {
         "customdata": [
          [
           "Belgium"
          ]
         ],
         "hovertemplate": "Country=%{customdata[0]}<br>TotCases1Mpop=%{x}<br>Deaths1Mpop=%{y}<extra></extra>",
         "legendgroup": "Belgium",
         "marker": {
          "color": "#636efa",
          "symbol": "circle"
         },
         "mode": "markers",
         "name": "Belgium",
         "orientation": "v",
         "showlegend": true,
         "x": [
          416644
         ],
         "xaxis": "x",
         "y": [
          2946
         ],
         "yaxis": "y",
         "type": "scatter"
        },
        {
         "customdata": [
          [
           "Finland"
          ]
         ],
         "hovertemplate": "Country=%{customdata[0]}<br>TotCases1Mpop=%{x}<br>Deaths1Mpop=%{y}<extra></extra>",
         "legendgroup": "Finland",
         "marker": {
          "color": "#EF553B",
          "symbol": "circle"
         },
         "mode": "markers",
         "name": "Finland",
         "orientation": "v",
         "showlegend": true,
         "x": [
          272930
         ],
         "xaxis": "x",
         "y": [
          2153
         ],
         "yaxis": "y",
         "type": "scatter"
        },
        {
         "customdata": [
          [
           "United Kingdom"
          ]
         ],
         "hovertemplate": "Country=%{customdata[0]}<br>TotCases1Mpop=%{x}<br>Deaths1Mpop=%{y}<extra></extra>",
         "legendgroup": "United Kingdom",
         "marker": {
          "color": "#00cc96",
          "symbol": "circle"
         },
         "mode": "markers",
         "name": "United Kingdom",
         "orientation": "v",
         "showlegend": true,
         "x": [
          363666
         ],
         "xaxis": "x",
         "y": [
          3389
         ],
         "yaxis": "y",
         "type": "scatter"
        },
        {
         "customdata": [
          [
           "New Zealand"
          ]
         ],
         "hovertemplate": "Country=%{customdata[0]}<br>TotCases1Mpop=%{x}<br>Deaths1Mpop=%{y}<extra></extra>",
         "legendgroup": "New Zealand",
         "marker": {
          "color": "#ab63fa",
          "symbol": "circle"
         },
         "mode": "markers",
         "name": "New Zealand",
         "orientation": "v",
         "showlegend": true,
         "x": [
          535117
         ],
         "xaxis": "x",
         "y": [
          1163
         ],
         "yaxis": "y",
         "type": "scatter"
        },
        {
         "customdata": [
          [
           "United Arab Emirates"
          ]
         ],
         "hovertemplate": "Country=%{customdata[0]}<br>TotCases1Mpop=%{x}<br>Deaths1Mpop=%{y}<extra></extra>",
         "legendgroup": "United Arab Emirates",
         "marker": {
          "color": "#FFA15A",
          "symbol": "circle"
         },
         "mode": "markers",
         "name": "United Arab Emirates",
         "orientation": "v",
         "showlegend": true,
         "x": [
          105837
         ],
         "xaxis": "x",
         "y": [
          233
         ],
         "yaxis": "y",
         "type": "scatter"
        },
        {
         "customdata": [
          [
           "Canada"
          ]
         ],
         "hovertemplate": "Country=%{customdata[0]}<br>TotCases1Mpop=%{x}<br>Deaths1Mpop=%{y}<extra></extra>",
         "legendgroup": "Canada",
         "marker": {
          "color": "#19d3f3",
          "symbol": "circle"
         },
         "mode": "markers",
         "name": "Canada",
         "orientation": "v",
         "showlegend": true,
         "x": [
          128794
         ],
         "xaxis": "x",
         "y": [
          1536
         ],
         "yaxis": "y",
         "type": "scatter"
        },
        {
         "customdata": [
          [
           "South Korea"
          ]
         ],
         "hovertemplate": "Country=%{customdata[0]}<br>TotCases1Mpop=%{x}<br>Deaths1Mpop=%{y}<extra></extra>",
         "legendgroup": "South Korea",
         "marker": {
          "color": "#FF6692",
          "symbol": "circle"
         },
         "mode": "markers",
         "name": "South Korea",
         "orientation": "v",
         "showlegend": true,
         "x": [
          673523
         ],
         "xaxis": "x",
         "y": [
          700
         ],
         "yaxis": "y",
         "type": "scatter"
        },
        {
         "customdata": [
          [
           "United States"
          ]
         ],
         "hovertemplate": "Country=%{customdata[0]}<br>TotCases1Mpop=%{x}<br>Deaths1Mpop=%{y}<extra></extra>",
         "legendgroup": "United States",
         "marker": {
          "color": "#B6E880",
          "symbol": "circle"
         },
         "mode": "markers",
         "name": "United States",
         "orientation": "v",
         "showlegend": true,
         "x": [
          333912
         ],
         "xaxis": "x",
         "y": [
          3642
         ],
         "yaxis": "y",
         "type": "scatter"
        },
        {
         "customdata": [
          [
           "Austria"
          ]
         ],
         "hovertemplate": "Country=%{customdata[0]}<br>TotCases1Mpop=%{x}<br>Deaths1Mpop=%{y}<extra></extra>",
         "legendgroup": "Austria",
         "marker": {
          "color": "#FF97FF",
          "symbol": "circle"
         },
         "mode": "markers",
         "name": "Austria",
         "orientation": "v",
         "showlegend": true,
         "x": [
          670727
         ],
         "xaxis": "x",
         "y": [
          2486
         ],
         "yaxis": "y",
         "type": "scatter"
        },
        {
         "customdata": [
          [
           "Japan"
          ]
         ],
         "hovertemplate": "Country=%{customdata[0]}<br>TotCases1Mpop=%{x}<br>Deaths1Mpop=%{y}<extra></extra>",
         "legendgroup": "Japan",
         "marker": {
          "color": "#FECB52",
          "symbol": "circle"
         },
         "mode": "markers",
         "name": "Japan",
         "orientation": "v",
         "showlegend": true,
         "x": [
          269169
         ],
         "xaxis": "x",
         "y": [
          595
         ],
         "yaxis": "y",
         "type": "scatter"
        },
        {
         "customdata": [
          [
           "Israel"
          ]
         ],
         "hovertemplate": "Country=%{customdata[0]}<br>TotCases1Mpop=%{x}<br>Deaths1Mpop=%{y}<extra></extra>",
         "legendgroup": "Israel",
         "marker": {
          "color": "#636efa",
          "symbol": "circle"
         },
         "mode": "markers",
         "name": "Israel",
         "orientation": "v",
         "showlegend": true,
         "x": [
          519169
         ],
         "xaxis": "x",
         "y": [
          1363
         ],
         "yaxis": "y",
         "type": "scatter"
        },
        {
         "customdata": [
          [
           "Spain"
          ]
         ],
         "hovertemplate": "Country=%{customdata[0]}<br>TotCases1Mpop=%{x}<br>Deaths1Mpop=%{y}<extra></extra>",
         "legendgroup": "Spain",
         "marker": {
          "color": "#EF553B",
          "symbol": "circle"
         },
         "mode": "markers",
         "name": "Spain",
         "orientation": "v",
         "showlegend": true,
         "x": [
          297840
         ],
         "xaxis": "x",
         "y": [
          2606
         ],
         "yaxis": "y",
         "type": "scatter"
        },
        {
         "customdata": [
          [
           "France"
          ]
         ],
         "hovertemplate": "Country=%{customdata[0]}<br>TotCases1Mpop=%{x}<br>Deaths1Mpop=%{y}<extra></extra>",
         "legendgroup": "France",
         "marker": {
          "color": "#00cc96",
          "symbol": "circle"
         },
         "mode": "markers",
         "name": "France",
         "orientation": "v",
         "showlegend": true,
         "x": [
          612013
         ],
         "xaxis": "x",
         "y": [
          2556
         ],
         "yaxis": "y",
         "type": "scatter"
        },
        {
         "customdata": [
          [
           "Italy"
          ]
         ],
         "hovertemplate": "Country=%{customdata[0]}<br>TotCases1Mpop=%{x}<br>Deaths1Mpop=%{y}<extra></extra>",
         "legendgroup": "Italy",
         "marker": {
          "color": "#ab63fa",
          "symbol": "circle"
         },
         "mode": "markers",
         "name": "Italy",
         "orientation": "v",
         "showlegend": true,
         "x": [
          443437
         ],
         "xaxis": "x",
         "y": [
          3260
         ],
         "yaxis": "y",
         "type": "scatter"
        },
        {
         "customdata": [
          [
           "Czechia"
          ]
         ],
         "hovertemplate": "Country=%{customdata[0]}<br>TotCases1Mpop=%{x}<br>Deaths1Mpop=%{y}<extra></extra>",
         "legendgroup": "Czechia",
         "marker": {
          "color": "#FFA15A",
          "symbol": "circle"
         },
         "mode": "markers",
         "name": "Czechia",
         "orientation": "v",
         "showlegend": true,
         "x": [
          443246
         ],
         "xaxis": "x",
         "y": [
          4053
         ],
         "yaxis": "y",
         "type": "scatter"
        },
        {
         "customdata": [
          [
           "Greece"
          ]
         ],
         "hovertemplate": "Country=%{customdata[0]}<br>TotCases1Mpop=%{x}<br>Deaths1Mpop=%{y}<extra></extra>",
         "legendgroup": "Greece",
         "marker": {
          "color": "#19d3f3",
          "symbol": "circle"
         },
         "mode": "markers",
         "name": "Greece",
         "orientation": "v",
         "showlegend": true,
         "x": [
          591412
         ],
         "xaxis": "x",
         "y": [
          3671
         ],
         "yaxis": "y",
         "type": "scatter"
        },
        {
         "customdata": [
          [
           "Poland"
          ]
         ],
         "hovertemplate": "Country=%{customdata[0]}<br>TotCases1Mpop=%{x}<br>Deaths1Mpop=%{y}<extra></extra>",
         "legendgroup": "Poland",
         "marker": {
          "color": "#FF6692",
          "symbol": "circle"
         },
         "mode": "markers",
         "name": "Poland",
         "orientation": "v",
         "showlegend": true,
         "x": [
          176524
         ],
         "xaxis": "x",
         "y": [
          3196
         ],
         "yaxis": "y",
         "type": "scatter"
        },
        {
         "customdata": [
          [
           "Saudi Arabia"
          ]
         ],
         "hovertemplate": "Country=%{customdata[0]}<br>TotCases1Mpop=%{x}<br>Deaths1Mpop=%{y}<extra></extra>",
         "legendgroup": "Saudi Arabia",
         "marker": {
          "color": "#B6E880",
          "symbol": "circle"
         },
         "mode": "markers",
         "name": "Saudi Arabia",
         "orientation": "v",
         "showlegend": true,
         "x": [
          23475
         ],
         "xaxis": "x",
         "y": [
          269
         ],
         "yaxis": "y",
         "type": "scatter"
        },
        {
         "customdata": [
          [
           "Portugal"
          ]
         ],
         "hovertemplate": "Country=%{customdata[0]}<br>TotCases1Mpop=%{x}<br>Deaths1Mpop=%{y}<extra></extra>",
         "legendgroup": "Portugal",
         "marker": {
          "color": "#FF97FF",
          "symbol": "circle"
         },
         "mode": "markers",
         "name": "Portugal",
         "orientation": "v",
         "showlegend": true,
         "x": [
          556470
         ],
         "xaxis": "x",
         "y": [
          2773
         ],
         "yaxis": "y",
         "type": "scatter"
        },
        {
         "customdata": [
          [
           "Chile"
          ]
         ],
         "hovertemplate": "Country=%{customdata[0]}<br>TotCases1Mpop=%{x}<br>Deaths1Mpop=%{y}<extra></extra>",
         "legendgroup": "Chile",
         "marker": {
          "color": "#FECB52",
          "symbol": "circle"
         },
         "mode": "markers",
         "name": "Chile",
         "orientation": "v",
         "showlegend": true,
         "x": [
          279667
         ],
         "xaxis": "x",
         "y": [
          3350
         ],
         "yaxis": "y",
         "type": "scatter"
        },
        {
         "customdata": [
          [
           "Slovakia"
          ]
         ],
         "hovertemplate": "Country=%{customdata[0]}<br>TotCases1Mpop=%{x}<br>Deaths1Mpop=%{y}<extra></extra>",
         "legendgroup": "Slovakia",
         "marker": {
          "color": "#636efa",
          "symbol": "circle"
         },
         "mode": "markers",
         "name": "Slovakia",
         "orientation": "v",
         "showlegend": true,
         "x": [
          343872
         ],
         "xaxis": "x",
         "y": [
          3887
         ],
         "yaxis": "y",
         "type": "scatter"
        },
        {
         "customdata": [
          [
           "Turkey"
          ]
         ],
         "hovertemplate": "Country=%{customdata[0]}<br>TotCases1Mpop=%{x}<br>Deaths1Mpop=%{y}<extra></extra>",
         "legendgroup": "Turkey",
         "marker": {
          "color": "#EF553B",
          "symbol": "circle"
         },
         "mode": "markers",
         "name": "Turkey",
         "orientation": "v",
         "showlegend": true,
         "x": [
          201399
         ],
         "xaxis": "x",
         "y": [
          1194
         ],
         "yaxis": "y",
         "type": "scatter"
        },
        {
         "customdata": [
          [
           "Hungary"
          ]
         ],
         "hovertemplate": "Country=%{customdata[0]}<br>TotCases1Mpop=%{x}<br>Deaths1Mpop=%{y}<extra></extra>",
         "legendgroup": "Hungary",
         "marker": {
          "color": "#00cc96",
          "symbol": "circle"
         },
         "mode": "markers",
         "name": "Hungary",
         "orientation": "v",
         "showlegend": true,
         "x": [
          232164
         ],
         "xaxis": "x",
         "y": [
          5106
         ],
         "yaxis": "y",
         "type": "scatter"
        },
        {
         "customdata": [
          [
           "Argentina"
          ]
         ],
         "hovertemplate": "Country=%{customdata[0]}<br>TotCases1Mpop=%{x}<br>Deaths1Mpop=%{y}<extra></extra>",
         "legendgroup": "Argentina",
         "marker": {
          "color": "#ab63fa",
          "symbol": "circle"
         },
         "mode": "markers",
         "name": "Argentina",
         "orientation": "v",
         "showlegend": true,
         "x": [
          219400
         ],
         "xaxis": "x",
         "y": [
          2841
         ],
         "yaxis": "y",
         "type": "scatter"
        },
        {
         "customdata": [
          [
           "Romania"
          ]
         ],
         "hovertemplate": "Country=%{customdata[0]}<br>TotCases1Mpop=%{x}<br>Deaths1Mpop=%{y}<extra></extra>",
         "legendgroup": "Romania",
         "marker": {
          "color": "#FFA15A",
          "symbol": "circle"
         },
         "mode": "markers",
         "name": "Romania",
         "orientation": "v",
         "showlegend": true,
         "x": [
          185453
         ],
         "xaxis": "x",
         "y": [
          3622
         ],
         "yaxis": "y",
         "type": "scatter"
        },
        {
         "customdata": [
          [
           "Russia"
          ]
         ],
         "hovertemplate": "Country=%{customdata[0]}<br>TotCases1Mpop=%{x}<br>Deaths1Mpop=%{y}<extra></extra>",
         "legendgroup": "Russia",
         "marker": {
          "color": "#19d3f3",
          "symbol": "circle"
         },
         "mode": "markers",
         "name": "Russia",
         "orientation": "v",
         "showlegend": true,
         "x": [
          165317
         ],
         "xaxis": "x",
         "y": [
          2762
         ],
         "yaxis": "y",
         "type": "scatter"
        },
        {
         "customdata": [
          [
           "Malaysia"
          ]
         ],
         "hovertemplate": "Country=%{customdata[0]}<br>TotCases1Mpop=%{x}<br>Deaths1Mpop=%{y}<extra></extra>",
         "legendgroup": "Malaysia",
         "marker": {
          "color": "#FF6692",
          "symbol": "circle"
         },
         "mode": "markers",
         "name": "Malaysia",
         "orientation": "v",
         "showlegend": true,
         "x": [
          159079
         ],
         "xaxis": "x",
         "y": [
          1126
         ],
         "yaxis": "y",
         "type": "scatter"
        },
        {
         "customdata": [
          [
           "Costa Rica"
          ]
         ],
         "hovertemplate": "Country=%{customdata[0]}<br>TotCases1Mpop=%{x}<br>Deaths1Mpop=%{y}<extra></extra>",
         "legendgroup": "Costa Rica",
         "marker": {
          "color": "#B6E880",
          "symbol": "circle"
         },
         "mode": "markers",
         "name": "Costa Rica",
         "orientation": "v",
         "showlegend": true,
         "x": [
          239058
         ],
         "xaxis": "x",
         "y": [
          1819
         ],
         "yaxis": "y",
         "type": "scatter"
        },
        {
         "customdata": [
          [
           "Serbia"
          ]
         ],
         "hovertemplate": "Country=%{customdata[0]}<br>TotCases1Mpop=%{x}<br>Deaths1Mpop=%{y}<extra></extra>",
         "legendgroup": "Serbia",
         "marker": {
          "color": "#FF97FF",
          "symbol": "circle"
         },
         "mode": "markers",
         "name": "Serbia",
         "orientation": "v",
         "showlegend": true,
         "x": [
          302205
         ],
         "xaxis": "x",
         "y": [
          2087
         ],
         "yaxis": "y",
         "type": "scatter"
        },
        {
         "customdata": [
          [
           "Thailand"
          ]
         ],
         "hovertemplate": "Country=%{customdata[0]}<br>TotCases1Mpop=%{x}<br>Deaths1Mpop=%{y}<extra></extra>",
         "legendgroup": "Thailand",
         "marker": {
          "color": "#FECB52",
          "symbol": "circle"
         },
         "mode": "markers",
         "name": "Thailand",
         "orientation": "v",
         "showlegend": true,
         "x": [
          68056
         ],
         "xaxis": "x",
         "y": [
          493
         ],
         "yaxis": "y",
         "type": "scatter"
        },
        {
         "customdata": [
          [
           "Kazakhstan"
          ]
         ],
         "hovertemplate": "Country=%{customdata[0]}<br>TotCases1Mpop=%{x}<br>Deaths1Mpop=%{y}<extra></extra>",
         "legendgroup": "Kazakhstan",
         "marker": {
          "color": "#636efa",
          "symbol": "circle"
         },
         "mode": "markers",
         "name": "Kazakhstan",
         "orientation": "v",
         "showlegend": true,
         "x": [
          73514
         ],
         "xaxis": "x",
         "y": [
          721
         ],
         "yaxis": "y",
         "type": "scatter"
        },
        {
         "customdata": [
          [
           "Belarus"
          ]
         ],
         "hovertemplate": "Country=%{customdata[0]}<br>TotCases1Mpop=%{x}<br>Deaths1Mpop=%{y}<extra></extra>",
         "legendgroup": "Belarus",
         "marker": {
          "color": "#EF553B",
          "symbol": "circle"
         },
         "mode": "markers",
         "name": "Belarus",
         "orientation": "v",
         "showlegend": true,
         "x": [
          105381
         ],
         "xaxis": "x",
         "y": [
          755
         ],
         "yaxis": "y",
         "type": "scatter"
        },
        {
         "customdata": [
          [
           "China"
          ]
         ],
         "hovertemplate": "Country=%{customdata[0]}<br>TotCases1Mpop=%{x}<br>Deaths1Mpop=%{y}<extra></extra>",
         "legendgroup": "China",
         "marker": {
          "color": "#00cc96",
          "symbol": "circle"
         },
         "mode": "markers",
         "name": "China",
         "orientation": "v",
         "showlegend": true,
         "x": [
          347
         ],
         "xaxis": "x",
         "y": [
          4
         ],
         "yaxis": "y",
         "type": "scatter"
        },
        {
         "customdata": [
          [
           "Mexico"
          ]
         ],
         "hovertemplate": "Country=%{customdata[0]}<br>TotCases1Mpop=%{x}<br>Deaths1Mpop=%{y}<extra></extra>",
         "legendgroup": "Mexico",
         "marker": {
          "color": "#ab63fa",
          "symbol": "circle"
         },
         "mode": "markers",
         "name": "Mexico",
         "orientation": "v",
         "showlegend": true,
         "x": [
          58549
         ],
         "xaxis": "x",
         "y": [
          2546
         ],
         "yaxis": "y",
         "type": "scatter"
        },
        {
         "customdata": [
          [
           "Iran"
          ]
         ],
         "hovertemplate": "Country=%{customdata[0]}<br>TotCases1Mpop=%{x}<br>Deaths1Mpop=%{y}<extra></extra>",
         "legendgroup": "Iran",
         "marker": {
          "color": "#FFA15A",
          "symbol": "circle"
         },
         "mode": "markers",
         "name": "Iran",
         "orientation": "v",
         "showlegend": true,
         "x": [
          88665
         ],
         "xaxis": "x",
         "y": [
          1707
         ],
         "yaxis": "y",
         "type": "scatter"
        },
        {
         "customdata": [
          [
           "Sri Lanka"
          ]
         ],
         "hovertemplate": "Country=%{customdata[0]}<br>TotCases1Mpop=%{x}<br>Deaths1Mpop=%{y}<extra></extra>",
         "legendgroup": "Sri Lanka",
         "marker": {
          "color": "#19d3f3",
          "symbol": "circle"
         },
         "mode": "markers",
         "name": "Sri Lanka",
         "orientation": "v",
         "showlegend": true,
         "x": [
          31181
         ],
         "xaxis": "x",
         "y": [
          783
         ],
         "yaxis": "y",
         "type": "scatter"
        },
        {
         "customdata": [
          [
           "Dominican Republic"
          ]
         ],
         "hovertemplate": "Country=%{customdata[0]}<br>TotCases1Mpop=%{x}<br>Deaths1Mpop=%{y}<extra></extra>",
         "legendgroup": "Dominican Republic",
         "marker": {
          "color": "#FF6692",
          "symbol": "circle"
         },
         "mode": "markers",
         "name": "Dominican Republic",
         "orientation": "v",
         "showlegend": true,
         "x": [
          61131
         ],
         "xaxis": "x",
         "y": [
          397
         ],
         "yaxis": "y",
         "type": "scatter"
        },
        {
         "customdata": [
          [
           "Ecuador"
          ]
         ],
         "hovertemplate": "Country=%{customdata[0]}<br>TotCases1Mpop=%{x}<br>Deaths1Mpop=%{y}<extra></extra>",
         "legendgroup": "Ecuador",
         "marker": {
          "color": "#B6E880",
          "symbol": "circle"
         },
         "mode": "markers",
         "name": "Ecuador",
         "orientation": "v",
         "showlegend": true,
         "x": [
          59083
         ],
         "xaxis": "x",
         "y": [
          1990
         ],
         "yaxis": "y",
         "type": "scatter"
        },
        {
         "customdata": [
          [
           "Azerbaijan"
          ]
         ],
         "hovertemplate": "Country=%{customdata[0]}<br>TotCases1Mpop=%{x}<br>Deaths1Mpop=%{y}<extra></extra>",
         "legendgroup": "Azerbaijan",
         "marker": {
          "color": "#FF97FF",
          "symbol": "circle"
         },
         "mode": "markers",
         "name": "Azerbaijan",
         "orientation": "v",
         "showlegend": true,
         "x": [
          81080
         ],
         "xaxis": "x",
         "y": [
          1010
         ],
         "yaxis": "y",
         "type": "scatter"
        },
        {
         "customdata": [
          [
           "Brazil"
          ]
         ],
         "hovertemplate": "Country=%{customdata[0]}<br>TotCases1Mpop=%{x}<br>Deaths1Mpop=%{y}<extra></extra>",
         "legendgroup": "Brazil",
         "marker": {
          "color": "#FECB52",
          "symbol": "circle"
         },
         "mode": "markers",
         "name": "Brazil",
         "orientation": "v",
         "showlegend": true,
         "x": [
          179843
         ],
         "xaxis": "x",
         "y": [
          3303
         ],
         "yaxis": "y",
         "type": "scatter"
        },
        {
         "customdata": [
          [
           "Colombia"
          ]
         ],
         "hovertemplate": "Country=%{customdata[0]}<br>TotCases1Mpop=%{x}<br>Deaths1Mpop=%{y}<extra></extra>",
         "legendgroup": "Colombia",
         "marker": {
          "color": "#636efa",
          "symbol": "circle"
         },
         "mode": "markers",
         "name": "Colombia",
         "orientation": "v",
         "showlegend": true,
         "x": [
          124244
         ],
         "xaxis": "x",
         "y": [
          2780
         ],
         "yaxis": "y",
         "type": "scatter"
        },
        {
         "customdata": [
          [
           "Libya"
          ]
         ],
         "hovertemplate": "Country=%{customdata[0]}<br>TotCases1Mpop=%{x}<br>Deaths1Mpop=%{y}<extra></extra>",
         "legendgroup": "Libya",
         "marker": {
          "color": "#EF553B",
          "symbol": "circle"
         },
         "mode": "markers",
         "name": "Libya",
         "orientation": "v",
         "showlegend": true,
         "x": [
          72048
         ],
         "xaxis": "x",
         "y": [
          914
         ],
         "yaxis": "y",
         "type": "scatter"
        },
        {
         "customdata": [
          [
           "Algeria"
          ]
         ],
         "hovertemplate": "Country=%{customdata[0]}<br>TotCases1Mpop=%{x}<br>Deaths1Mpop=%{y}<extra></extra>",
         "legendgroup": "Algeria",
         "marker": {
          "color": "#00cc96",
          "symbol": "circle"
         },
         "mode": "markers",
         "name": "Algeria",
         "orientation": "v",
         "showlegend": true,
         "x": [
          5998
         ],
         "xaxis": "x",
         "y": [
          152
         ],
         "yaxis": "y",
         "type": "scatter"
        },
        {
         "customdata": [
          [
           "Jordan"
          ]
         ],
         "hovertemplate": "Country=%{customdata[0]}<br>TotCases1Mpop=%{x}<br>Deaths1Mpop=%{y}<extra></extra>",
         "legendgroup": "Jordan",
         "marker": {
          "color": "#ab63fa",
          "symbol": "circle"
         },
         "mode": "markers",
         "name": "Jordan",
         "orientation": "v",
         "showlegend": true,
         "x": [
          169597
         ],
         "xaxis": "x",
         "y": [
          1371
         ],
         "yaxis": "y",
         "type": "scatter"
        },
        {
         "customdata": [
          [
           "Ukraine"
          ]
         ],
         "hovertemplate": "Country=%{customdata[0]}<br>TotCases1Mpop=%{x}<br>Deaths1Mpop=%{y}<extra></extra>",
         "legendgroup": "Ukraine",
         "marker": {
          "color": "#FFA15A",
          "symbol": "circle"
         },
         "mode": "markers",
         "name": "Ukraine",
         "orientation": "v",
         "showlegend": true,
         "x": [
          128681
         ],
         "xaxis": "x",
         "y": [
          2603
         ],
         "yaxis": "y",
         "type": "scatter"
        },
        {
         "customdata": [
          [
           "Tunisia"
          ]
         ],
         "hovertemplate": "Country=%{customdata[0]}<br>TotCases1Mpop=%{x}<br>Deaths1Mpop=%{y}<extra></extra>",
         "legendgroup": "Tunisia",
         "marker": {
          "color": "#19d3f3",
          "symbol": "circle"
         },
         "mode": "markers",
         "name": "Tunisia",
         "orientation": "v",
         "showlegend": true,
         "x": [
          95741
         ],
         "xaxis": "x",
         "y": [
          2442
         ],
         "yaxis": "y",
         "type": "scatter"
        },
        {
         "customdata": [
          [
           "Paraguay"
          ]
         ],
         "hovertemplate": "Country=%{customdata[0]}<br>TotCases1Mpop=%{x}<br>Deaths1Mpop=%{y}<extra></extra>",
         "legendgroup": "Paraguay",
         "marker": {
          "color": "#FF6692",
          "symbol": "circle"
         },
         "mode": "markers",
         "name": "Paraguay",
         "orientation": "v",
         "showlegend": true,
         "x": [
          114648
         ],
         "xaxis": "x",
         "y": [
          2759
         ],
         "yaxis": "y",
         "type": "scatter"
        },
        {
         "customdata": [
          [
           "Egypt"
          ]
         ],
         "hovertemplate": "Country=%{customdata[0]}<br>TotCases1Mpop=%{x}<br>Deaths1Mpop=%{y}<extra></extra>",
         "legendgroup": "Egypt",
         "marker": {
          "color": "#B6E880",
          "symbol": "circle"
         },
         "mode": "markers",
         "name": "Egypt",
         "orientation": "v",
         "showlegend": true,
         "x": [
          4861
         ],
         "xaxis": "x",
         "y": [
          232
         ],
         "yaxis": "y",
         "type": "scatter"
        },
        {
         "customdata": [
          [
           "Uzbekistan"
          ]
         ],
         "hovertemplate": "Country=%{customdata[0]}<br>TotCases1Mpop=%{x}<br>Deaths1Mpop=%{y}<extra></extra>",
         "legendgroup": "Uzbekistan",
         "marker": {
          "color": "#FF97FF",
          "symbol": "circle"
         },
         "mode": "markers",
         "name": "Uzbekistan",
         "orientation": "v",
         "showlegend": true,
         "x": [
          7378
         ],
         "xaxis": "x",
         "y": [
          48
         ],
         "yaxis": "y",
         "type": "scatter"
        },
        {
         "customdata": [
          [
           "Vietnam"
          ]
         ],
         "hovertemplate": "Country=%{customdata[0]}<br>TotCases1Mpop=%{x}<br>Deaths1Mpop=%{y}<extra></extra>",
         "legendgroup": "Vietnam",
         "marker": {
          "color": "#FECB52",
          "symbol": "circle"
         },
         "mode": "markers",
         "name": "Vietnam",
         "orientation": "v",
         "showlegend": true,
         "x": [
          117481
         ],
         "xaxis": "x",
         "y": [
          437
         ],
         "yaxis": "y",
         "type": "scatter"
        },
        {
         "customdata": [
          [
           "South Africa"
          ]
         ],
         "hovertemplate": "Country=%{customdata[0]}<br>TotCases1Mpop=%{x}<br>Deaths1Mpop=%{y}<extra></extra>",
         "legendgroup": "South Africa",
         "marker": {
          "color": "#636efa",
          "symbol": "circle"
         },
         "mode": "markers",
         "name": "South Africa",
         "orientation": "v",
         "showlegend": true,
         "x": [
          67095
         ],
         "xaxis": "x",
         "y": [
          1689
         ],
         "yaxis": "y",
         "type": "scatter"
        },
        {
         "customdata": [
          [
           "Palestine"
          ]
         ],
         "hovertemplate": "Country=%{customdata[0]}<br>TotCases1Mpop=%{x}<br>Deaths1Mpop=%{y}<extra></extra>",
         "legendgroup": "Palestine",
         "marker": {
          "color": "#EF553B",
          "symbol": "circle"
         },
         "mode": "markers",
         "name": "Palestine",
         "orientation": "v",
         "showlegend": true,
         "x": [
          116173
         ],
         "xaxis": "x",
         "y": [
          1011
         ],
         "yaxis": "y",
         "type": "scatter"
        },
        {
         "customdata": [
          [
           "Indonesia"
          ]
         ],
         "hovertemplate": "Country=%{customdata[0]}<br>TotCases1Mpop=%{x}<br>Deaths1Mpop=%{y}<extra></extra>",
         "legendgroup": "Indonesia",
         "marker": {
          "color": "#00cc96",
          "symbol": "circle"
         },
         "mode": "markers",
         "name": "Indonesia",
         "orientation": "v",
         "showlegend": true,
         "x": [
          24465
         ],
         "xaxis": "x",
         "y": [
          581
         ],
         "yaxis": "y",
         "type": "scatter"
        },
        {
         "customdata": [
          [
           "Philippines"
          ]
         ],
         "hovertemplate": "Country=%{customdata[0]}<br>TotCases1Mpop=%{x}<br>Deaths1Mpop=%{y}<extra></extra>",
         "legendgroup": "Philippines",
         "marker": {
          "color": "#ab63fa",
          "symbol": "circle"
         },
         "mode": "markers",
         "name": "Philippines",
         "orientation": "v",
         "showlegend": true,
         "x": [
          36800
         ],
         "xaxis": "x",
         "y": [
          594
         ],
         "yaxis": "y",
         "type": "scatter"
        },
        {
         "customdata": [
          [
           "Kyrgyzstan"
          ]
         ],
         "hovertemplate": "Country=%{customdata[0]}<br>TotCases1Mpop=%{x}<br>Deaths1Mpop=%{y}<extra></extra>",
         "legendgroup": "Kyrgyzstan",
         "marker": {
          "color": "#FFA15A",
          "symbol": "circle"
         },
         "mode": "markers",
         "name": "Kyrgyzstan",
         "orientation": "v",
         "showlegend": true,
         "x": [
          30750
         ],
         "xaxis": "x",
         "y": [
          445
         ],
         "yaxis": "y",
         "type": "scatter"
        },
        {
         "customdata": [
          [
           "Bolivia"
          ]
         ],
         "hovertemplate": "Country=%{customdata[0]}<br>TotCases1Mpop=%{x}<br>Deaths1Mpop=%{y}<extra></extra>",
         "legendgroup": "Bolivia",
         "marker": {
          "color": "#19d3f3",
          "symbol": "circle"
         },
         "mode": "markers",
         "name": "Bolivia",
         "orientation": "v",
         "showlegend": true,
         "x": [
          101038
         ],
         "xaxis": "x",
         "y": [
          1868
         ],
         "yaxis": "y",
         "type": "scatter"
        },
        {
         "customdata": [
          [
           "Morocco"
          ]
         ],
         "hovertemplate": "Country=%{customdata[0]}<br>TotCases1Mpop=%{x}<br>Deaths1Mpop=%{y}<extra></extra>",
         "legendgroup": "Morocco",
         "marker": {
          "color": "#FF6692",
          "symbol": "circle"
         },
         "mode": "markers",
         "name": "Morocco",
         "orientation": "v",
         "showlegend": true,
         "x": [
          33860
         ],
         "xaxis": "x",
         "y": [
          432
         ],
         "yaxis": "y",
         "type": "scatter"
        },
        {
         "customdata": [
          [
           "El Salvador"
          ]
         ],
         "hovertemplate": "Country=%{customdata[0]}<br>TotCases1Mpop=%{x}<br>Deaths1Mpop=%{y}<extra></extra>",
         "legendgroup": "El Salvador",
         "marker": {
          "color": "#B6E880",
          "symbol": "circle"
         },
         "mode": "markers",
         "name": "El Salvador",
         "orientation": "v",
         "showlegend": true,
         "x": [
          30816
         ],
         "xaxis": "x",
         "y": [
          646
         ],
         "yaxis": "y",
         "type": "scatter"
        },
        {
         "customdata": [
          [
           "Iraq"
          ]
         ],
         "hovertemplate": "Country=%{customdata[0]}<br>TotCases1Mpop=%{x}<br>Deaths1Mpop=%{y}<extra></extra>",
         "legendgroup": "Iraq",
         "marker": {
          "color": "#FF97FF",
          "symbol": "circle"
         },
         "mode": "markers",
         "name": "Iraq",
         "orientation": "v",
         "showlegend": true,
         "x": [
          58474
         ],
         "xaxis": "x",
         "y": [
          602
         ],
         "yaxis": "y",
         "type": "scatter"
        },
        {
         "customdata": [
          [
           "Bangladesh"
          ]
         ],
         "hovertemplate": "Country=%{customdata[0]}<br>TotCases1Mpop=%{x}<br>Deaths1Mpop=%{y}<extra></extra>",
         "legendgroup": "Bangladesh",
         "marker": {
          "color": "#FECB52",
          "symbol": "circle"
         },
         "mode": "markers",
         "name": "Bangladesh",
         "orientation": "v",
         "showlegend": true,
         "x": [
          12204
         ],
         "xaxis": "x",
         "y": [
          176
         ],
         "yaxis": "y",
         "type": "scatter"
        },
        {
         "customdata": [
          [
           "India"
          ]
         ],
         "hovertemplate": "Country=%{customdata[0]}<br>TotCases1Mpop=%{x}<br>Deaths1Mpop=%{y}<extra></extra>",
         "legendgroup": "India",
         "marker": {
          "color": "#636efa",
          "symbol": "circle"
         },
         "mode": "markers",
         "name": "India",
         "orientation": "v",
         "showlegend": true,
         "x": [
          32016
         ],
         "xaxis": "x",
         "y": [
          379
         ],
         "yaxis": "y",
         "type": "scatter"
        },
        {
         "customdata": [
          [
           "Guatemala"
          ]
         ],
         "hovertemplate": "Country=%{customdata[0]}<br>TotCases1Mpop=%{x}<br>Deaths1Mpop=%{y}<extra></extra>",
         "legendgroup": "Guatemala",
         "marker": {
          "color": "#EF553B",
          "symbol": "circle"
         },
         "mode": "markers",
         "name": "Guatemala",
         "orientation": "v",
         "showlegend": true,
         "x": [
          69484
         ],
         "xaxis": "x",
         "y": [
          1092
         ],
         "yaxis": "y",
         "type": "scatter"
        },
        {
         "customdata": [
          [
           "Honduras"
          ]
         ],
         "hovertemplate": "Country=%{customdata[0]}<br>TotCases1Mpop=%{x}<br>Deaths1Mpop=%{y}<extra></extra>",
         "legendgroup": "Honduras",
         "marker": {
          "color": "#00cc96",
          "symbol": "circle"
         },
         "mode": "markers",
         "name": "Honduras",
         "orientation": "v",
         "showlegend": true,
         "x": [
          46432
         ],
         "xaxis": "x",
         "y": [
          1092
         ],
         "yaxis": "y",
         "type": "scatter"
        },
        {
         "customdata": [
          [
           "Laos"
          ]
         ],
         "hovertemplate": "Country=%{customdata[0]}<br>TotCases1Mpop=%{x}<br>Deaths1Mpop=%{y}<extra></extra>",
         "legendgroup": "Laos",
         "marker": {
          "color": "#ab63fa",
          "symbol": "circle"
         },
         "mode": "markers",
         "name": "Laos",
         "orientation": "v",
         "showlegend": true,
         "x": [
          29270
         ],
         "xaxis": "x",
         "y": [
          101
         ],
         "yaxis": "y",
         "type": "scatter"
        },
        {
         "customdata": [
          [
           "Myanmar"
          ]
         ],
         "hovertemplate": "Country=%{customdata[0]}<br>TotCases1Mpop=%{x}<br>Deaths1Mpop=%{y}<extra></extra>",
         "legendgroup": "Myanmar",
         "marker": {
          "color": "#FFA15A",
          "symbol": "circle"
         },
         "mode": "markers",
         "name": "Myanmar",
         "orientation": "v",
         "showlegend": true,
         "x": [
          11622
         ],
         "xaxis": "x",
         "y": [
          353
         ],
         "yaxis": "y",
         "type": "scatter"
        },
        {
         "customdata": [
          [
           "Ghana"
          ]
         ],
         "hovertemplate": "Country=%{customdata[0]}<br>TotCases1Mpop=%{x}<br>Deaths1Mpop=%{y}<extra></extra>",
         "legendgroup": "Ghana",
         "marker": {
          "color": "#19d3f3",
          "symbol": "circle"
         },
         "mode": "markers",
         "name": "Ghana",
         "orientation": "v",
         "showlegend": true,
         "x": [
          5306
         ],
         "xaxis": "x",
         "y": [
          45
         ],
         "yaxis": "y",
         "type": "scatter"
        },
        {
         "customdata": [
          [
           "Kenya"
          ]
         ],
         "hovertemplate": "Country=%{customdata[0]}<br>TotCases1Mpop=%{x}<br>Deaths1Mpop=%{y}<extra></extra>",
         "legendgroup": "Kenya",
         "marker": {
          "color": "#FF6692",
          "symbol": "circle"
         },
         "mode": "markers",
         "name": "Kenya",
         "orientation": "v",
         "showlegend": true,
         "x": [
          6122
         ],
         "xaxis": "x",
         "y": [
          101
         ],
         "yaxis": "y",
         "type": "scatter"
        },
        {
         "customdata": [
          [
           "Nepal"
          ]
         ],
         "hovertemplate": "Country=%{customdata[0]}<br>TotCases1Mpop=%{x}<br>Deaths1Mpop=%{y}<extra></extra>",
         "legendgroup": "Nepal",
         "marker": {
          "color": "#B6E880",
          "symbol": "circle"
         },
         "mode": "markers",
         "name": "Nepal",
         "orientation": "v",
         "showlegend": true,
         "x": [
          33199
         ],
         "xaxis": "x",
         "y": [
          398
         ],
         "yaxis": "y",
         "type": "scatter"
        },
        {
         "customdata": [
          [
           "Cambodia"
          ]
         ],
         "hovertemplate": "Country=%{customdata[0]}<br>TotCases1Mpop=%{x}<br>Deaths1Mpop=%{y}<extra></extra>",
         "legendgroup": "Cambodia",
         "marker": {
          "color": "#FF97FF",
          "symbol": "circle"
         },
         "mode": "markers",
         "name": "Cambodia",
         "orientation": "v",
         "showlegend": true,
         "x": [
          8102
         ],
         "xaxis": "x",
         "y": [
          178
         ],
         "yaxis": "y",
         "type": "scatter"
        },
        {
         "customdata": [
          [
           "Congo"
          ]
         ],
         "hovertemplate": "Country=%{customdata[0]}<br>TotCases1Mpop=%{x}<br>Deaths1Mpop=%{y}<extra></extra>",
         "legendgroup": "Congo",
         "marker": {
          "color": "#FECB52",
          "symbol": "circle"
         },
         "mode": "markers",
         "name": "Congo",
         "orientation": "v",
         "showlegend": true,
         "x": [
          4377
         ],
         "xaxis": "x",
         "y": [
          67
         ],
         "yaxis": "y",
         "type": "scatter"
        },
        {
         "customdata": [
          [
           "Angola"
          ]
         ],
         "hovertemplate": "Country=%{customdata[0]}<br>TotCases1Mpop=%{x}<br>Deaths1Mpop=%{y}<extra></extra>",
         "legendgroup": "Angola",
         "marker": {
          "color": "#636efa",
          "symbol": "circle"
         },
         "mode": "markers",
         "name": "Angola",
         "orientation": "v",
         "showlegend": true,
         "x": [
          3064
         ],
         "xaxis": "x",
         "y": [
          55
         ],
         "yaxis": "y",
         "type": "scatter"
        },
        {
         "customdata": [
          [
           "Cameroon"
          ]
         ],
         "hovertemplate": "Country=%{customdata[0]}<br>TotCases1Mpop=%{x}<br>Deaths1Mpop=%{y}<extra></extra>",
         "legendgroup": "Cameroon",
         "marker": {
          "color": "#EF553B",
          "symbol": "circle"
         },
         "mode": "markers",
         "name": "Cameroon",
         "orientation": "v",
         "showlegend": true,
         "x": [
          4492
         ],
         "xaxis": "x",
         "y": [
          71
         ],
         "yaxis": "y",
         "type": "scatter"
        },
        {
         "customdata": [
          [
           "Zambia"
          ]
         ],
         "hovertemplate": "Country=%{customdata[0]}<br>TotCases1Mpop=%{x}<br>Deaths1Mpop=%{y}<extra></extra>",
         "legendgroup": "Zambia",
         "marker": {
          "color": "#00cc96",
          "symbol": "circle"
         },
         "mode": "markers",
         "name": "Zambia",
         "orientation": "v",
         "showlegend": true,
         "x": [
          17940
         ],
         "xaxis": "x",
         "y": [
          209
         ],
         "yaxis": "y",
         "type": "scatter"
        },
        {
         "customdata": [
          [
           "Papua New Guinea"
          ]
         ],
         "hovertemplate": "Country=%{customdata[0]}<br>TotCases1Mpop=%{x}<br>Deaths1Mpop=%{y}<extra></extra>",
         "legendgroup": "Papua New Guinea",
         "marker": {
          "color": "#ab63fa",
          "symbol": "circle"
         },
         "mode": "markers",
         "name": "Papua New Guinea",
         "orientation": "v",
         "showlegend": true,
         "x": [
          5043
         ],
         "xaxis": "x",
         "y": [
          72
         ],
         "yaxis": "y",
         "type": "scatter"
        },
        {
         "customdata": [
          [
           "Haiti"
          ]
         ],
         "hovertemplate": "Country=%{customdata[0]}<br>TotCases1Mpop=%{x}<br>Deaths1Mpop=%{y}<extra></extra>",
         "legendgroup": "Haiti",
         "marker": {
          "color": "#FFA15A",
          "symbol": "circle"
         },
         "mode": "markers",
         "name": "Haiti",
         "orientation": "v",
         "showlegend": true,
         "x": [
          2968
         ],
         "xaxis": "x",
         "y": [
          74
         ],
         "yaxis": "y",
         "type": "scatter"
        },
        {
         "customdata": [
          [
           "Uganda"
          ]
         ],
         "hovertemplate": "Country=%{customdata[0]}<br>TotCases1Mpop=%{x}<br>Deaths1Mpop=%{y}<extra></extra>",
         "legendgroup": "Uganda",
         "marker": {
          "color": "#19d3f3",
          "symbol": "circle"
         },
         "mode": "markers",
         "name": "Uganda",
         "orientation": "v",
         "showlegend": true,
         "x": [
          3554
         ],
         "xaxis": "x",
         "y": [
          75
         ],
         "yaxis": "y",
         "type": "scatter"
        },
        {
         "customdata": [
          [
           "Zimbabwe"
          ]
         ],
         "hovertemplate": "Country=%{customdata[0]}<br>TotCases1Mpop=%{x}<br>Deaths1Mpop=%{y}<extra></extra>",
         "legendgroup": "Zimbabwe",
         "marker": {
          "color": "#FF6692",
          "symbol": "circle"
         },
         "mode": "markers",
         "name": "Zimbabwe",
         "orientation": "v",
         "showlegend": true,
         "x": [
          17373
         ],
         "xaxis": "x",
         "y": [
          374
         ],
         "yaxis": "y",
         "type": "scatter"
        },
        {
         "customdata": [
          [
           "Nigeria"
          ]
         ],
         "hovertemplate": "Country=%{customdata[0]}<br>TotCases1Mpop=%{x}<br>Deaths1Mpop=%{y}<extra></extra>",
         "legendgroup": "Nigeria",
         "marker": {
          "color": "#B6E880",
          "symbol": "circle"
         },
         "mode": "markers",
         "name": "Nigeria",
         "orientation": "v",
         "showlegend": true,
         "x": [
          1233
         ],
         "xaxis": "x",
         "y": [
          15
         ],
         "yaxis": "y",
         "type": "scatter"
        },
        {
         "customdata": [
          [
           "Rwanda"
          ]
         ],
         "hovertemplate": "Country=%{customdata[0]}<br>TotCases1Mpop=%{x}<br>Deaths1Mpop=%{y}<extra></extra>",
         "legendgroup": "Rwanda",
         "marker": {
          "color": "#FF97FF",
          "symbol": "circle"
         },
         "mode": "markers",
         "name": "Rwanda",
         "orientation": "v",
         "showlegend": true,
         "x": [
          9817
         ],
         "xaxis": "x",
         "y": [
          108
         ],
         "yaxis": "y",
         "type": "scatter"
        },
        {
         "customdata": [
          [
           "Togo"
          ]
         ],
         "hovertemplate": "Country=%{customdata[0]}<br>TotCases1Mpop=%{x}<br>Deaths1Mpop=%{y}<extra></extra>",
         "legendgroup": "Togo",
         "marker": {
          "color": "#FECB52",
          "symbol": "circle"
         },
         "mode": "markers",
         "name": "Togo",
         "orientation": "v",
         "showlegend": true,
         "x": [
          4559
         ],
         "xaxis": "x",
         "y": [
          33
         ],
         "yaxis": "y",
         "type": "scatter"
        },
        {
         "customdata": [
          [
           "Pakistan"
          ]
         ],
         "hovertemplate": "Country=%{customdata[0]}<br>TotCases1Mpop=%{x}<br>Deaths1Mpop=%{y}<extra></extra>",
         "legendgroup": "Pakistan",
         "marker": {
          "color": "#636efa",
          "symbol": "circle"
         },
         "mode": "markers",
         "name": "Pakistan",
         "orientation": "v",
         "showlegend": true,
         "x": [
          6893
         ],
         "xaxis": "x",
         "y": [
          134
         ],
         "yaxis": "y",
         "type": "scatter"
        },
        {
         "customdata": [
          [
           "Ivory Coast"
          ]
         ],
         "hovertemplate": "Country=%{customdata[0]}<br>TotCases1Mpop=%{x}<br>Deaths1Mpop=%{y}<extra></extra>",
         "legendgroup": "Ivory Coast",
         "marker": {
          "color": "#EF553B",
          "symbol": "circle"
         },
         "mode": "markers",
         "name": "Ivory Coast",
         "orientation": "v",
         "showlegend": true,
         "x": [
          3186
         ],
         "xaxis": "x",
         "y": [
          30
         ],
         "yaxis": "y",
         "type": "scatter"
        },
        {
         "customdata": [
          [
           "Senegal"
          ]
         ],
         "hovertemplate": "Country=%{customdata[0]}<br>TotCases1Mpop=%{x}<br>Deaths1Mpop=%{y}<extra></extra>",
         "legendgroup": "Senegal",
         "marker": {
          "color": "#00cc96",
          "symbol": "circle"
         },
         "mode": "markers",
         "name": "Senegal",
         "orientation": "v",
         "showlegend": true,
         "x": [
          5044
         ],
         "xaxis": "x",
         "y": [
          112
         ],
         "yaxis": "y",
         "type": "scatter"
        },
        {
         "customdata": [
          [
           "Sudan"
          ]
         ],
         "hovertemplate": "Country=%{customdata[0]}<br>TotCases1Mpop=%{x}<br>Deaths1Mpop=%{y}<extra></extra>",
         "legendgroup": "Sudan",
         "marker": {
          "color": "#ab63fa",
          "symbol": "circle"
         },
         "mode": "markers",
         "name": "Sudan",
         "orientation": "v",
         "showlegend": true,
         "x": [
          1391
         ],
         "xaxis": "x",
         "y": [
          110
         ],
         "yaxis": "y",
         "type": "scatter"
        },
        {
         "customdata": [
          [
           "Malawi"
          ]
         ],
         "hovertemplate": "Country=%{customdata[0]}<br>TotCases1Mpop=%{x}<br>Deaths1Mpop=%{y}<extra></extra>",
         "legendgroup": "Malawi",
         "marker": {
          "color": "#FFA15A",
          "symbol": "circle"
         },
         "mode": "markers",
         "name": "Malawi",
         "orientation": "v",
         "showlegend": true,
         "x": [
          4437
         ],
         "xaxis": "x",
         "y": [
          133
         ],
         "yaxis": "y",
         "type": "scatter"
        },
        {
         "customdata": [
          [
           "Benin"
          ]
         ],
         "hovertemplate": "Country=%{customdata[0]}<br>TotCases1Mpop=%{x}<br>Deaths1Mpop=%{y}<extra></extra>",
         "legendgroup": "Benin",
         "marker": {
          "color": "#19d3f3",
          "symbol": "circle"
         },
         "mode": "markers",
         "name": "Benin",
         "orientation": "v",
         "showlegend": true,
         "x": [
          2193
         ],
         "xaxis": "x",
         "y": [
          13
         ],
         "yaxis": "y",
         "type": "scatter"
        },
        {
         "customdata": [
          [
           "Ethiopia"
          ]
         ],
         "hovertemplate": "Country=%{customdata[0]}<br>TotCases1Mpop=%{x}<br>Deaths1Mpop=%{y}<extra></extra>",
         "legendgroup": "Ethiopia",
         "marker": {
          "color": "#FF6692",
          "symbol": "circle"
         },
         "mode": "markers",
         "name": "Ethiopia",
         "orientation": "v",
         "showlegend": true,
         "x": [
          4148
         ],
         "xaxis": "x",
         "y": [
          63
         ],
         "yaxis": "y",
         "type": "scatter"
        },
        {
         "customdata": [
          [
           "Liberia"
          ]
         ],
         "hovertemplate": "Country=%{customdata[0]}<br>TotCases1Mpop=%{x}<br>Deaths1Mpop=%{y}<extra></extra>",
         "legendgroup": "Liberia",
         "marker": {
          "color": "#B6E880",
          "symbol": "circle"
         },
         "mode": "markers",
         "name": "Liberia",
         "orientation": "v",
         "showlegend": true,
         "x": [
          1525
         ],
         "xaxis": "x",
         "y": [
          56
         ],
         "yaxis": "y",
         "type": "scatter"
        },
        {
         "customdata": [
          [
           "Madagascar"
          ]
         ],
         "hovertemplate": "Country=%{customdata[0]}<br>TotCases1Mpop=%{x}<br>Deaths1Mpop=%{y}<extra></extra>",
         "legendgroup": "Madagascar",
         "marker": {
          "color": "#FF97FF",
          "symbol": "circle"
         },
         "mode": "markers",
         "name": "Madagascar",
         "orientation": "v",
         "showlegend": true,
         "x": [
          2347
         ],
         "xaxis": "x",
         "y": [
          49
         ],
         "yaxis": "y",
         "type": "scatter"
        },
        {
         "customdata": [
          [
           "DR Congo"
          ]
         ],
         "hovertemplate": "Country=%{customdata[0]}<br>TotCases1Mpop=%{x}<br>Deaths1Mpop=%{y}<extra></extra>",
         "legendgroup": "DR Congo",
         "marker": {
          "color": "#FECB52",
          "symbol": "circle"
         },
         "mode": "markers",
         "name": "DR Congo",
         "orientation": "v",
         "showlegend": true,
         "x": [
          1043
         ],
         "xaxis": "x",
         "y": [
          15
         ],
         "yaxis": "y",
         "type": "scatter"
        },
        {
         "customdata": [
          [
           "Guinea"
          ]
         ],
         "hovertemplate": "Country=%{customdata[0]}<br>TotCases1Mpop=%{x}<br>Deaths1Mpop=%{y}<extra></extra>",
         "legendgroup": "Guinea",
         "marker": {
          "color": "#636efa",
          "symbol": "circle"
         },
         "mode": "markers",
         "name": "Guinea",
         "orientation": "v",
         "showlegend": true,
         "x": [
          2782
         ],
         "xaxis": "x",
         "y": [
          34
         ],
         "yaxis": "y",
         "type": "scatter"
        },
        {
         "customdata": [
          [
           "Mozambique"
          ]
         ],
         "hovertemplate": "Country=%{customdata[0]}<br>TotCases1Mpop=%{x}<br>Deaths1Mpop=%{y}<extra></extra>",
         "legendgroup": "Mozambique",
         "marker": {
          "color": "#EF553B",
          "symbol": "circle"
         },
         "mode": "markers",
         "name": "Mozambique",
         "orientation": "v",
         "showlegend": true,
         "x": [
          7064
         ],
         "xaxis": "x",
         "y": [
          68
         ],
         "yaxis": "y",
         "type": "scatter"
        },
        {
         "customdata": [
          [
           "Sierra Leone"
          ]
         ],
         "hovertemplate": "Country=%{customdata[0]}<br>TotCases1Mpop=%{x}<br>Deaths1Mpop=%{y}<extra></extra>",
         "legendgroup": "Sierra Leone",
         "marker": {
          "color": "#00cc96",
          "symbol": "circle"
         },
         "mode": "markers",
         "name": "Sierra Leone",
         "orientation": "v",
         "showlegend": true,
         "x": [
          937
         ],
         "xaxis": "x",
         "y": [
          15
         ],
         "yaxis": "y",
         "type": "scatter"
        },
        {
         "customdata": [
          [
           "Burkina Faso"
          ]
         ],
         "hovertemplate": "Country=%{customdata[0]}<br>TotCases1Mpop=%{x}<br>Deaths1Mpop=%{y}<extra></extra>",
         "legendgroup": "Burkina Faso",
         "marker": {
          "color": "#ab63fa",
          "symbol": "circle"
         },
         "mode": "markers",
         "name": "Burkina Faso",
         "orientation": "v",
         "showlegend": true,
         "x": [
          1000
         ],
         "xaxis": "x",
         "y": [
          18
         ],
         "yaxis": "y",
         "type": "scatter"
        },
        {
         "customdata": [
          [
           "Burundi"
          ]
         ],
         "hovertemplate": "Country=%{customdata[0]}<br>TotCases1Mpop=%{x}<br>Deaths1Mpop=%{y}<extra></extra>",
         "legendgroup": "Burundi",
         "marker": {
          "color": "#FFA15A",
          "symbol": "circle"
         },
         "mode": "markers",
         "name": "Burundi",
         "orientation": "v",
         "showlegend": true,
         "x": [
          4334
         ],
         "xaxis": "x",
         "y": [
          3
         ],
         "yaxis": "y",
         "type": "scatter"
        },
        {
         "customdata": [
          [
           "Mali"
          ]
         ],
         "hovertemplate": "Country=%{customdata[0]}<br>TotCases1Mpop=%{x}<br>Deaths1Mpop=%{y}<extra></extra>",
         "legendgroup": "Mali",
         "marker": {
          "color": "#19d3f3",
          "symbol": "circle"
         },
         "mode": "markers",
         "name": "Mali",
         "orientation": "v",
         "showlegend": true,
         "x": [
          1544
         ],
         "xaxis": "x",
         "y": [
          35
         ],
         "yaxis": "y",
         "type": "scatter"
        },
        {
         "customdata": [
          [
           "Chad"
          ]
         ],
         "hovertemplate": "Country=%{customdata[0]}<br>TotCases1Mpop=%{x}<br>Deaths1Mpop=%{y}<extra></extra>",
         "legendgroup": "Chad",
         "marker": {
          "color": "#FF6692",
          "symbol": "circle"
         },
         "mode": "markers",
         "name": "Chad",
         "orientation": "v",
         "showlegend": true,
         "x": [
          442
         ],
         "xaxis": "x",
         "y": [
          11
         ],
         "yaxis": "y",
         "type": "scatter"
        },
        {
         "customdata": [
          [
           "Niger"
          ]
         ],
         "hovertemplate": "Country=%{customdata[0]}<br>TotCases1Mpop=%{x}<br>Deaths1Mpop=%{y}<extra></extra>",
         "legendgroup": "Niger",
         "marker": {
          "color": "#B6E880",
          "symbol": "circle"
         },
         "mode": "markers",
         "name": "Niger",
         "orientation": "v",
         "showlegend": true,
         "x": [
          381
         ],
         "xaxis": "x",
         "y": [
          12
         ],
         "yaxis": "y",
         "type": "scatter"
        },
        {
         "customdata": [
          [
           "Central African Republic"
          ]
         ],
         "hovertemplate": "Country=%{customdata[0]}<br>TotCases1Mpop=%{x}<br>Deaths1Mpop=%{y}<extra></extra>",
         "legendgroup": "Central African Republic",
         "marker": {
          "color": "#FF97FF",
          "symbol": "circle"
         },
         "mode": "markers",
         "name": "Central African Republic",
         "orientation": "v",
         "showlegend": true,
         "x": [
          3078
         ],
         "xaxis": "x",
         "y": [
          23
         ],
         "yaxis": "y",
         "type": "scatter"
        }
       ],
       "layout": {
        "template": {
         "data": {
          "histogram2dcontour": [
           {
            "type": "histogram2dcontour",
            "colorbar": {
             "outlinewidth": 0,
             "ticks": ""
            },
            "colorscale": [
             [
              0.0,
              "#0d0887"
             ],
             [
              0.1111111111111111,
              "#46039f"
             ],
             [
              0.2222222222222222,
              "#7201a8"
             ],
             [
              0.3333333333333333,
              "#9c179e"
             ],
             [
              0.4444444444444444,
              "#bd3786"
             ],
             [
              0.5555555555555556,
              "#d8576b"
             ],
             [
              0.6666666666666666,
              "#ed7953"
             ],
             [
              0.7777777777777778,
              "#fb9f3a"
             ],
             [
              0.8888888888888888,
              "#fdca26"
             ],
             [
              1.0,
              "#f0f921"
             ]
            ]
           }
          ],
          "choropleth": [
           {
            "type": "choropleth",
            "colorbar": {
             "outlinewidth": 0,
             "ticks": ""
            }
           }
          ],
          "histogram2d": [
           {
            "type": "histogram2d",
            "colorbar": {
             "outlinewidth": 0,
             "ticks": ""
            },
            "colorscale": [
             [
              0.0,
              "#0d0887"
             ],
             [
              0.1111111111111111,
              "#46039f"
             ],
             [
              0.2222222222222222,
              "#7201a8"
             ],
             [
              0.3333333333333333,
              "#9c179e"
             ],
             [
              0.4444444444444444,
              "#bd3786"
             ],
             [
              0.5555555555555556,
              "#d8576b"
             ],
             [
              0.6666666666666666,
              "#ed7953"
             ],
             [
              0.7777777777777778,
              "#fb9f3a"
             ],
             [
              0.8888888888888888,
              "#fdca26"
             ],
             [
              1.0,
              "#f0f921"
             ]
            ]
           }
          ],
          "heatmap": [
           {
            "type": "heatmap",
            "colorbar": {
             "outlinewidth": 0,
             "ticks": ""
            },
            "colorscale": [
             [
              0.0,
              "#0d0887"
             ],
             [
              0.1111111111111111,
              "#46039f"
             ],
             [
              0.2222222222222222,
              "#7201a8"
             ],
             [
              0.3333333333333333,
              "#9c179e"
             ],
             [
              0.4444444444444444,
              "#bd3786"
             ],
             [
              0.5555555555555556,
              "#d8576b"
             ],
             [
              0.6666666666666666,
              "#ed7953"
             ],
             [
              0.7777777777777778,
              "#fb9f3a"
             ],
             [
              0.8888888888888888,
              "#fdca26"
             ],
             [
              1.0,
              "#f0f921"
             ]
            ]
           }
          ],
          "heatmapgl": [
           {
            "type": "heatmapgl",
            "colorbar": {
             "outlinewidth": 0,
             "ticks": ""
            },
            "colorscale": [
             [
              0.0,
              "#0d0887"
             ],
             [
              0.1111111111111111,
              "#46039f"
             ],
             [
              0.2222222222222222,
              "#7201a8"
             ],
             [
              0.3333333333333333,
              "#9c179e"
             ],
             [
              0.4444444444444444,
              "#bd3786"
             ],
             [
              0.5555555555555556,
              "#d8576b"
             ],
             [
              0.6666666666666666,
              "#ed7953"
             ],
             [
              0.7777777777777778,
              "#fb9f3a"
             ],
             [
              0.8888888888888888,
              "#fdca26"
             ],
             [
              1.0,
              "#f0f921"
             ]
            ]
           }
          ],
          "contourcarpet": [
           {
            "type": "contourcarpet",
            "colorbar": {
             "outlinewidth": 0,
             "ticks": ""
            }
           }
          ],
          "contour": [
           {
            "type": "contour",
            "colorbar": {
             "outlinewidth": 0,
             "ticks": ""
            },
            "colorscale": [
             [
              0.0,
              "#0d0887"
             ],
             [
              0.1111111111111111,
              "#46039f"
             ],
             [
              0.2222222222222222,
              "#7201a8"
             ],
             [
              0.3333333333333333,
              "#9c179e"
             ],
             [
              0.4444444444444444,
              "#bd3786"
             ],
             [
              0.5555555555555556,
              "#d8576b"
             ],
             [
              0.6666666666666666,
              "#ed7953"
             ],
             [
              0.7777777777777778,
              "#fb9f3a"
             ],
             [
              0.8888888888888888,
              "#fdca26"
             ],
             [
              1.0,
              "#f0f921"
             ]
            ]
           }
          ],
          "surface": [
           {
            "type": "surface",
            "colorbar": {
             "outlinewidth": 0,
             "ticks": ""
            },
            "colorscale": [
             [
              0.0,
              "#0d0887"
             ],
             [
              0.1111111111111111,
              "#46039f"
             ],
             [
              0.2222222222222222,
              "#7201a8"
             ],
             [
              0.3333333333333333,
              "#9c179e"
             ],
             [
              0.4444444444444444,
              "#bd3786"
             ],
             [
              0.5555555555555556,
              "#d8576b"
             ],
             [
              0.6666666666666666,
              "#ed7953"
             ],
             [
              0.7777777777777778,
              "#fb9f3a"
             ],
             [
              0.8888888888888888,
              "#fdca26"
             ],
             [
              1.0,
              "#f0f921"
             ]
            ]
           }
          ],
          "mesh3d": [
           {
            "type": "mesh3d",
            "colorbar": {
             "outlinewidth": 0,
             "ticks": ""
            }
           }
          ],
          "scatter": [
           {
            "fillpattern": {
             "fillmode": "overlay",
             "size": 10,
             "solidity": 0.2
            },
            "type": "scatter"
           }
          ],
          "parcoords": [
           {
            "type": "parcoords",
            "line": {
             "colorbar": {
              "outlinewidth": 0,
              "ticks": ""
             }
            }
           }
          ],
          "scatterpolargl": [
           {
            "type": "scatterpolargl",
            "marker": {
             "colorbar": {
              "outlinewidth": 0,
              "ticks": ""
             }
            }
           }
          ],
          "bar": [
           {
            "error_x": {
             "color": "#2a3f5f"
            },
            "error_y": {
             "color": "#2a3f5f"
            },
            "marker": {
             "line": {
              "color": "#E5ECF6",
              "width": 0.5
             },
             "pattern": {
              "fillmode": "overlay",
              "size": 10,
              "solidity": 0.2
             }
            },
            "type": "bar"
           }
          ],
          "scattergeo": [
           {
            "type": "scattergeo",
            "marker": {
             "colorbar": {
              "outlinewidth": 0,
              "ticks": ""
             }
            }
           }
          ],
          "scatterpolar": [
           {
            "type": "scatterpolar",
            "marker": {
             "colorbar": {
              "outlinewidth": 0,
              "ticks": ""
             }
            }
           }
          ],
          "histogram": [
           {
            "marker": {
             "pattern": {
              "fillmode": "overlay",
              "size": 10,
              "solidity": 0.2
             }
            },
            "type": "histogram"
           }
          ],
          "scattergl": [
           {
            "type": "scattergl",
            "marker": {
             "colorbar": {
              "outlinewidth": 0,
              "ticks": ""
             }
            }
           }
          ],
          "scatter3d": [
           {
            "type": "scatter3d",
            "line": {
             "colorbar": {
              "outlinewidth": 0,
              "ticks": ""
             }
            },
            "marker": {
             "colorbar": {
              "outlinewidth": 0,
              "ticks": ""
             }
            }
           }
          ],
          "scattermapbox": [
           {
            "type": "scattermapbox",
            "marker": {
             "colorbar": {
              "outlinewidth": 0,
              "ticks": ""
             }
            }
           }
          ],
          "scatterternary": [
           {
            "type": "scatterternary",
            "marker": {
             "colorbar": {
              "outlinewidth": 0,
              "ticks": ""
             }
            }
           }
          ],
          "scattercarpet": [
           {
            "type": "scattercarpet",
            "marker": {
             "colorbar": {
              "outlinewidth": 0,
              "ticks": ""
             }
            }
           }
          ],
          "carpet": [
           {
            "aaxis": {
             "endlinecolor": "#2a3f5f",
             "gridcolor": "white",
             "linecolor": "white",
             "minorgridcolor": "white",
             "startlinecolor": "#2a3f5f"
            },
            "baxis": {
             "endlinecolor": "#2a3f5f",
             "gridcolor": "white",
             "linecolor": "white",
             "minorgridcolor": "white",
             "startlinecolor": "#2a3f5f"
            },
            "type": "carpet"
           }
          ],
          "table": [
           {
            "cells": {
             "fill": {
              "color": "#EBF0F8"
             },
             "line": {
              "color": "white"
             }
            },
            "header": {
             "fill": {
              "color": "#C8D4E3"
             },
             "line": {
              "color": "white"
             }
            },
            "type": "table"
           }
          ],
          "barpolar": [
           {
            "marker": {
             "line": {
              "color": "#E5ECF6",
              "width": 0.5
             },
             "pattern": {
              "fillmode": "overlay",
              "size": 10,
              "solidity": 0.2
             }
            },
            "type": "barpolar"
           }
          ],
          "pie": [
           {
            "automargin": true,
            "type": "pie"
           }
          ]
         },
         "layout": {
          "autotypenumbers": "strict",
          "colorway": [
           "#636efa",
           "#EF553B",
           "#00cc96",
           "#ab63fa",
           "#FFA15A",
           "#19d3f3",
           "#FF6692",
           "#B6E880",
           "#FF97FF",
           "#FECB52"
          ],
          "font": {
           "color": "#2a3f5f"
          },
          "hovermode": "closest",
          "hoverlabel": {
           "align": "left"
          },
          "paper_bgcolor": "white",
          "plot_bgcolor": "#E5ECF6",
          "polar": {
           "bgcolor": "#E5ECF6",
           "angularaxis": {
            "gridcolor": "white",
            "linecolor": "white",
            "ticks": ""
           },
           "radialaxis": {
            "gridcolor": "white",
            "linecolor": "white",
            "ticks": ""
           }
          },
          "ternary": {
           "bgcolor": "#E5ECF6",
           "aaxis": {
            "gridcolor": "white",
            "linecolor": "white",
            "ticks": ""
           },
           "baxis": {
            "gridcolor": "white",
            "linecolor": "white",
            "ticks": ""
           },
           "caxis": {
            "gridcolor": "white",
            "linecolor": "white",
            "ticks": ""
           }
          },
          "coloraxis": {
           "colorbar": {
            "outlinewidth": 0,
            "ticks": ""
           }
          },
          "colorscale": {
           "sequential": [
            [
             0.0,
             "#0d0887"
            ],
            [
             0.1111111111111111,
             "#46039f"
            ],
            [
             0.2222222222222222,
             "#7201a8"
            ],
            [
             0.3333333333333333,
             "#9c179e"
            ],
            [
             0.4444444444444444,
             "#bd3786"
            ],
            [
             0.5555555555555556,
             "#d8576b"
            ],
            [
             0.6666666666666666,
             "#ed7953"
            ],
            [
             0.7777777777777778,
             "#fb9f3a"
            ],
            [
             0.8888888888888888,
             "#fdca26"
            ],
            [
             1.0,
             "#f0f921"
            ]
           ],
           "sequentialminus": [
            [
             0.0,
             "#0d0887"
            ],
            [
             0.1111111111111111,
             "#46039f"
            ],
            [
             0.2222222222222222,
             "#7201a8"
            ],
            [
             0.3333333333333333,
             "#9c179e"
            ],
            [
             0.4444444444444444,
             "#bd3786"
            ],
            [
             0.5555555555555556,
             "#d8576b"
            ],
            [
             0.6666666666666666,
             "#ed7953"
            ],
            [
             0.7777777777777778,
             "#fb9f3a"
            ],
            [
             0.8888888888888888,
             "#fdca26"
            ],
            [
             1.0,
             "#f0f921"
            ]
           ],
           "diverging": [
            [
             0,
             "#8e0152"
            ],
            [
             0.1,
             "#c51b7d"
            ],
            [
             0.2,
             "#de77ae"
            ],
            [
             0.3,
             "#f1b6da"
            ],
            [
             0.4,
             "#fde0ef"
            ],
            [
             0.5,
             "#f7f7f7"
            ],
            [
             0.6,
             "#e6f5d0"
            ],
            [
             0.7,
             "#b8e186"
            ],
            [
             0.8,
             "#7fbc41"
            ],
            [
             0.9,
             "#4d9221"
            ],
            [
             1,
             "#276419"
            ]
           ]
          },
          "xaxis": {
           "gridcolor": "white",
           "linecolor": "white",
           "ticks": "",
           "title": {
            "standoff": 15
           },
           "zerolinecolor": "white",
           "automargin": true,
           "zerolinewidth": 2
          },
          "yaxis": {
           "gridcolor": "white",
           "linecolor": "white",
           "ticks": "",
           "title": {
            "standoff": 15
           },
           "zerolinecolor": "white",
           "automargin": true,
           "zerolinewidth": 2
          },
          "scene": {
           "xaxis": {
            "backgroundcolor": "#E5ECF6",
            "gridcolor": "white",
            "linecolor": "white",
            "showbackground": true,
            "ticks": "",
            "zerolinecolor": "white",
            "gridwidth": 2
           },
           "yaxis": {
            "backgroundcolor": "#E5ECF6",
            "gridcolor": "white",
            "linecolor": "white",
            "showbackground": true,
            "ticks": "",
            "zerolinecolor": "white",
            "gridwidth": 2
           },
           "zaxis": {
            "backgroundcolor": "#E5ECF6",
            "gridcolor": "white",
            "linecolor": "white",
            "showbackground": true,
            "ticks": "",
            "zerolinecolor": "white",
            "gridwidth": 2
           }
          },
          "shapedefaults": {
           "line": {
            "color": "#2a3f5f"
           }
          },
          "annotationdefaults": {
           "arrowcolor": "#2a3f5f",
           "arrowhead": 0,
           "arrowwidth": 1
          },
          "geo": {
           "bgcolor": "white",
           "landcolor": "#E5ECF6",
           "subunitcolor": "white",
           "showland": true,
           "showlakes": true,
           "lakecolor": "white"
          },
          "title": {
           "x": 0.05
          },
          "mapbox": {
           "style": "light"
          }
         }
        },
        "xaxis": {
         "anchor": "y",
         "domain": [
          0.0,
          1.0
         ],
         "title": {
          "text": "TotCases1Mpop"
         }
        },
        "yaxis": {
         "anchor": "x",
         "domain": [
          0.0,
          1.0
         ],
         "title": {
          "text": "Deaths1Mpop"
         }
        },
        "legend": {
         "title": {
          "text": "Country"
         },
         "tracegroupgap": 0
        },
        "margin": {
         "t": 60
        }
       },
       "config": {
        "plotlyServerURL": "https://plot.ly"
       }
      },
      "text/html": [
       "<div>                            <div id=\"d644db38-4ca1-48a3-a877-20ae4a71aaad\" class=\"plotly-graph-div\" style=\"height:525px; width:100%;\"></div>            <script type=\"text/javascript\">                require([\"plotly\"], function(Plotly) {                    window.PLOTLYENV=window.PLOTLYENV || {};                                    if (document.getElementById(\"d644db38-4ca1-48a3-a877-20ae4a71aaad\")) {                    Plotly.newPlot(                        \"d644db38-4ca1-48a3-a877-20ae4a71aaad\",                        [{\"customdata\":[[\"Switzerland\"]],\"hovertemplate\":\"Country=%{customdata[0]}\\u003cbr\\u003eTotCases1Mpop=%{x}\\u003cbr\\u003eDeaths1Mpop=%{y}\\u003cextra\\u003e\\u003c\\u002fextra\\u003e\",\"legendgroup\":\"Switzerland\",\"marker\":{\"color\":\"#636efa\",\"symbol\":\"circle\"},\"mode\":\"markers\",\"name\":\"Switzerland\",\"orientation\":\"v\",\"showlegend\":true,\"x\":[507515],\"xaxis\":\"x\",\"y\":[1647],\"yaxis\":\"y\",\"type\":\"scatter\"},{\"customdata\":[[\"Norway\"]],\"hovertemplate\":\"Country=%{customdata[0]}\\u003cbr\\u003eTotCases1Mpop=%{x}\\u003cbr\\u003eDeaths1Mpop=%{y}\\u003cextra\\u003e\\u003c\\u002fextra\\u003e\",\"legendgroup\":\"Norway\",\"marker\":{\"color\":\"#EF553B\",\"symbol\":\"circle\"},\"mode\":\"markers\",\"name\":\"Norway\",\"orientation\":\"v\",\"showlegend\":true,\"x\":[273930],\"xaxis\":\"x\",\"y\":[1204],\"yaxis\":\"y\",\"type\":\"scatter\"},{\"customdata\":[[\"Hong Kong\"]],\"hovertemplate\":\"Country=%{customdata[0]}\\u003cbr\\u003eTotCases1Mpop=%{x}\\u003cbr\\u003eDeaths1Mpop=%{y}\\u003cextra\\u003e\\u003c\\u002fextra\\u003e\",\"legendgroup\":\"Hong Kong\",\"marker\":{\"color\":\"#00cc96\",\"symbol\":\"circle\"},\"mode\":\"markers\",\"name\":\"Hong Kong\",\"orientation\":\"v\",\"showlegend\":true,\"x\":[386217],\"xaxis\":\"x\",\"y\":[1958],\"yaxis\":\"y\",\"type\":\"scatter\"},{\"customdata\":[[\"Denmark\"]],\"hovertemplate\":\"Country=%{customdata[0]}\\u003cbr\\u003eTotCases1Mpop=%{x}\\u003cbr\\u003eDeaths1Mpop=%{y}\\u003cextra\\u003e\\u003c\\u002fextra\\u003e\",\"legendgroup\":\"Denmark\",\"marker\":{\"color\":\"#ab63fa\",\"symbol\":\"circle\"},\"mode\":\"markers\",\"name\":\"Denmark\",\"orientation\":\"v\",\"showlegend\":true,\"x\":[545636],\"xaxis\":\"x\",\"y\":[1511],\"yaxis\":\"y\",\"type\":\"scatter\"},{\"customdata\":[[\"Sweden\"]],\"hovertemplate\":\"Country=%{customdata[0]}\\u003cbr\\u003eTotCases1Mpop=%{x}\\u003cbr\\u003eDeaths1Mpop=%{y}\\u003cextra\\u003e\\u003c\\u002fextra\\u003e\",\"legendgroup\":\"Sweden\",\"marker\":{\"color\":\"#FFA15A\",\"symbol\":\"circle\"},\"mode\":\"markers\",\"name\":\"Sweden\",\"orientation\":\"v\",\"showlegend\":true,\"x\":[269494],\"xaxis\":\"x\",\"y\":[2680],\"yaxis\":\"y\",\"type\":\"scatter\"},{\"customdata\":[[\"Germany\"]],\"hovertemplate\":\"Country=%{customdata[0]}\\u003cbr\\u003eTotCases1Mpop=%{x}\\u003cbr\\u003eDeaths1Mpop=%{y}\\u003cextra\\u003e\\u003c\\u002fextra\\u003e\",\"legendgroup\":\"Germany\",\"marker\":{\"color\":\"#19d3f3\",\"symbol\":\"circle\"},\"mode\":\"markers\",\"name\":\"Germany\",\"orientation\":\"v\",\"showlegend\":true,\"x\":[462874],\"xaxis\":\"x\",\"y\":[2181],\"yaxis\":\"y\",\"type\":\"scatter\"},{\"customdata\":[[\"Ireland\"]],\"hovertemplate\":\"Country=%{customdata[0]}\\u003cbr\\u003eTotCases1Mpop=%{x}\\u003cbr\\u003eDeaths1Mpop=%{y}\\u003cextra\\u003e\\u003c\\u002fextra\\u003e\",\"legendgroup\":\"Ireland\",\"marker\":{\"color\":\"#FF6692\",\"symbol\":\"circle\"},\"mode\":\"markers\",\"name\":\"Ireland\",\"orientation\":\"v\",\"showlegend\":true,\"x\":[345521],\"xaxis\":\"x\",\"y\":[1891],\"yaxis\":\"y\",\"type\":\"scatter\"},{\"customdata\":[[\"Singapore\"]],\"hovertemplate\":\"Country=%{customdata[0]}\\u003cbr\\u003eTotCases1Mpop=%{x}\\u003cbr\\u003eDeaths1Mpop=%{y}\\u003cextra\\u003e\\u003c\\u002fextra\\u003e\",\"legendgroup\":\"Singapore\",\"marker\":{\"color\":\"#B6E880\",\"symbol\":\"circle\"},\"mode\":\"markers\",\"name\":\"Singapore\",\"orientation\":\"v\",\"showlegend\":true,\"x\":[505785],\"xaxis\":\"x\",\"y\":[341],\"yaxis\":\"y\",\"type\":\"scatter\"},{\"customdata\":[[\"Australia\"]],\"hovertemplate\":\"Country=%{customdata[0]}\\u003cbr\\u003eTotCases1Mpop=%{x}\\u003cbr\\u003eDeaths1Mpop=%{y}\\u003cextra\\u003e\\u003c\\u002fextra\\u003e\",\"legendgroup\":\"Australia\",\"marker\":{\"color\":\"#FF97FF\",\"symbol\":\"circle\"},\"mode\":\"markers\",\"name\":\"Australia\",\"orientation\":\"v\",\"showlegend\":true,\"x\":[454496],\"xaxis\":\"x\",\"y\":[935],\"yaxis\":\"y\",\"type\":\"scatter\"},{\"customdata\":[[\"Netherlands\"]],\"hovertemplate\":\"Country=%{customdata[0]}\\u003cbr\\u003eTotCases1Mpop=%{x}\\u003cbr\\u003eDeaths1Mpop=%{y}\\u003cextra\\u003e\\u003c\\u002fextra\\u003e\",\"legendgroup\":\"Netherlands\",\"marker\":{\"color\":\"#FECB52\",\"symbol\":\"circle\"},\"mode\":\"markers\",\"name\":\"Netherlands\",\"orientation\":\"v\",\"showlegend\":true,\"x\":[501735],\"xaxis\":\"x\",\"y\":[1336],\"yaxis\":\"y\",\"type\":\"scatter\"},{\"customdata\":[[\"Belgium\"]],\"hovertemplate\":\"Country=%{customdata[0]}\\u003cbr\\u003eTotCases1Mpop=%{x}\\u003cbr\\u003eDeaths1Mpop=%{y}\\u003cextra\\u003e\\u003c\\u002fextra\\u003e\",\"legendgroup\":\"Belgium\",\"marker\":{\"color\":\"#636efa\",\"symbol\":\"circle\"},\"mode\":\"markers\",\"name\":\"Belgium\",\"orientation\":\"v\",\"showlegend\":true,\"x\":[416644],\"xaxis\":\"x\",\"y\":[2946],\"yaxis\":\"y\",\"type\":\"scatter\"},{\"customdata\":[[\"Finland\"]],\"hovertemplate\":\"Country=%{customdata[0]}\\u003cbr\\u003eTotCases1Mpop=%{x}\\u003cbr\\u003eDeaths1Mpop=%{y}\\u003cextra\\u003e\\u003c\\u002fextra\\u003e\",\"legendgroup\":\"Finland\",\"marker\":{\"color\":\"#EF553B\",\"symbol\":\"circle\"},\"mode\":\"markers\",\"name\":\"Finland\",\"orientation\":\"v\",\"showlegend\":true,\"x\":[272930],\"xaxis\":\"x\",\"y\":[2153],\"yaxis\":\"y\",\"type\":\"scatter\"},{\"customdata\":[[\"United Kingdom\"]],\"hovertemplate\":\"Country=%{customdata[0]}\\u003cbr\\u003eTotCases1Mpop=%{x}\\u003cbr\\u003eDeaths1Mpop=%{y}\\u003cextra\\u003e\\u003c\\u002fextra\\u003e\",\"legendgroup\":\"United Kingdom\",\"marker\":{\"color\":\"#00cc96\",\"symbol\":\"circle\"},\"mode\":\"markers\",\"name\":\"United Kingdom\",\"orientation\":\"v\",\"showlegend\":true,\"x\":[363666],\"xaxis\":\"x\",\"y\":[3389],\"yaxis\":\"y\",\"type\":\"scatter\"},{\"customdata\":[[\"New Zealand\"]],\"hovertemplate\":\"Country=%{customdata[0]}\\u003cbr\\u003eTotCases1Mpop=%{x}\\u003cbr\\u003eDeaths1Mpop=%{y}\\u003cextra\\u003e\\u003c\\u002fextra\\u003e\",\"legendgroup\":\"New Zealand\",\"marker\":{\"color\":\"#ab63fa\",\"symbol\":\"circle\"},\"mode\":\"markers\",\"name\":\"New Zealand\",\"orientation\":\"v\",\"showlegend\":true,\"x\":[535117],\"xaxis\":\"x\",\"y\":[1163],\"yaxis\":\"y\",\"type\":\"scatter\"},{\"customdata\":[[\"United Arab Emirates\"]],\"hovertemplate\":\"Country=%{customdata[0]}\\u003cbr\\u003eTotCases1Mpop=%{x}\\u003cbr\\u003eDeaths1Mpop=%{y}\\u003cextra\\u003e\\u003c\\u002fextra\\u003e\",\"legendgroup\":\"United Arab Emirates\",\"marker\":{\"color\":\"#FFA15A\",\"symbol\":\"circle\"},\"mode\":\"markers\",\"name\":\"United Arab Emirates\",\"orientation\":\"v\",\"showlegend\":true,\"x\":[105837],\"xaxis\":\"x\",\"y\":[233],\"yaxis\":\"y\",\"type\":\"scatter\"},{\"customdata\":[[\"Canada\"]],\"hovertemplate\":\"Country=%{customdata[0]}\\u003cbr\\u003eTotCases1Mpop=%{x}\\u003cbr\\u003eDeaths1Mpop=%{y}\\u003cextra\\u003e\\u003c\\u002fextra\\u003e\",\"legendgroup\":\"Canada\",\"marker\":{\"color\":\"#19d3f3\",\"symbol\":\"circle\"},\"mode\":\"markers\",\"name\":\"Canada\",\"orientation\":\"v\",\"showlegend\":true,\"x\":[128794],\"xaxis\":\"x\",\"y\":[1536],\"yaxis\":\"y\",\"type\":\"scatter\"},{\"customdata\":[[\"South Korea\"]],\"hovertemplate\":\"Country=%{customdata[0]}\\u003cbr\\u003eTotCases1Mpop=%{x}\\u003cbr\\u003eDeaths1Mpop=%{y}\\u003cextra\\u003e\\u003c\\u002fextra\\u003e\",\"legendgroup\":\"South Korea\",\"marker\":{\"color\":\"#FF6692\",\"symbol\":\"circle\"},\"mode\":\"markers\",\"name\":\"South Korea\",\"orientation\":\"v\",\"showlegend\":true,\"x\":[673523],\"xaxis\":\"x\",\"y\":[700],\"yaxis\":\"y\",\"type\":\"scatter\"},{\"customdata\":[[\"United States\"]],\"hovertemplate\":\"Country=%{customdata[0]}\\u003cbr\\u003eTotCases1Mpop=%{x}\\u003cbr\\u003eDeaths1Mpop=%{y}\\u003cextra\\u003e\\u003c\\u002fextra\\u003e\",\"legendgroup\":\"United States\",\"marker\":{\"color\":\"#B6E880\",\"symbol\":\"circle\"},\"mode\":\"markers\",\"name\":\"United States\",\"orientation\":\"v\",\"showlegend\":true,\"x\":[333912],\"xaxis\":\"x\",\"y\":[3642],\"yaxis\":\"y\",\"type\":\"scatter\"},{\"customdata\":[[\"Austria\"]],\"hovertemplate\":\"Country=%{customdata[0]}\\u003cbr\\u003eTotCases1Mpop=%{x}\\u003cbr\\u003eDeaths1Mpop=%{y}\\u003cextra\\u003e\\u003c\\u002fextra\\u003e\",\"legendgroup\":\"Austria\",\"marker\":{\"color\":\"#FF97FF\",\"symbol\":\"circle\"},\"mode\":\"markers\",\"name\":\"Austria\",\"orientation\":\"v\",\"showlegend\":true,\"x\":[670727],\"xaxis\":\"x\",\"y\":[2486],\"yaxis\":\"y\",\"type\":\"scatter\"},{\"customdata\":[[\"Japan\"]],\"hovertemplate\":\"Country=%{customdata[0]}\\u003cbr\\u003eTotCases1Mpop=%{x}\\u003cbr\\u003eDeaths1Mpop=%{y}\\u003cextra\\u003e\\u003c\\u002fextra\\u003e\",\"legendgroup\":\"Japan\",\"marker\":{\"color\":\"#FECB52\",\"symbol\":\"circle\"},\"mode\":\"markers\",\"name\":\"Japan\",\"orientation\":\"v\",\"showlegend\":true,\"x\":[269169],\"xaxis\":\"x\",\"y\":[595],\"yaxis\":\"y\",\"type\":\"scatter\"},{\"customdata\":[[\"Israel\"]],\"hovertemplate\":\"Country=%{customdata[0]}\\u003cbr\\u003eTotCases1Mpop=%{x}\\u003cbr\\u003eDeaths1Mpop=%{y}\\u003cextra\\u003e\\u003c\\u002fextra\\u003e\",\"legendgroup\":\"Israel\",\"marker\":{\"color\":\"#636efa\",\"symbol\":\"circle\"},\"mode\":\"markers\",\"name\":\"Israel\",\"orientation\":\"v\",\"showlegend\":true,\"x\":[519169],\"xaxis\":\"x\",\"y\":[1363],\"yaxis\":\"y\",\"type\":\"scatter\"},{\"customdata\":[[\"Spain\"]],\"hovertemplate\":\"Country=%{customdata[0]}\\u003cbr\\u003eTotCases1Mpop=%{x}\\u003cbr\\u003eDeaths1Mpop=%{y}\\u003cextra\\u003e\\u003c\\u002fextra\\u003e\",\"legendgroup\":\"Spain\",\"marker\":{\"color\":\"#EF553B\",\"symbol\":\"circle\"},\"mode\":\"markers\",\"name\":\"Spain\",\"orientation\":\"v\",\"showlegend\":true,\"x\":[297840],\"xaxis\":\"x\",\"y\":[2606],\"yaxis\":\"y\",\"type\":\"scatter\"},{\"customdata\":[[\"France\"]],\"hovertemplate\":\"Country=%{customdata[0]}\\u003cbr\\u003eTotCases1Mpop=%{x}\\u003cbr\\u003eDeaths1Mpop=%{y}\\u003cextra\\u003e\\u003c\\u002fextra\\u003e\",\"legendgroup\":\"France\",\"marker\":{\"color\":\"#00cc96\",\"symbol\":\"circle\"},\"mode\":\"markers\",\"name\":\"France\",\"orientation\":\"v\",\"showlegend\":true,\"x\":[612013],\"xaxis\":\"x\",\"y\":[2556],\"yaxis\":\"y\",\"type\":\"scatter\"},{\"customdata\":[[\"Italy\"]],\"hovertemplate\":\"Country=%{customdata[0]}\\u003cbr\\u003eTotCases1Mpop=%{x}\\u003cbr\\u003eDeaths1Mpop=%{y}\\u003cextra\\u003e\\u003c\\u002fextra\\u003e\",\"legendgroup\":\"Italy\",\"marker\":{\"color\":\"#ab63fa\",\"symbol\":\"circle\"},\"mode\":\"markers\",\"name\":\"Italy\",\"orientation\":\"v\",\"showlegend\":true,\"x\":[443437],\"xaxis\":\"x\",\"y\":[3260],\"yaxis\":\"y\",\"type\":\"scatter\"},{\"customdata\":[[\"Czechia\"]],\"hovertemplate\":\"Country=%{customdata[0]}\\u003cbr\\u003eTotCases1Mpop=%{x}\\u003cbr\\u003eDeaths1Mpop=%{y}\\u003cextra\\u003e\\u003c\\u002fextra\\u003e\",\"legendgroup\":\"Czechia\",\"marker\":{\"color\":\"#FFA15A\",\"symbol\":\"circle\"},\"mode\":\"markers\",\"name\":\"Czechia\",\"orientation\":\"v\",\"showlegend\":true,\"x\":[443246],\"xaxis\":\"x\",\"y\":[4053],\"yaxis\":\"y\",\"type\":\"scatter\"},{\"customdata\":[[\"Greece\"]],\"hovertemplate\":\"Country=%{customdata[0]}\\u003cbr\\u003eTotCases1Mpop=%{x}\\u003cbr\\u003eDeaths1Mpop=%{y}\\u003cextra\\u003e\\u003c\\u002fextra\\u003e\",\"legendgroup\":\"Greece\",\"marker\":{\"color\":\"#19d3f3\",\"symbol\":\"circle\"},\"mode\":\"markers\",\"name\":\"Greece\",\"orientation\":\"v\",\"showlegend\":true,\"x\":[591412],\"xaxis\":\"x\",\"y\":[3671],\"yaxis\":\"y\",\"type\":\"scatter\"},{\"customdata\":[[\"Poland\"]],\"hovertemplate\":\"Country=%{customdata[0]}\\u003cbr\\u003eTotCases1Mpop=%{x}\\u003cbr\\u003eDeaths1Mpop=%{y}\\u003cextra\\u003e\\u003c\\u002fextra\\u003e\",\"legendgroup\":\"Poland\",\"marker\":{\"color\":\"#FF6692\",\"symbol\":\"circle\"},\"mode\":\"markers\",\"name\":\"Poland\",\"orientation\":\"v\",\"showlegend\":true,\"x\":[176524],\"xaxis\":\"x\",\"y\":[3196],\"yaxis\":\"y\",\"type\":\"scatter\"},{\"customdata\":[[\"Saudi Arabia\"]],\"hovertemplate\":\"Country=%{customdata[0]}\\u003cbr\\u003eTotCases1Mpop=%{x}\\u003cbr\\u003eDeaths1Mpop=%{y}\\u003cextra\\u003e\\u003c\\u002fextra\\u003e\",\"legendgroup\":\"Saudi Arabia\",\"marker\":{\"color\":\"#B6E880\",\"symbol\":\"circle\"},\"mode\":\"markers\",\"name\":\"Saudi Arabia\",\"orientation\":\"v\",\"showlegend\":true,\"x\":[23475],\"xaxis\":\"x\",\"y\":[269],\"yaxis\":\"y\",\"type\":\"scatter\"},{\"customdata\":[[\"Portugal\"]],\"hovertemplate\":\"Country=%{customdata[0]}\\u003cbr\\u003eTotCases1Mpop=%{x}\\u003cbr\\u003eDeaths1Mpop=%{y}\\u003cextra\\u003e\\u003c\\u002fextra\\u003e\",\"legendgroup\":\"Portugal\",\"marker\":{\"color\":\"#FF97FF\",\"symbol\":\"circle\"},\"mode\":\"markers\",\"name\":\"Portugal\",\"orientation\":\"v\",\"showlegend\":true,\"x\":[556470],\"xaxis\":\"x\",\"y\":[2773],\"yaxis\":\"y\",\"type\":\"scatter\"},{\"customdata\":[[\"Chile\"]],\"hovertemplate\":\"Country=%{customdata[0]}\\u003cbr\\u003eTotCases1Mpop=%{x}\\u003cbr\\u003eDeaths1Mpop=%{y}\\u003cextra\\u003e\\u003c\\u002fextra\\u003e\",\"legendgroup\":\"Chile\",\"marker\":{\"color\":\"#FECB52\",\"symbol\":\"circle\"},\"mode\":\"markers\",\"name\":\"Chile\",\"orientation\":\"v\",\"showlegend\":true,\"x\":[279667],\"xaxis\":\"x\",\"y\":[3350],\"yaxis\":\"y\",\"type\":\"scatter\"},{\"customdata\":[[\"Slovakia\"]],\"hovertemplate\":\"Country=%{customdata[0]}\\u003cbr\\u003eTotCases1Mpop=%{x}\\u003cbr\\u003eDeaths1Mpop=%{y}\\u003cextra\\u003e\\u003c\\u002fextra\\u003e\",\"legendgroup\":\"Slovakia\",\"marker\":{\"color\":\"#636efa\",\"symbol\":\"circle\"},\"mode\":\"markers\",\"name\":\"Slovakia\",\"orientation\":\"v\",\"showlegend\":true,\"x\":[343872],\"xaxis\":\"x\",\"y\":[3887],\"yaxis\":\"y\",\"type\":\"scatter\"},{\"customdata\":[[\"Turkey\"]],\"hovertemplate\":\"Country=%{customdata[0]}\\u003cbr\\u003eTotCases1Mpop=%{x}\\u003cbr\\u003eDeaths1Mpop=%{y}\\u003cextra\\u003e\\u003c\\u002fextra\\u003e\",\"legendgroup\":\"Turkey\",\"marker\":{\"color\":\"#EF553B\",\"symbol\":\"circle\"},\"mode\":\"markers\",\"name\":\"Turkey\",\"orientation\":\"v\",\"showlegend\":true,\"x\":[201399],\"xaxis\":\"x\",\"y\":[1194],\"yaxis\":\"y\",\"type\":\"scatter\"},{\"customdata\":[[\"Hungary\"]],\"hovertemplate\":\"Country=%{customdata[0]}\\u003cbr\\u003eTotCases1Mpop=%{x}\\u003cbr\\u003eDeaths1Mpop=%{y}\\u003cextra\\u003e\\u003c\\u002fextra\\u003e\",\"legendgroup\":\"Hungary\",\"marker\":{\"color\":\"#00cc96\",\"symbol\":\"circle\"},\"mode\":\"markers\",\"name\":\"Hungary\",\"orientation\":\"v\",\"showlegend\":true,\"x\":[232164],\"xaxis\":\"x\",\"y\":[5106],\"yaxis\":\"y\",\"type\":\"scatter\"},{\"customdata\":[[\"Argentina\"]],\"hovertemplate\":\"Country=%{customdata[0]}\\u003cbr\\u003eTotCases1Mpop=%{x}\\u003cbr\\u003eDeaths1Mpop=%{y}\\u003cextra\\u003e\\u003c\\u002fextra\\u003e\",\"legendgroup\":\"Argentina\",\"marker\":{\"color\":\"#ab63fa\",\"symbol\":\"circle\"},\"mode\":\"markers\",\"name\":\"Argentina\",\"orientation\":\"v\",\"showlegend\":true,\"x\":[219400],\"xaxis\":\"x\",\"y\":[2841],\"yaxis\":\"y\",\"type\":\"scatter\"},{\"customdata\":[[\"Romania\"]],\"hovertemplate\":\"Country=%{customdata[0]}\\u003cbr\\u003eTotCases1Mpop=%{x}\\u003cbr\\u003eDeaths1Mpop=%{y}\\u003cextra\\u003e\\u003c\\u002fextra\\u003e\",\"legendgroup\":\"Romania\",\"marker\":{\"color\":\"#FFA15A\",\"symbol\":\"circle\"},\"mode\":\"markers\",\"name\":\"Romania\",\"orientation\":\"v\",\"showlegend\":true,\"x\":[185453],\"xaxis\":\"x\",\"y\":[3622],\"yaxis\":\"y\",\"type\":\"scatter\"},{\"customdata\":[[\"Russia\"]],\"hovertemplate\":\"Country=%{customdata[0]}\\u003cbr\\u003eTotCases1Mpop=%{x}\\u003cbr\\u003eDeaths1Mpop=%{y}\\u003cextra\\u003e\\u003c\\u002fextra\\u003e\",\"legendgroup\":\"Russia\",\"marker\":{\"color\":\"#19d3f3\",\"symbol\":\"circle\"},\"mode\":\"markers\",\"name\":\"Russia\",\"orientation\":\"v\",\"showlegend\":true,\"x\":[165317],\"xaxis\":\"x\",\"y\":[2762],\"yaxis\":\"y\",\"type\":\"scatter\"},{\"customdata\":[[\"Malaysia\"]],\"hovertemplate\":\"Country=%{customdata[0]}\\u003cbr\\u003eTotCases1Mpop=%{x}\\u003cbr\\u003eDeaths1Mpop=%{y}\\u003cextra\\u003e\\u003c\\u002fextra\\u003e\",\"legendgroup\":\"Malaysia\",\"marker\":{\"color\":\"#FF6692\",\"symbol\":\"circle\"},\"mode\":\"markers\",\"name\":\"Malaysia\",\"orientation\":\"v\",\"showlegend\":true,\"x\":[159079],\"xaxis\":\"x\",\"y\":[1126],\"yaxis\":\"y\",\"type\":\"scatter\"},{\"customdata\":[[\"Costa Rica\"]],\"hovertemplate\":\"Country=%{customdata[0]}\\u003cbr\\u003eTotCases1Mpop=%{x}\\u003cbr\\u003eDeaths1Mpop=%{y}\\u003cextra\\u003e\\u003c\\u002fextra\\u003e\",\"legendgroup\":\"Costa Rica\",\"marker\":{\"color\":\"#B6E880\",\"symbol\":\"circle\"},\"mode\":\"markers\",\"name\":\"Costa Rica\",\"orientation\":\"v\",\"showlegend\":true,\"x\":[239058],\"xaxis\":\"x\",\"y\":[1819],\"yaxis\":\"y\",\"type\":\"scatter\"},{\"customdata\":[[\"Serbia\"]],\"hovertemplate\":\"Country=%{customdata[0]}\\u003cbr\\u003eTotCases1Mpop=%{x}\\u003cbr\\u003eDeaths1Mpop=%{y}\\u003cextra\\u003e\\u003c\\u002fextra\\u003e\",\"legendgroup\":\"Serbia\",\"marker\":{\"color\":\"#FF97FF\",\"symbol\":\"circle\"},\"mode\":\"markers\",\"name\":\"Serbia\",\"orientation\":\"v\",\"showlegend\":true,\"x\":[302205],\"xaxis\":\"x\",\"y\":[2087],\"yaxis\":\"y\",\"type\":\"scatter\"},{\"customdata\":[[\"Thailand\"]],\"hovertemplate\":\"Country=%{customdata[0]}\\u003cbr\\u003eTotCases1Mpop=%{x}\\u003cbr\\u003eDeaths1Mpop=%{y}\\u003cextra\\u003e\\u003c\\u002fextra\\u003e\",\"legendgroup\":\"Thailand\",\"marker\":{\"color\":\"#FECB52\",\"symbol\":\"circle\"},\"mode\":\"markers\",\"name\":\"Thailand\",\"orientation\":\"v\",\"showlegend\":true,\"x\":[68056],\"xaxis\":\"x\",\"y\":[493],\"yaxis\":\"y\",\"type\":\"scatter\"},{\"customdata\":[[\"Kazakhstan\"]],\"hovertemplate\":\"Country=%{customdata[0]}\\u003cbr\\u003eTotCases1Mpop=%{x}\\u003cbr\\u003eDeaths1Mpop=%{y}\\u003cextra\\u003e\\u003c\\u002fextra\\u003e\",\"legendgroup\":\"Kazakhstan\",\"marker\":{\"color\":\"#636efa\",\"symbol\":\"circle\"},\"mode\":\"markers\",\"name\":\"Kazakhstan\",\"orientation\":\"v\",\"showlegend\":true,\"x\":[73514],\"xaxis\":\"x\",\"y\":[721],\"yaxis\":\"y\",\"type\":\"scatter\"},{\"customdata\":[[\"Belarus\"]],\"hovertemplate\":\"Country=%{customdata[0]}\\u003cbr\\u003eTotCases1Mpop=%{x}\\u003cbr\\u003eDeaths1Mpop=%{y}\\u003cextra\\u003e\\u003c\\u002fextra\\u003e\",\"legendgroup\":\"Belarus\",\"marker\":{\"color\":\"#EF553B\",\"symbol\":\"circle\"},\"mode\":\"markers\",\"name\":\"Belarus\",\"orientation\":\"v\",\"showlegend\":true,\"x\":[105381],\"xaxis\":\"x\",\"y\":[755],\"yaxis\":\"y\",\"type\":\"scatter\"},{\"customdata\":[[\"China\"]],\"hovertemplate\":\"Country=%{customdata[0]}\\u003cbr\\u003eTotCases1Mpop=%{x}\\u003cbr\\u003eDeaths1Mpop=%{y}\\u003cextra\\u003e\\u003c\\u002fextra\\u003e\",\"legendgroup\":\"China\",\"marker\":{\"color\":\"#00cc96\",\"symbol\":\"circle\"},\"mode\":\"markers\",\"name\":\"China\",\"orientation\":\"v\",\"showlegend\":true,\"x\":[347],\"xaxis\":\"x\",\"y\":[4],\"yaxis\":\"y\",\"type\":\"scatter\"},{\"customdata\":[[\"Mexico\"]],\"hovertemplate\":\"Country=%{customdata[0]}\\u003cbr\\u003eTotCases1Mpop=%{x}\\u003cbr\\u003eDeaths1Mpop=%{y}\\u003cextra\\u003e\\u003c\\u002fextra\\u003e\",\"legendgroup\":\"Mexico\",\"marker\":{\"color\":\"#ab63fa\",\"symbol\":\"circle\"},\"mode\":\"markers\",\"name\":\"Mexico\",\"orientation\":\"v\",\"showlegend\":true,\"x\":[58549],\"xaxis\":\"x\",\"y\":[2546],\"yaxis\":\"y\",\"type\":\"scatter\"},{\"customdata\":[[\"Iran\"]],\"hovertemplate\":\"Country=%{customdata[0]}\\u003cbr\\u003eTotCases1Mpop=%{x}\\u003cbr\\u003eDeaths1Mpop=%{y}\\u003cextra\\u003e\\u003c\\u002fextra\\u003e\",\"legendgroup\":\"Iran\",\"marker\":{\"color\":\"#FFA15A\",\"symbol\":\"circle\"},\"mode\":\"markers\",\"name\":\"Iran\",\"orientation\":\"v\",\"showlegend\":true,\"x\":[88665],\"xaxis\":\"x\",\"y\":[1707],\"yaxis\":\"y\",\"type\":\"scatter\"},{\"customdata\":[[\"Sri Lanka\"]],\"hovertemplate\":\"Country=%{customdata[0]}\\u003cbr\\u003eTotCases1Mpop=%{x}\\u003cbr\\u003eDeaths1Mpop=%{y}\\u003cextra\\u003e\\u003c\\u002fextra\\u003e\",\"legendgroup\":\"Sri Lanka\",\"marker\":{\"color\":\"#19d3f3\",\"symbol\":\"circle\"},\"mode\":\"markers\",\"name\":\"Sri Lanka\",\"orientation\":\"v\",\"showlegend\":true,\"x\":[31181],\"xaxis\":\"x\",\"y\":[783],\"yaxis\":\"y\",\"type\":\"scatter\"},{\"customdata\":[[\"Dominican Republic\"]],\"hovertemplate\":\"Country=%{customdata[0]}\\u003cbr\\u003eTotCases1Mpop=%{x}\\u003cbr\\u003eDeaths1Mpop=%{y}\\u003cextra\\u003e\\u003c\\u002fextra\\u003e\",\"legendgroup\":\"Dominican Republic\",\"marker\":{\"color\":\"#FF6692\",\"symbol\":\"circle\"},\"mode\":\"markers\",\"name\":\"Dominican Republic\",\"orientation\":\"v\",\"showlegend\":true,\"x\":[61131],\"xaxis\":\"x\",\"y\":[397],\"yaxis\":\"y\",\"type\":\"scatter\"},{\"customdata\":[[\"Ecuador\"]],\"hovertemplate\":\"Country=%{customdata[0]}\\u003cbr\\u003eTotCases1Mpop=%{x}\\u003cbr\\u003eDeaths1Mpop=%{y}\\u003cextra\\u003e\\u003c\\u002fextra\\u003e\",\"legendgroup\":\"Ecuador\",\"marker\":{\"color\":\"#B6E880\",\"symbol\":\"circle\"},\"mode\":\"markers\",\"name\":\"Ecuador\",\"orientation\":\"v\",\"showlegend\":true,\"x\":[59083],\"xaxis\":\"x\",\"y\":[1990],\"yaxis\":\"y\",\"type\":\"scatter\"},{\"customdata\":[[\"Azerbaijan\"]],\"hovertemplate\":\"Country=%{customdata[0]}\\u003cbr\\u003eTotCases1Mpop=%{x}\\u003cbr\\u003eDeaths1Mpop=%{y}\\u003cextra\\u003e\\u003c\\u002fextra\\u003e\",\"legendgroup\":\"Azerbaijan\",\"marker\":{\"color\":\"#FF97FF\",\"symbol\":\"circle\"},\"mode\":\"markers\",\"name\":\"Azerbaijan\",\"orientation\":\"v\",\"showlegend\":true,\"x\":[81080],\"xaxis\":\"x\",\"y\":[1010],\"yaxis\":\"y\",\"type\":\"scatter\"},{\"customdata\":[[\"Brazil\"]],\"hovertemplate\":\"Country=%{customdata[0]}\\u003cbr\\u003eTotCases1Mpop=%{x}\\u003cbr\\u003eDeaths1Mpop=%{y}\\u003cextra\\u003e\\u003c\\u002fextra\\u003e\",\"legendgroup\":\"Brazil\",\"marker\":{\"color\":\"#FECB52\",\"symbol\":\"circle\"},\"mode\":\"markers\",\"name\":\"Brazil\",\"orientation\":\"v\",\"showlegend\":true,\"x\":[179843],\"xaxis\":\"x\",\"y\":[3303],\"yaxis\":\"y\",\"type\":\"scatter\"},{\"customdata\":[[\"Colombia\"]],\"hovertemplate\":\"Country=%{customdata[0]}\\u003cbr\\u003eTotCases1Mpop=%{x}\\u003cbr\\u003eDeaths1Mpop=%{y}\\u003cextra\\u003e\\u003c\\u002fextra\\u003e\",\"legendgroup\":\"Colombia\",\"marker\":{\"color\":\"#636efa\",\"symbol\":\"circle\"},\"mode\":\"markers\",\"name\":\"Colombia\",\"orientation\":\"v\",\"showlegend\":true,\"x\":[124244],\"xaxis\":\"x\",\"y\":[2780],\"yaxis\":\"y\",\"type\":\"scatter\"},{\"customdata\":[[\"Libya\"]],\"hovertemplate\":\"Country=%{customdata[0]}\\u003cbr\\u003eTotCases1Mpop=%{x}\\u003cbr\\u003eDeaths1Mpop=%{y}\\u003cextra\\u003e\\u003c\\u002fextra\\u003e\",\"legendgroup\":\"Libya\",\"marker\":{\"color\":\"#EF553B\",\"symbol\":\"circle\"},\"mode\":\"markers\",\"name\":\"Libya\",\"orientation\":\"v\",\"showlegend\":true,\"x\":[72048],\"xaxis\":\"x\",\"y\":[914],\"yaxis\":\"y\",\"type\":\"scatter\"},{\"customdata\":[[\"Algeria\"]],\"hovertemplate\":\"Country=%{customdata[0]}\\u003cbr\\u003eTotCases1Mpop=%{x}\\u003cbr\\u003eDeaths1Mpop=%{y}\\u003cextra\\u003e\\u003c\\u002fextra\\u003e\",\"legendgroup\":\"Algeria\",\"marker\":{\"color\":\"#00cc96\",\"symbol\":\"circle\"},\"mode\":\"markers\",\"name\":\"Algeria\",\"orientation\":\"v\",\"showlegend\":true,\"x\":[5998],\"xaxis\":\"x\",\"y\":[152],\"yaxis\":\"y\",\"type\":\"scatter\"},{\"customdata\":[[\"Jordan\"]],\"hovertemplate\":\"Country=%{customdata[0]}\\u003cbr\\u003eTotCases1Mpop=%{x}\\u003cbr\\u003eDeaths1Mpop=%{y}\\u003cextra\\u003e\\u003c\\u002fextra\\u003e\",\"legendgroup\":\"Jordan\",\"marker\":{\"color\":\"#ab63fa\",\"symbol\":\"circle\"},\"mode\":\"markers\",\"name\":\"Jordan\",\"orientation\":\"v\",\"showlegend\":true,\"x\":[169597],\"xaxis\":\"x\",\"y\":[1371],\"yaxis\":\"y\",\"type\":\"scatter\"},{\"customdata\":[[\"Ukraine\"]],\"hovertemplate\":\"Country=%{customdata[0]}\\u003cbr\\u003eTotCases1Mpop=%{x}\\u003cbr\\u003eDeaths1Mpop=%{y}\\u003cextra\\u003e\\u003c\\u002fextra\\u003e\",\"legendgroup\":\"Ukraine\",\"marker\":{\"color\":\"#FFA15A\",\"symbol\":\"circle\"},\"mode\":\"markers\",\"name\":\"Ukraine\",\"orientation\":\"v\",\"showlegend\":true,\"x\":[128681],\"xaxis\":\"x\",\"y\":[2603],\"yaxis\":\"y\",\"type\":\"scatter\"},{\"customdata\":[[\"Tunisia\"]],\"hovertemplate\":\"Country=%{customdata[0]}\\u003cbr\\u003eTotCases1Mpop=%{x}\\u003cbr\\u003eDeaths1Mpop=%{y}\\u003cextra\\u003e\\u003c\\u002fextra\\u003e\",\"legendgroup\":\"Tunisia\",\"marker\":{\"color\":\"#19d3f3\",\"symbol\":\"circle\"},\"mode\":\"markers\",\"name\":\"Tunisia\",\"orientation\":\"v\",\"showlegend\":true,\"x\":[95741],\"xaxis\":\"x\",\"y\":[2442],\"yaxis\":\"y\",\"type\":\"scatter\"},{\"customdata\":[[\"Paraguay\"]],\"hovertemplate\":\"Country=%{customdata[0]}\\u003cbr\\u003eTotCases1Mpop=%{x}\\u003cbr\\u003eDeaths1Mpop=%{y}\\u003cextra\\u003e\\u003c\\u002fextra\\u003e\",\"legendgroup\":\"Paraguay\",\"marker\":{\"color\":\"#FF6692\",\"symbol\":\"circle\"},\"mode\":\"markers\",\"name\":\"Paraguay\",\"orientation\":\"v\",\"showlegend\":true,\"x\":[114648],\"xaxis\":\"x\",\"y\":[2759],\"yaxis\":\"y\",\"type\":\"scatter\"},{\"customdata\":[[\"Egypt\"]],\"hovertemplate\":\"Country=%{customdata[0]}\\u003cbr\\u003eTotCases1Mpop=%{x}\\u003cbr\\u003eDeaths1Mpop=%{y}\\u003cextra\\u003e\\u003c\\u002fextra\\u003e\",\"legendgroup\":\"Egypt\",\"marker\":{\"color\":\"#B6E880\",\"symbol\":\"circle\"},\"mode\":\"markers\",\"name\":\"Egypt\",\"orientation\":\"v\",\"showlegend\":true,\"x\":[4861],\"xaxis\":\"x\",\"y\":[232],\"yaxis\":\"y\",\"type\":\"scatter\"},{\"customdata\":[[\"Uzbekistan\"]],\"hovertemplate\":\"Country=%{customdata[0]}\\u003cbr\\u003eTotCases1Mpop=%{x}\\u003cbr\\u003eDeaths1Mpop=%{y}\\u003cextra\\u003e\\u003c\\u002fextra\\u003e\",\"legendgroup\":\"Uzbekistan\",\"marker\":{\"color\":\"#FF97FF\",\"symbol\":\"circle\"},\"mode\":\"markers\",\"name\":\"Uzbekistan\",\"orientation\":\"v\",\"showlegend\":true,\"x\":[7378],\"xaxis\":\"x\",\"y\":[48],\"yaxis\":\"y\",\"type\":\"scatter\"},{\"customdata\":[[\"Vietnam\"]],\"hovertemplate\":\"Country=%{customdata[0]}\\u003cbr\\u003eTotCases1Mpop=%{x}\\u003cbr\\u003eDeaths1Mpop=%{y}\\u003cextra\\u003e\\u003c\\u002fextra\\u003e\",\"legendgroup\":\"Vietnam\",\"marker\":{\"color\":\"#FECB52\",\"symbol\":\"circle\"},\"mode\":\"markers\",\"name\":\"Vietnam\",\"orientation\":\"v\",\"showlegend\":true,\"x\":[117481],\"xaxis\":\"x\",\"y\":[437],\"yaxis\":\"y\",\"type\":\"scatter\"},{\"customdata\":[[\"South Africa\"]],\"hovertemplate\":\"Country=%{customdata[0]}\\u003cbr\\u003eTotCases1Mpop=%{x}\\u003cbr\\u003eDeaths1Mpop=%{y}\\u003cextra\\u003e\\u003c\\u002fextra\\u003e\",\"legendgroup\":\"South Africa\",\"marker\":{\"color\":\"#636efa\",\"symbol\":\"circle\"},\"mode\":\"markers\",\"name\":\"South Africa\",\"orientation\":\"v\",\"showlegend\":true,\"x\":[67095],\"xaxis\":\"x\",\"y\":[1689],\"yaxis\":\"y\",\"type\":\"scatter\"},{\"customdata\":[[\"Palestine\"]],\"hovertemplate\":\"Country=%{customdata[0]}\\u003cbr\\u003eTotCases1Mpop=%{x}\\u003cbr\\u003eDeaths1Mpop=%{y}\\u003cextra\\u003e\\u003c\\u002fextra\\u003e\",\"legendgroup\":\"Palestine\",\"marker\":{\"color\":\"#EF553B\",\"symbol\":\"circle\"},\"mode\":\"markers\",\"name\":\"Palestine\",\"orientation\":\"v\",\"showlegend\":true,\"x\":[116173],\"xaxis\":\"x\",\"y\":[1011],\"yaxis\":\"y\",\"type\":\"scatter\"},{\"customdata\":[[\"Indonesia\"]],\"hovertemplate\":\"Country=%{customdata[0]}\\u003cbr\\u003eTotCases1Mpop=%{x}\\u003cbr\\u003eDeaths1Mpop=%{y}\\u003cextra\\u003e\\u003c\\u002fextra\\u003e\",\"legendgroup\":\"Indonesia\",\"marker\":{\"color\":\"#00cc96\",\"symbol\":\"circle\"},\"mode\":\"markers\",\"name\":\"Indonesia\",\"orientation\":\"v\",\"showlegend\":true,\"x\":[24465],\"xaxis\":\"x\",\"y\":[581],\"yaxis\":\"y\",\"type\":\"scatter\"},{\"customdata\":[[\"Philippines\"]],\"hovertemplate\":\"Country=%{customdata[0]}\\u003cbr\\u003eTotCases1Mpop=%{x}\\u003cbr\\u003eDeaths1Mpop=%{y}\\u003cextra\\u003e\\u003c\\u002fextra\\u003e\",\"legendgroup\":\"Philippines\",\"marker\":{\"color\":\"#ab63fa\",\"symbol\":\"circle\"},\"mode\":\"markers\",\"name\":\"Philippines\",\"orientation\":\"v\",\"showlegend\":true,\"x\":[36800],\"xaxis\":\"x\",\"y\":[594],\"yaxis\":\"y\",\"type\":\"scatter\"},{\"customdata\":[[\"Kyrgyzstan\"]],\"hovertemplate\":\"Country=%{customdata[0]}\\u003cbr\\u003eTotCases1Mpop=%{x}\\u003cbr\\u003eDeaths1Mpop=%{y}\\u003cextra\\u003e\\u003c\\u002fextra\\u003e\",\"legendgroup\":\"Kyrgyzstan\",\"marker\":{\"color\":\"#FFA15A\",\"symbol\":\"circle\"},\"mode\":\"markers\",\"name\":\"Kyrgyzstan\",\"orientation\":\"v\",\"showlegend\":true,\"x\":[30750],\"xaxis\":\"x\",\"y\":[445],\"yaxis\":\"y\",\"type\":\"scatter\"},{\"customdata\":[[\"Bolivia\"]],\"hovertemplate\":\"Country=%{customdata[0]}\\u003cbr\\u003eTotCases1Mpop=%{x}\\u003cbr\\u003eDeaths1Mpop=%{y}\\u003cextra\\u003e\\u003c\\u002fextra\\u003e\",\"legendgroup\":\"Bolivia\",\"marker\":{\"color\":\"#19d3f3\",\"symbol\":\"circle\"},\"mode\":\"markers\",\"name\":\"Bolivia\",\"orientation\":\"v\",\"showlegend\":true,\"x\":[101038],\"xaxis\":\"x\",\"y\":[1868],\"yaxis\":\"y\",\"type\":\"scatter\"},{\"customdata\":[[\"Morocco\"]],\"hovertemplate\":\"Country=%{customdata[0]}\\u003cbr\\u003eTotCases1Mpop=%{x}\\u003cbr\\u003eDeaths1Mpop=%{y}\\u003cextra\\u003e\\u003c\\u002fextra\\u003e\",\"legendgroup\":\"Morocco\",\"marker\":{\"color\":\"#FF6692\",\"symbol\":\"circle\"},\"mode\":\"markers\",\"name\":\"Morocco\",\"orientation\":\"v\",\"showlegend\":true,\"x\":[33860],\"xaxis\":\"x\",\"y\":[432],\"yaxis\":\"y\",\"type\":\"scatter\"},{\"customdata\":[[\"El Salvador\"]],\"hovertemplate\":\"Country=%{customdata[0]}\\u003cbr\\u003eTotCases1Mpop=%{x}\\u003cbr\\u003eDeaths1Mpop=%{y}\\u003cextra\\u003e\\u003c\\u002fextra\\u003e\",\"legendgroup\":\"El Salvador\",\"marker\":{\"color\":\"#B6E880\",\"symbol\":\"circle\"},\"mode\":\"markers\",\"name\":\"El Salvador\",\"orientation\":\"v\",\"showlegend\":true,\"x\":[30816],\"xaxis\":\"x\",\"y\":[646],\"yaxis\":\"y\",\"type\":\"scatter\"},{\"customdata\":[[\"Iraq\"]],\"hovertemplate\":\"Country=%{customdata[0]}\\u003cbr\\u003eTotCases1Mpop=%{x}\\u003cbr\\u003eDeaths1Mpop=%{y}\\u003cextra\\u003e\\u003c\\u002fextra\\u003e\",\"legendgroup\":\"Iraq\",\"marker\":{\"color\":\"#FF97FF\",\"symbol\":\"circle\"},\"mode\":\"markers\",\"name\":\"Iraq\",\"orientation\":\"v\",\"showlegend\":true,\"x\":[58474],\"xaxis\":\"x\",\"y\":[602],\"yaxis\":\"y\",\"type\":\"scatter\"},{\"customdata\":[[\"Bangladesh\"]],\"hovertemplate\":\"Country=%{customdata[0]}\\u003cbr\\u003eTotCases1Mpop=%{x}\\u003cbr\\u003eDeaths1Mpop=%{y}\\u003cextra\\u003e\\u003c\\u002fextra\\u003e\",\"legendgroup\":\"Bangladesh\",\"marker\":{\"color\":\"#FECB52\",\"symbol\":\"circle\"},\"mode\":\"markers\",\"name\":\"Bangladesh\",\"orientation\":\"v\",\"showlegend\":true,\"x\":[12204],\"xaxis\":\"x\",\"y\":[176],\"yaxis\":\"y\",\"type\":\"scatter\"},{\"customdata\":[[\"India\"]],\"hovertemplate\":\"Country=%{customdata[0]}\\u003cbr\\u003eTotCases1Mpop=%{x}\\u003cbr\\u003eDeaths1Mpop=%{y}\\u003cextra\\u003e\\u003c\\u002fextra\\u003e\",\"legendgroup\":\"India\",\"marker\":{\"color\":\"#636efa\",\"symbol\":\"circle\"},\"mode\":\"markers\",\"name\":\"India\",\"orientation\":\"v\",\"showlegend\":true,\"x\":[32016],\"xaxis\":\"x\",\"y\":[379],\"yaxis\":\"y\",\"type\":\"scatter\"},{\"customdata\":[[\"Guatemala\"]],\"hovertemplate\":\"Country=%{customdata[0]}\\u003cbr\\u003eTotCases1Mpop=%{x}\\u003cbr\\u003eDeaths1Mpop=%{y}\\u003cextra\\u003e\\u003c\\u002fextra\\u003e\",\"legendgroup\":\"Guatemala\",\"marker\":{\"color\":\"#EF553B\",\"symbol\":\"circle\"},\"mode\":\"markers\",\"name\":\"Guatemala\",\"orientation\":\"v\",\"showlegend\":true,\"x\":[69484],\"xaxis\":\"x\",\"y\":[1092],\"yaxis\":\"y\",\"type\":\"scatter\"},{\"customdata\":[[\"Honduras\"]],\"hovertemplate\":\"Country=%{customdata[0]}\\u003cbr\\u003eTotCases1Mpop=%{x}\\u003cbr\\u003eDeaths1Mpop=%{y}\\u003cextra\\u003e\\u003c\\u002fextra\\u003e\",\"legendgroup\":\"Honduras\",\"marker\":{\"color\":\"#00cc96\",\"symbol\":\"circle\"},\"mode\":\"markers\",\"name\":\"Honduras\",\"orientation\":\"v\",\"showlegend\":true,\"x\":[46432],\"xaxis\":\"x\",\"y\":[1092],\"yaxis\":\"y\",\"type\":\"scatter\"},{\"customdata\":[[\"Laos\"]],\"hovertemplate\":\"Country=%{customdata[0]}\\u003cbr\\u003eTotCases1Mpop=%{x}\\u003cbr\\u003eDeaths1Mpop=%{y}\\u003cextra\\u003e\\u003c\\u002fextra\\u003e\",\"legendgroup\":\"Laos\",\"marker\":{\"color\":\"#ab63fa\",\"symbol\":\"circle\"},\"mode\":\"markers\",\"name\":\"Laos\",\"orientation\":\"v\",\"showlegend\":true,\"x\":[29270],\"xaxis\":\"x\",\"y\":[101],\"yaxis\":\"y\",\"type\":\"scatter\"},{\"customdata\":[[\"Myanmar\"]],\"hovertemplate\":\"Country=%{customdata[0]}\\u003cbr\\u003eTotCases1Mpop=%{x}\\u003cbr\\u003eDeaths1Mpop=%{y}\\u003cextra\\u003e\\u003c\\u002fextra\\u003e\",\"legendgroup\":\"Myanmar\",\"marker\":{\"color\":\"#FFA15A\",\"symbol\":\"circle\"},\"mode\":\"markers\",\"name\":\"Myanmar\",\"orientation\":\"v\",\"showlegend\":true,\"x\":[11622],\"xaxis\":\"x\",\"y\":[353],\"yaxis\":\"y\",\"type\":\"scatter\"},{\"customdata\":[[\"Ghana\"]],\"hovertemplate\":\"Country=%{customdata[0]}\\u003cbr\\u003eTotCases1Mpop=%{x}\\u003cbr\\u003eDeaths1Mpop=%{y}\\u003cextra\\u003e\\u003c\\u002fextra\\u003e\",\"legendgroup\":\"Ghana\",\"marker\":{\"color\":\"#19d3f3\",\"symbol\":\"circle\"},\"mode\":\"markers\",\"name\":\"Ghana\",\"orientation\":\"v\",\"showlegend\":true,\"x\":[5306],\"xaxis\":\"x\",\"y\":[45],\"yaxis\":\"y\",\"type\":\"scatter\"},{\"customdata\":[[\"Kenya\"]],\"hovertemplate\":\"Country=%{customdata[0]}\\u003cbr\\u003eTotCases1Mpop=%{x}\\u003cbr\\u003eDeaths1Mpop=%{y}\\u003cextra\\u003e\\u003c\\u002fextra\\u003e\",\"legendgroup\":\"Kenya\",\"marker\":{\"color\":\"#FF6692\",\"symbol\":\"circle\"},\"mode\":\"markers\",\"name\":\"Kenya\",\"orientation\":\"v\",\"showlegend\":true,\"x\":[6122],\"xaxis\":\"x\",\"y\":[101],\"yaxis\":\"y\",\"type\":\"scatter\"},{\"customdata\":[[\"Nepal\"]],\"hovertemplate\":\"Country=%{customdata[0]}\\u003cbr\\u003eTotCases1Mpop=%{x}\\u003cbr\\u003eDeaths1Mpop=%{y}\\u003cextra\\u003e\\u003c\\u002fextra\\u003e\",\"legendgroup\":\"Nepal\",\"marker\":{\"color\":\"#B6E880\",\"symbol\":\"circle\"},\"mode\":\"markers\",\"name\":\"Nepal\",\"orientation\":\"v\",\"showlegend\":true,\"x\":[33199],\"xaxis\":\"x\",\"y\":[398],\"yaxis\":\"y\",\"type\":\"scatter\"},{\"customdata\":[[\"Cambodia\"]],\"hovertemplate\":\"Country=%{customdata[0]}\\u003cbr\\u003eTotCases1Mpop=%{x}\\u003cbr\\u003eDeaths1Mpop=%{y}\\u003cextra\\u003e\\u003c\\u002fextra\\u003e\",\"legendgroup\":\"Cambodia\",\"marker\":{\"color\":\"#FF97FF\",\"symbol\":\"circle\"},\"mode\":\"markers\",\"name\":\"Cambodia\",\"orientation\":\"v\",\"showlegend\":true,\"x\":[8102],\"xaxis\":\"x\",\"y\":[178],\"yaxis\":\"y\",\"type\":\"scatter\"},{\"customdata\":[[\"Congo\"]],\"hovertemplate\":\"Country=%{customdata[0]}\\u003cbr\\u003eTotCases1Mpop=%{x}\\u003cbr\\u003eDeaths1Mpop=%{y}\\u003cextra\\u003e\\u003c\\u002fextra\\u003e\",\"legendgroup\":\"Congo\",\"marker\":{\"color\":\"#FECB52\",\"symbol\":\"circle\"},\"mode\":\"markers\",\"name\":\"Congo\",\"orientation\":\"v\",\"showlegend\":true,\"x\":[4377],\"xaxis\":\"x\",\"y\":[67],\"yaxis\":\"y\",\"type\":\"scatter\"},{\"customdata\":[[\"Angola\"]],\"hovertemplate\":\"Country=%{customdata[0]}\\u003cbr\\u003eTotCases1Mpop=%{x}\\u003cbr\\u003eDeaths1Mpop=%{y}\\u003cextra\\u003e\\u003c\\u002fextra\\u003e\",\"legendgroup\":\"Angola\",\"marker\":{\"color\":\"#636efa\",\"symbol\":\"circle\"},\"mode\":\"markers\",\"name\":\"Angola\",\"orientation\":\"v\",\"showlegend\":true,\"x\":[3064],\"xaxis\":\"x\",\"y\":[55],\"yaxis\":\"y\",\"type\":\"scatter\"},{\"customdata\":[[\"Cameroon\"]],\"hovertemplate\":\"Country=%{customdata[0]}\\u003cbr\\u003eTotCases1Mpop=%{x}\\u003cbr\\u003eDeaths1Mpop=%{y}\\u003cextra\\u003e\\u003c\\u002fextra\\u003e\",\"legendgroup\":\"Cameroon\",\"marker\":{\"color\":\"#EF553B\",\"symbol\":\"circle\"},\"mode\":\"markers\",\"name\":\"Cameroon\",\"orientation\":\"v\",\"showlegend\":true,\"x\":[4492],\"xaxis\":\"x\",\"y\":[71],\"yaxis\":\"y\",\"type\":\"scatter\"},{\"customdata\":[[\"Zambia\"]],\"hovertemplate\":\"Country=%{customdata[0]}\\u003cbr\\u003eTotCases1Mpop=%{x}\\u003cbr\\u003eDeaths1Mpop=%{y}\\u003cextra\\u003e\\u003c\\u002fextra\\u003e\",\"legendgroup\":\"Zambia\",\"marker\":{\"color\":\"#00cc96\",\"symbol\":\"circle\"},\"mode\":\"markers\",\"name\":\"Zambia\",\"orientation\":\"v\",\"showlegend\":true,\"x\":[17940],\"xaxis\":\"x\",\"y\":[209],\"yaxis\":\"y\",\"type\":\"scatter\"},{\"customdata\":[[\"Papua New Guinea\"]],\"hovertemplate\":\"Country=%{customdata[0]}\\u003cbr\\u003eTotCases1Mpop=%{x}\\u003cbr\\u003eDeaths1Mpop=%{y}\\u003cextra\\u003e\\u003c\\u002fextra\\u003e\",\"legendgroup\":\"Papua New Guinea\",\"marker\":{\"color\":\"#ab63fa\",\"symbol\":\"circle\"},\"mode\":\"markers\",\"name\":\"Papua New Guinea\",\"orientation\":\"v\",\"showlegend\":true,\"x\":[5043],\"xaxis\":\"x\",\"y\":[72],\"yaxis\":\"y\",\"type\":\"scatter\"},{\"customdata\":[[\"Haiti\"]],\"hovertemplate\":\"Country=%{customdata[0]}\\u003cbr\\u003eTotCases1Mpop=%{x}\\u003cbr\\u003eDeaths1Mpop=%{y}\\u003cextra\\u003e\\u003c\\u002fextra\\u003e\",\"legendgroup\":\"Haiti\",\"marker\":{\"color\":\"#FFA15A\",\"symbol\":\"circle\"},\"mode\":\"markers\",\"name\":\"Haiti\",\"orientation\":\"v\",\"showlegend\":true,\"x\":[2968],\"xaxis\":\"x\",\"y\":[74],\"yaxis\":\"y\",\"type\":\"scatter\"},{\"customdata\":[[\"Uganda\"]],\"hovertemplate\":\"Country=%{customdata[0]}\\u003cbr\\u003eTotCases1Mpop=%{x}\\u003cbr\\u003eDeaths1Mpop=%{y}\\u003cextra\\u003e\\u003c\\u002fextra\\u003e\",\"legendgroup\":\"Uganda\",\"marker\":{\"color\":\"#19d3f3\",\"symbol\":\"circle\"},\"mode\":\"markers\",\"name\":\"Uganda\",\"orientation\":\"v\",\"showlegend\":true,\"x\":[3554],\"xaxis\":\"x\",\"y\":[75],\"yaxis\":\"y\",\"type\":\"scatter\"},{\"customdata\":[[\"Zimbabwe\"]],\"hovertemplate\":\"Country=%{customdata[0]}\\u003cbr\\u003eTotCases1Mpop=%{x}\\u003cbr\\u003eDeaths1Mpop=%{y}\\u003cextra\\u003e\\u003c\\u002fextra\\u003e\",\"legendgroup\":\"Zimbabwe\",\"marker\":{\"color\":\"#FF6692\",\"symbol\":\"circle\"},\"mode\":\"markers\",\"name\":\"Zimbabwe\",\"orientation\":\"v\",\"showlegend\":true,\"x\":[17373],\"xaxis\":\"x\",\"y\":[374],\"yaxis\":\"y\",\"type\":\"scatter\"},{\"customdata\":[[\"Nigeria\"]],\"hovertemplate\":\"Country=%{customdata[0]}\\u003cbr\\u003eTotCases1Mpop=%{x}\\u003cbr\\u003eDeaths1Mpop=%{y}\\u003cextra\\u003e\\u003c\\u002fextra\\u003e\",\"legendgroup\":\"Nigeria\",\"marker\":{\"color\":\"#B6E880\",\"symbol\":\"circle\"},\"mode\":\"markers\",\"name\":\"Nigeria\",\"orientation\":\"v\",\"showlegend\":true,\"x\":[1233],\"xaxis\":\"x\",\"y\":[15],\"yaxis\":\"y\",\"type\":\"scatter\"},{\"customdata\":[[\"Rwanda\"]],\"hovertemplate\":\"Country=%{customdata[0]}\\u003cbr\\u003eTotCases1Mpop=%{x}\\u003cbr\\u003eDeaths1Mpop=%{y}\\u003cextra\\u003e\\u003c\\u002fextra\\u003e\",\"legendgroup\":\"Rwanda\",\"marker\":{\"color\":\"#FF97FF\",\"symbol\":\"circle\"},\"mode\":\"markers\",\"name\":\"Rwanda\",\"orientation\":\"v\",\"showlegend\":true,\"x\":[9817],\"xaxis\":\"x\",\"y\":[108],\"yaxis\":\"y\",\"type\":\"scatter\"},{\"customdata\":[[\"Togo\"]],\"hovertemplate\":\"Country=%{customdata[0]}\\u003cbr\\u003eTotCases1Mpop=%{x}\\u003cbr\\u003eDeaths1Mpop=%{y}\\u003cextra\\u003e\\u003c\\u002fextra\\u003e\",\"legendgroup\":\"Togo\",\"marker\":{\"color\":\"#FECB52\",\"symbol\":\"circle\"},\"mode\":\"markers\",\"name\":\"Togo\",\"orientation\":\"v\",\"showlegend\":true,\"x\":[4559],\"xaxis\":\"x\",\"y\":[33],\"yaxis\":\"y\",\"type\":\"scatter\"},{\"customdata\":[[\"Pakistan\"]],\"hovertemplate\":\"Country=%{customdata[0]}\\u003cbr\\u003eTotCases1Mpop=%{x}\\u003cbr\\u003eDeaths1Mpop=%{y}\\u003cextra\\u003e\\u003c\\u002fextra\\u003e\",\"legendgroup\":\"Pakistan\",\"marker\":{\"color\":\"#636efa\",\"symbol\":\"circle\"},\"mode\":\"markers\",\"name\":\"Pakistan\",\"orientation\":\"v\",\"showlegend\":true,\"x\":[6893],\"xaxis\":\"x\",\"y\":[134],\"yaxis\":\"y\",\"type\":\"scatter\"},{\"customdata\":[[\"Ivory Coast\"]],\"hovertemplate\":\"Country=%{customdata[0]}\\u003cbr\\u003eTotCases1Mpop=%{x}\\u003cbr\\u003eDeaths1Mpop=%{y}\\u003cextra\\u003e\\u003c\\u002fextra\\u003e\",\"legendgroup\":\"Ivory Coast\",\"marker\":{\"color\":\"#EF553B\",\"symbol\":\"circle\"},\"mode\":\"markers\",\"name\":\"Ivory Coast\",\"orientation\":\"v\",\"showlegend\":true,\"x\":[3186],\"xaxis\":\"x\",\"y\":[30],\"yaxis\":\"y\",\"type\":\"scatter\"},{\"customdata\":[[\"Senegal\"]],\"hovertemplate\":\"Country=%{customdata[0]}\\u003cbr\\u003eTotCases1Mpop=%{x}\\u003cbr\\u003eDeaths1Mpop=%{y}\\u003cextra\\u003e\\u003c\\u002fextra\\u003e\",\"legendgroup\":\"Senegal\",\"marker\":{\"color\":\"#00cc96\",\"symbol\":\"circle\"},\"mode\":\"markers\",\"name\":\"Senegal\",\"orientation\":\"v\",\"showlegend\":true,\"x\":[5044],\"xaxis\":\"x\",\"y\":[112],\"yaxis\":\"y\",\"type\":\"scatter\"},{\"customdata\":[[\"Sudan\"]],\"hovertemplate\":\"Country=%{customdata[0]}\\u003cbr\\u003eTotCases1Mpop=%{x}\\u003cbr\\u003eDeaths1Mpop=%{y}\\u003cextra\\u003e\\u003c\\u002fextra\\u003e\",\"legendgroup\":\"Sudan\",\"marker\":{\"color\":\"#ab63fa\",\"symbol\":\"circle\"},\"mode\":\"markers\",\"name\":\"Sudan\",\"orientation\":\"v\",\"showlegend\":true,\"x\":[1391],\"xaxis\":\"x\",\"y\":[110],\"yaxis\":\"y\",\"type\":\"scatter\"},{\"customdata\":[[\"Malawi\"]],\"hovertemplate\":\"Country=%{customdata[0]}\\u003cbr\\u003eTotCases1Mpop=%{x}\\u003cbr\\u003eDeaths1Mpop=%{y}\\u003cextra\\u003e\\u003c\\u002fextra\\u003e\",\"legendgroup\":\"Malawi\",\"marker\":{\"color\":\"#FFA15A\",\"symbol\":\"circle\"},\"mode\":\"markers\",\"name\":\"Malawi\",\"orientation\":\"v\",\"showlegend\":true,\"x\":[4437],\"xaxis\":\"x\",\"y\":[133],\"yaxis\":\"y\",\"type\":\"scatter\"},{\"customdata\":[[\"Benin\"]],\"hovertemplate\":\"Country=%{customdata[0]}\\u003cbr\\u003eTotCases1Mpop=%{x}\\u003cbr\\u003eDeaths1Mpop=%{y}\\u003cextra\\u003e\\u003c\\u002fextra\\u003e\",\"legendgroup\":\"Benin\",\"marker\":{\"color\":\"#19d3f3\",\"symbol\":\"circle\"},\"mode\":\"markers\",\"name\":\"Benin\",\"orientation\":\"v\",\"showlegend\":true,\"x\":[2193],\"xaxis\":\"x\",\"y\":[13],\"yaxis\":\"y\",\"type\":\"scatter\"},{\"customdata\":[[\"Ethiopia\"]],\"hovertemplate\":\"Country=%{customdata[0]}\\u003cbr\\u003eTotCases1Mpop=%{x}\\u003cbr\\u003eDeaths1Mpop=%{y}\\u003cextra\\u003e\\u003c\\u002fextra\\u003e\",\"legendgroup\":\"Ethiopia\",\"marker\":{\"color\":\"#FF6692\",\"symbol\":\"circle\"},\"mode\":\"markers\",\"name\":\"Ethiopia\",\"orientation\":\"v\",\"showlegend\":true,\"x\":[4148],\"xaxis\":\"x\",\"y\":[63],\"yaxis\":\"y\",\"type\":\"scatter\"},{\"customdata\":[[\"Liberia\"]],\"hovertemplate\":\"Country=%{customdata[0]}\\u003cbr\\u003eTotCases1Mpop=%{x}\\u003cbr\\u003eDeaths1Mpop=%{y}\\u003cextra\\u003e\\u003c\\u002fextra\\u003e\",\"legendgroup\":\"Liberia\",\"marker\":{\"color\":\"#B6E880\",\"symbol\":\"circle\"},\"mode\":\"markers\",\"name\":\"Liberia\",\"orientation\":\"v\",\"showlegend\":true,\"x\":[1525],\"xaxis\":\"x\",\"y\":[56],\"yaxis\":\"y\",\"type\":\"scatter\"},{\"customdata\":[[\"Madagascar\"]],\"hovertemplate\":\"Country=%{customdata[0]}\\u003cbr\\u003eTotCases1Mpop=%{x}\\u003cbr\\u003eDeaths1Mpop=%{y}\\u003cextra\\u003e\\u003c\\u002fextra\\u003e\",\"legendgroup\":\"Madagascar\",\"marker\":{\"color\":\"#FF97FF\",\"symbol\":\"circle\"},\"mode\":\"markers\",\"name\":\"Madagascar\",\"orientation\":\"v\",\"showlegend\":true,\"x\":[2347],\"xaxis\":\"x\",\"y\":[49],\"yaxis\":\"y\",\"type\":\"scatter\"},{\"customdata\":[[\"DR Congo\"]],\"hovertemplate\":\"Country=%{customdata[0]}\\u003cbr\\u003eTotCases1Mpop=%{x}\\u003cbr\\u003eDeaths1Mpop=%{y}\\u003cextra\\u003e\\u003c\\u002fextra\\u003e\",\"legendgroup\":\"DR Congo\",\"marker\":{\"color\":\"#FECB52\",\"symbol\":\"circle\"},\"mode\":\"markers\",\"name\":\"DR Congo\",\"orientation\":\"v\",\"showlegend\":true,\"x\":[1043],\"xaxis\":\"x\",\"y\":[15],\"yaxis\":\"y\",\"type\":\"scatter\"},{\"customdata\":[[\"Guinea\"]],\"hovertemplate\":\"Country=%{customdata[0]}\\u003cbr\\u003eTotCases1Mpop=%{x}\\u003cbr\\u003eDeaths1Mpop=%{y}\\u003cextra\\u003e\\u003c\\u002fextra\\u003e\",\"legendgroup\":\"Guinea\",\"marker\":{\"color\":\"#636efa\",\"symbol\":\"circle\"},\"mode\":\"markers\",\"name\":\"Guinea\",\"orientation\":\"v\",\"showlegend\":true,\"x\":[2782],\"xaxis\":\"x\",\"y\":[34],\"yaxis\":\"y\",\"type\":\"scatter\"},{\"customdata\":[[\"Mozambique\"]],\"hovertemplate\":\"Country=%{customdata[0]}\\u003cbr\\u003eTotCases1Mpop=%{x}\\u003cbr\\u003eDeaths1Mpop=%{y}\\u003cextra\\u003e\\u003c\\u002fextra\\u003e\",\"legendgroup\":\"Mozambique\",\"marker\":{\"color\":\"#EF553B\",\"symbol\":\"circle\"},\"mode\":\"markers\",\"name\":\"Mozambique\",\"orientation\":\"v\",\"showlegend\":true,\"x\":[7064],\"xaxis\":\"x\",\"y\":[68],\"yaxis\":\"y\",\"type\":\"scatter\"},{\"customdata\":[[\"Sierra Leone\"]],\"hovertemplate\":\"Country=%{customdata[0]}\\u003cbr\\u003eTotCases1Mpop=%{x}\\u003cbr\\u003eDeaths1Mpop=%{y}\\u003cextra\\u003e\\u003c\\u002fextra\\u003e\",\"legendgroup\":\"Sierra Leone\",\"marker\":{\"color\":\"#00cc96\",\"symbol\":\"circle\"},\"mode\":\"markers\",\"name\":\"Sierra Leone\",\"orientation\":\"v\",\"showlegend\":true,\"x\":[937],\"xaxis\":\"x\",\"y\":[15],\"yaxis\":\"y\",\"type\":\"scatter\"},{\"customdata\":[[\"Burkina Faso\"]],\"hovertemplate\":\"Country=%{customdata[0]}\\u003cbr\\u003eTotCases1Mpop=%{x}\\u003cbr\\u003eDeaths1Mpop=%{y}\\u003cextra\\u003e\\u003c\\u002fextra\\u003e\",\"legendgroup\":\"Burkina Faso\",\"marker\":{\"color\":\"#ab63fa\",\"symbol\":\"circle\"},\"mode\":\"markers\",\"name\":\"Burkina Faso\",\"orientation\":\"v\",\"showlegend\":true,\"x\":[1000],\"xaxis\":\"x\",\"y\":[18],\"yaxis\":\"y\",\"type\":\"scatter\"},{\"customdata\":[[\"Burundi\"]],\"hovertemplate\":\"Country=%{customdata[0]}\\u003cbr\\u003eTotCases1Mpop=%{x}\\u003cbr\\u003eDeaths1Mpop=%{y}\\u003cextra\\u003e\\u003c\\u002fextra\\u003e\",\"legendgroup\":\"Burundi\",\"marker\":{\"color\":\"#FFA15A\",\"symbol\":\"circle\"},\"mode\":\"markers\",\"name\":\"Burundi\",\"orientation\":\"v\",\"showlegend\":true,\"x\":[4334],\"xaxis\":\"x\",\"y\":[3],\"yaxis\":\"y\",\"type\":\"scatter\"},{\"customdata\":[[\"Mali\"]],\"hovertemplate\":\"Country=%{customdata[0]}\\u003cbr\\u003eTotCases1Mpop=%{x}\\u003cbr\\u003eDeaths1Mpop=%{y}\\u003cextra\\u003e\\u003c\\u002fextra\\u003e\",\"legendgroup\":\"Mali\",\"marker\":{\"color\":\"#19d3f3\",\"symbol\":\"circle\"},\"mode\":\"markers\",\"name\":\"Mali\",\"orientation\":\"v\",\"showlegend\":true,\"x\":[1544],\"xaxis\":\"x\",\"y\":[35],\"yaxis\":\"y\",\"type\":\"scatter\"},{\"customdata\":[[\"Chad\"]],\"hovertemplate\":\"Country=%{customdata[0]}\\u003cbr\\u003eTotCases1Mpop=%{x}\\u003cbr\\u003eDeaths1Mpop=%{y}\\u003cextra\\u003e\\u003c\\u002fextra\\u003e\",\"legendgroup\":\"Chad\",\"marker\":{\"color\":\"#FF6692\",\"symbol\":\"circle\"},\"mode\":\"markers\",\"name\":\"Chad\",\"orientation\":\"v\",\"showlegend\":true,\"x\":[442],\"xaxis\":\"x\",\"y\":[11],\"yaxis\":\"y\",\"type\":\"scatter\"},{\"customdata\":[[\"Niger\"]],\"hovertemplate\":\"Country=%{customdata[0]}\\u003cbr\\u003eTotCases1Mpop=%{x}\\u003cbr\\u003eDeaths1Mpop=%{y}\\u003cextra\\u003e\\u003c\\u002fextra\\u003e\",\"legendgroup\":\"Niger\",\"marker\":{\"color\":\"#B6E880\",\"symbol\":\"circle\"},\"mode\":\"markers\",\"name\":\"Niger\",\"orientation\":\"v\",\"showlegend\":true,\"x\":[381],\"xaxis\":\"x\",\"y\":[12],\"yaxis\":\"y\",\"type\":\"scatter\"},{\"customdata\":[[\"Central African Republic\"]],\"hovertemplate\":\"Country=%{customdata[0]}\\u003cbr\\u003eTotCases1Mpop=%{x}\\u003cbr\\u003eDeaths1Mpop=%{y}\\u003cextra\\u003e\\u003c\\u002fextra\\u003e\",\"legendgroup\":\"Central African Republic\",\"marker\":{\"color\":\"#FF97FF\",\"symbol\":\"circle\"},\"mode\":\"markers\",\"name\":\"Central African Republic\",\"orientation\":\"v\",\"showlegend\":true,\"x\":[3078],\"xaxis\":\"x\",\"y\":[23],\"yaxis\":\"y\",\"type\":\"scatter\"}],                        {\"template\":{\"data\":{\"histogram2dcontour\":[{\"type\":\"histogram2dcontour\",\"colorbar\":{\"outlinewidth\":0,\"ticks\":\"\"},\"colorscale\":[[0.0,\"#0d0887\"],[0.1111111111111111,\"#46039f\"],[0.2222222222222222,\"#7201a8\"],[0.3333333333333333,\"#9c179e\"],[0.4444444444444444,\"#bd3786\"],[0.5555555555555556,\"#d8576b\"],[0.6666666666666666,\"#ed7953\"],[0.7777777777777778,\"#fb9f3a\"],[0.8888888888888888,\"#fdca26\"],[1.0,\"#f0f921\"]]}],\"choropleth\":[{\"type\":\"choropleth\",\"colorbar\":{\"outlinewidth\":0,\"ticks\":\"\"}}],\"histogram2d\":[{\"type\":\"histogram2d\",\"colorbar\":{\"outlinewidth\":0,\"ticks\":\"\"},\"colorscale\":[[0.0,\"#0d0887\"],[0.1111111111111111,\"#46039f\"],[0.2222222222222222,\"#7201a8\"],[0.3333333333333333,\"#9c179e\"],[0.4444444444444444,\"#bd3786\"],[0.5555555555555556,\"#d8576b\"],[0.6666666666666666,\"#ed7953\"],[0.7777777777777778,\"#fb9f3a\"],[0.8888888888888888,\"#fdca26\"],[1.0,\"#f0f921\"]]}],\"heatmap\":[{\"type\":\"heatmap\",\"colorbar\":{\"outlinewidth\":0,\"ticks\":\"\"},\"colorscale\":[[0.0,\"#0d0887\"],[0.1111111111111111,\"#46039f\"],[0.2222222222222222,\"#7201a8\"],[0.3333333333333333,\"#9c179e\"],[0.4444444444444444,\"#bd3786\"],[0.5555555555555556,\"#d8576b\"],[0.6666666666666666,\"#ed7953\"],[0.7777777777777778,\"#fb9f3a\"],[0.8888888888888888,\"#fdca26\"],[1.0,\"#f0f921\"]]}],\"heatmapgl\":[{\"type\":\"heatmapgl\",\"colorbar\":{\"outlinewidth\":0,\"ticks\":\"\"},\"colorscale\":[[0.0,\"#0d0887\"],[0.1111111111111111,\"#46039f\"],[0.2222222222222222,\"#7201a8\"],[0.3333333333333333,\"#9c179e\"],[0.4444444444444444,\"#bd3786\"],[0.5555555555555556,\"#d8576b\"],[0.6666666666666666,\"#ed7953\"],[0.7777777777777778,\"#fb9f3a\"],[0.8888888888888888,\"#fdca26\"],[1.0,\"#f0f921\"]]}],\"contourcarpet\":[{\"type\":\"contourcarpet\",\"colorbar\":{\"outlinewidth\":0,\"ticks\":\"\"}}],\"contour\":[{\"type\":\"contour\",\"colorbar\":{\"outlinewidth\":0,\"ticks\":\"\"},\"colorscale\":[[0.0,\"#0d0887\"],[0.1111111111111111,\"#46039f\"],[0.2222222222222222,\"#7201a8\"],[0.3333333333333333,\"#9c179e\"],[0.4444444444444444,\"#bd3786\"],[0.5555555555555556,\"#d8576b\"],[0.6666666666666666,\"#ed7953\"],[0.7777777777777778,\"#fb9f3a\"],[0.8888888888888888,\"#fdca26\"],[1.0,\"#f0f921\"]]}],\"surface\":[{\"type\":\"surface\",\"colorbar\":{\"outlinewidth\":0,\"ticks\":\"\"},\"colorscale\":[[0.0,\"#0d0887\"],[0.1111111111111111,\"#46039f\"],[0.2222222222222222,\"#7201a8\"],[0.3333333333333333,\"#9c179e\"],[0.4444444444444444,\"#bd3786\"],[0.5555555555555556,\"#d8576b\"],[0.6666666666666666,\"#ed7953\"],[0.7777777777777778,\"#fb9f3a\"],[0.8888888888888888,\"#fdca26\"],[1.0,\"#f0f921\"]]}],\"mesh3d\":[{\"type\":\"mesh3d\",\"colorbar\":{\"outlinewidth\":0,\"ticks\":\"\"}}],\"scatter\":[{\"fillpattern\":{\"fillmode\":\"overlay\",\"size\":10,\"solidity\":0.2},\"type\":\"scatter\"}],\"parcoords\":[{\"type\":\"parcoords\",\"line\":{\"colorbar\":{\"outlinewidth\":0,\"ticks\":\"\"}}}],\"scatterpolargl\":[{\"type\":\"scatterpolargl\",\"marker\":{\"colorbar\":{\"outlinewidth\":0,\"ticks\":\"\"}}}],\"bar\":[{\"error_x\":{\"color\":\"#2a3f5f\"},\"error_y\":{\"color\":\"#2a3f5f\"},\"marker\":{\"line\":{\"color\":\"#E5ECF6\",\"width\":0.5},\"pattern\":{\"fillmode\":\"overlay\",\"size\":10,\"solidity\":0.2}},\"type\":\"bar\"}],\"scattergeo\":[{\"type\":\"scattergeo\",\"marker\":{\"colorbar\":{\"outlinewidth\":0,\"ticks\":\"\"}}}],\"scatterpolar\":[{\"type\":\"scatterpolar\",\"marker\":{\"colorbar\":{\"outlinewidth\":0,\"ticks\":\"\"}}}],\"histogram\":[{\"marker\":{\"pattern\":{\"fillmode\":\"overlay\",\"size\":10,\"solidity\":0.2}},\"type\":\"histogram\"}],\"scattergl\":[{\"type\":\"scattergl\",\"marker\":{\"colorbar\":{\"outlinewidth\":0,\"ticks\":\"\"}}}],\"scatter3d\":[{\"type\":\"scatter3d\",\"line\":{\"colorbar\":{\"outlinewidth\":0,\"ticks\":\"\"}},\"marker\":{\"colorbar\":{\"outlinewidth\":0,\"ticks\":\"\"}}}],\"scattermapbox\":[{\"type\":\"scattermapbox\",\"marker\":{\"colorbar\":{\"outlinewidth\":0,\"ticks\":\"\"}}}],\"scatterternary\":[{\"type\":\"scatterternary\",\"marker\":{\"colorbar\":{\"outlinewidth\":0,\"ticks\":\"\"}}}],\"scattercarpet\":[{\"type\":\"scattercarpet\",\"marker\":{\"colorbar\":{\"outlinewidth\":0,\"ticks\":\"\"}}}],\"carpet\":[{\"aaxis\":{\"endlinecolor\":\"#2a3f5f\",\"gridcolor\":\"white\",\"linecolor\":\"white\",\"minorgridcolor\":\"white\",\"startlinecolor\":\"#2a3f5f\"},\"baxis\":{\"endlinecolor\":\"#2a3f5f\",\"gridcolor\":\"white\",\"linecolor\":\"white\",\"minorgridcolor\":\"white\",\"startlinecolor\":\"#2a3f5f\"},\"type\":\"carpet\"}],\"table\":[{\"cells\":{\"fill\":{\"color\":\"#EBF0F8\"},\"line\":{\"color\":\"white\"}},\"header\":{\"fill\":{\"color\":\"#C8D4E3\"},\"line\":{\"color\":\"white\"}},\"type\":\"table\"}],\"barpolar\":[{\"marker\":{\"line\":{\"color\":\"#E5ECF6\",\"width\":0.5},\"pattern\":{\"fillmode\":\"overlay\",\"size\":10,\"solidity\":0.2}},\"type\":\"barpolar\"}],\"pie\":[{\"automargin\":true,\"type\":\"pie\"}]},\"layout\":{\"autotypenumbers\":\"strict\",\"colorway\":[\"#636efa\",\"#EF553B\",\"#00cc96\",\"#ab63fa\",\"#FFA15A\",\"#19d3f3\",\"#FF6692\",\"#B6E880\",\"#FF97FF\",\"#FECB52\"],\"font\":{\"color\":\"#2a3f5f\"},\"hovermode\":\"closest\",\"hoverlabel\":{\"align\":\"left\"},\"paper_bgcolor\":\"white\",\"plot_bgcolor\":\"#E5ECF6\",\"polar\":{\"bgcolor\":\"#E5ECF6\",\"angularaxis\":{\"gridcolor\":\"white\",\"linecolor\":\"white\",\"ticks\":\"\"},\"radialaxis\":{\"gridcolor\":\"white\",\"linecolor\":\"white\",\"ticks\":\"\"}},\"ternary\":{\"bgcolor\":\"#E5ECF6\",\"aaxis\":{\"gridcolor\":\"white\",\"linecolor\":\"white\",\"ticks\":\"\"},\"baxis\":{\"gridcolor\":\"white\",\"linecolor\":\"white\",\"ticks\":\"\"},\"caxis\":{\"gridcolor\":\"white\",\"linecolor\":\"white\",\"ticks\":\"\"}},\"coloraxis\":{\"colorbar\":{\"outlinewidth\":0,\"ticks\":\"\"}},\"colorscale\":{\"sequential\":[[0.0,\"#0d0887\"],[0.1111111111111111,\"#46039f\"],[0.2222222222222222,\"#7201a8\"],[0.3333333333333333,\"#9c179e\"],[0.4444444444444444,\"#bd3786\"],[0.5555555555555556,\"#d8576b\"],[0.6666666666666666,\"#ed7953\"],[0.7777777777777778,\"#fb9f3a\"],[0.8888888888888888,\"#fdca26\"],[1.0,\"#f0f921\"]],\"sequentialminus\":[[0.0,\"#0d0887\"],[0.1111111111111111,\"#46039f\"],[0.2222222222222222,\"#7201a8\"],[0.3333333333333333,\"#9c179e\"],[0.4444444444444444,\"#bd3786\"],[0.5555555555555556,\"#d8576b\"],[0.6666666666666666,\"#ed7953\"],[0.7777777777777778,\"#fb9f3a\"],[0.8888888888888888,\"#fdca26\"],[1.0,\"#f0f921\"]],\"diverging\":[[0,\"#8e0152\"],[0.1,\"#c51b7d\"],[0.2,\"#de77ae\"],[0.3,\"#f1b6da\"],[0.4,\"#fde0ef\"],[0.5,\"#f7f7f7\"],[0.6,\"#e6f5d0\"],[0.7,\"#b8e186\"],[0.8,\"#7fbc41\"],[0.9,\"#4d9221\"],[1,\"#276419\"]]},\"xaxis\":{\"gridcolor\":\"white\",\"linecolor\":\"white\",\"ticks\":\"\",\"title\":{\"standoff\":15},\"zerolinecolor\":\"white\",\"automargin\":true,\"zerolinewidth\":2},\"yaxis\":{\"gridcolor\":\"white\",\"linecolor\":\"white\",\"ticks\":\"\",\"title\":{\"standoff\":15},\"zerolinecolor\":\"white\",\"automargin\":true,\"zerolinewidth\":2},\"scene\":{\"xaxis\":{\"backgroundcolor\":\"#E5ECF6\",\"gridcolor\":\"white\",\"linecolor\":\"white\",\"showbackground\":true,\"ticks\":\"\",\"zerolinecolor\":\"white\",\"gridwidth\":2},\"yaxis\":{\"backgroundcolor\":\"#E5ECF6\",\"gridcolor\":\"white\",\"linecolor\":\"white\",\"showbackground\":true,\"ticks\":\"\",\"zerolinecolor\":\"white\",\"gridwidth\":2},\"zaxis\":{\"backgroundcolor\":\"#E5ECF6\",\"gridcolor\":\"white\",\"linecolor\":\"white\",\"showbackground\":true,\"ticks\":\"\",\"zerolinecolor\":\"white\",\"gridwidth\":2}},\"shapedefaults\":{\"line\":{\"color\":\"#2a3f5f\"}},\"annotationdefaults\":{\"arrowcolor\":\"#2a3f5f\",\"arrowhead\":0,\"arrowwidth\":1},\"geo\":{\"bgcolor\":\"white\",\"landcolor\":\"#E5ECF6\",\"subunitcolor\":\"white\",\"showland\":true,\"showlakes\":true,\"lakecolor\":\"white\"},\"title\":{\"x\":0.05},\"mapbox\":{\"style\":\"light\"}}},\"xaxis\":{\"anchor\":\"y\",\"domain\":[0.0,1.0],\"title\":{\"text\":\"TotCases1Mpop\"}},\"yaxis\":{\"anchor\":\"x\",\"domain\":[0.0,1.0],\"title\":{\"text\":\"Deaths1Mpop\"}},\"legend\":{\"title\":{\"text\":\"Country\"},\"tracegroupgap\":0},\"margin\":{\"t\":60}},                        {\"responsive\": true}                    ).then(function(){\n",
       "                            \n",
       "var gd = document.getElementById('d644db38-4ca1-48a3-a877-20ae4a71aaad');\n",
       "var x = new MutationObserver(function (mutations, observer) {{\n",
       "        var display = window.getComputedStyle(gd).display;\n",
       "        if (!display || display === 'none') {{\n",
       "            console.log([gd, 'removed!']);\n",
       "            Plotly.purge(gd);\n",
       "            observer.disconnect();\n",
       "        }}\n",
       "}});\n",
       "\n",
       "// Listen for the removal of the full notebook cells\n",
       "var notebookContainer = gd.closest('#notebook-container');\n",
       "if (notebookContainer) {{\n",
       "    x.observe(notebookContainer, {childList: true});\n",
       "}}\n",
       "\n",
       "// Listen for the clearing of the current output cell\n",
       "var outputEl = gd.closest('.output');\n",
       "if (outputEl) {{\n",
       "    x.observe(outputEl, {childList: true});\n",
       "}}\n",
       "\n",
       "                        })                };                });            </script>        </div>"
      ]
     },
     "metadata": {},
     "output_type": "display_data"
    },
    {
     "data": {
      "text/plain": [
       "<Figure size 640x480 with 0 Axes>"
      ]
     },
     "metadata": {},
     "output_type": "display_data"
    }
   ],
   "execution_count": 119
  },
  {
   "cell_type": "code",
   "source": [
    "plt.clf()\n",
    "cehDataLessOutliers.plot.scatter(x='TotCases1Mpop', y='Deaths1Mpop')\n",
    "plt.show()"
   ],
   "metadata": {
    "collapsed": false,
    "ExecuteTime": {
     "end_time": "2024-04-15T05:36:34.196681Z",
     "start_time": "2024-04-15T05:36:34.061657Z"
    }
   },
   "id": "41870f53f325d710",
   "outputs": [
    {
     "data": {
      "text/plain": [
       "<Figure size 640x480 with 0 Axes>"
      ]
     },
     "metadata": {},
     "output_type": "display_data"
    },
    {
     "data": {
      "text/plain": [
       "<Figure size 640x480 with 1 Axes>"
      ],
      "image/png": "[encoded data removed]"
     },
     "metadata": {},
     "output_type": "display_data"
    }
   ],
   "execution_count": 120
  },
  {
   "cell_type": "code",
   "source": [
    "countryNames = cehDataLessOutliers['Country']\n",
    "countryNames = countryNames.values"
   ],
   "metadata": {
    "collapsed": false,
    "ExecuteTime": {
     "end_time": "2024-04-15T05:36:57.459164Z",
     "start_time": "2024-04-15T05:36:57.445162Z"
    }
   },
   "id": "7eb35b7ef5dd39c6",
   "outputs": [],
   "execution_count": 121
  },
  {
   "metadata": {
    "ExecuteTime": {
     "end_time": "2024-04-15T05:36:58.540933Z",
     "start_time": "2024-04-15T05:36:58.528427Z"
    }
   },
   "cell_type": "code",
   "source": [
    "covidEconomyHuman = cehDataLessOutliers.drop(columns=['Country', 'HDI Rank(2022)', 'Population(2022)', 'GDP(Nominal,2022)'])\n",
    "covidEconomyHuman.corr()"
   ],
   "id": "7b6b2d5df4add7e2",
   "outputs": [
    {
     "data": {
      "text/plain": [
       "                 HDI(2022)  GDP(Per Capita)  TotCases1Mpop  Deaths1Mpop  \\\n",
       "HDI(2022)         1.000000         0.751636       0.779691     0.659803   \n",
       "GDP(Per Capita)   0.751636         1.000000       0.745278     0.387953   \n",
       "TotCases1Mpop     0.779691         0.745278       1.000000     0.614357   \n",
       "Deaths1Mpop       0.659803         0.387953       0.614357     1.000000   \n",
       "Tests1Mpop        0.484456         0.506723       0.573389     0.316456   \n",
       "\n",
       "                 Tests1Mpop  \n",
       "HDI(2022)          0.484456  \n",
       "GDP(Per Capita)    0.506723  \n",
       "TotCases1Mpop      0.573389  \n",
       "Deaths1Mpop        0.316456  \n",
       "Tests1Mpop         1.000000  "
      ],
      "text/html": [
       "<div>\n",
       "<style scoped>\n",
       "    .dataframe tbody tr th:only-of-type {\n",
       "        vertical-align: middle;\n",
       "    }\n",
       "\n",
       "    .dataframe tbody tr th {\n",
       "        vertical-align: top;\n",
       "    }\n",
       "\n",
       "    .dataframe thead th {\n",
       "        text-align: right;\n",
       "    }\n",
       "</style>\n",
       "<table border=\"1\" class=\"dataframe\">\n",
       "  <thead>\n",
       "    <tr style=\"text-align: right;\">\n",
       "      <th></th>\n",
       "      <th>HDI(2022)</th>\n",
       "      <th>GDP(Per Capita)</th>\n",
       "      <th>TotCases1Mpop</th>\n",
       "      <th>Deaths1Mpop</th>\n",
       "      <th>Tests1Mpop</th>\n",
       "    </tr>\n",
       "  </thead>\n",
       "  <tbody>\n",
       "    <tr>\n",
       "      <th>HDI(2022)</th>\n",
       "      <td>1.000000</td>\n",
       "      <td>0.751636</td>\n",
       "      <td>0.779691</td>\n",
       "      <td>0.659803</td>\n",
       "      <td>0.484456</td>\n",
       "    </tr>\n",
       "    <tr>\n",
       "      <th>GDP(Per Capita)</th>\n",
       "      <td>0.751636</td>\n",
       "      <td>1.000000</td>\n",
       "      <td>0.745278</td>\n",
       "      <td>0.387953</td>\n",
       "      <td>0.506723</td>\n",
       "    </tr>\n",
       "    <tr>\n",
       "      <th>TotCases1Mpop</th>\n",
       "      <td>0.779691</td>\n",
       "      <td>0.745278</td>\n",
       "      <td>1.000000</td>\n",
       "      <td>0.614357</td>\n",
       "      <td>0.573389</td>\n",
       "    </tr>\n",
       "    <tr>\n",
       "      <th>Deaths1Mpop</th>\n",
       "      <td>0.659803</td>\n",
       "      <td>0.387953</td>\n",
       "      <td>0.614357</td>\n",
       "      <td>1.000000</td>\n",
       "      <td>0.316456</td>\n",
       "    </tr>\n",
       "    <tr>\n",
       "      <th>Tests1Mpop</th>\n",
       "      <td>0.484456</td>\n",
       "      <td>0.506723</td>\n",
       "      <td>0.573389</td>\n",
       "      <td>0.316456</td>\n",
       "      <td>1.000000</td>\n",
       "    </tr>\n",
       "  </tbody>\n",
       "</table>\n",
       "</div>"
      ]
     },
     "execution_count": 122,
     "metadata": {},
     "output_type": "execute_result"
    }
   ],
   "execution_count": 122
  },
  {
   "metadata": {
    "ExecuteTime": {
     "end_time": "2024-04-15T05:37:01.040804Z",
     "start_time": "2024-04-15T05:37:01.030803Z"
    }
   },
   "cell_type": "code",
   "source": [
    "dfEconomyHumanAnalysis = cehDataLessOutliers.drop(columns=['Country', 'HDI Rank(2022)', 'GDP(Nominal,2022)', 'Population(2022)', 'TotCases1Mpop', 'Deaths1Mpop', 'Tests1Mpop'])\n",
    "dfEconomyHumanAnalysis.corr()"
   ],
   "id": "251dff53903dddaf",
   "outputs": [
    {
     "data": {
      "text/plain": [
       "                 HDI(2022)  GDP(Per Capita)\n",
       "HDI(2022)         1.000000         0.751636\n",
       "GDP(Per Capita)   0.751636         1.000000"
      ],
      "text/html": [
       "<div>\n",
       "<style scoped>\n",
       "    .dataframe tbody tr th:only-of-type {\n",
       "        vertical-align: middle;\n",
       "    }\n",
       "\n",
       "    .dataframe tbody tr th {\n",
       "        vertical-align: top;\n",
       "    }\n",
       "\n",
       "    .dataframe thead th {\n",
       "        text-align: right;\n",
       "    }\n",
       "</style>\n",
       "<table border=\"1\" class=\"dataframe\">\n",
       "  <thead>\n",
       "    <tr style=\"text-align: right;\">\n",
       "      <th></th>\n",
       "      <th>HDI(2022)</th>\n",
       "      <th>GDP(Per Capita)</th>\n",
       "    </tr>\n",
       "  </thead>\n",
       "  <tbody>\n",
       "    <tr>\n",
       "      <th>HDI(2022)</th>\n",
       "      <td>1.000000</td>\n",
       "      <td>0.751636</td>\n",
       "    </tr>\n",
       "    <tr>\n",
       "      <th>GDP(Per Capita)</th>\n",
       "      <td>0.751636</td>\n",
       "      <td>1.000000</td>\n",
       "    </tr>\n",
       "  </tbody>\n",
       "</table>\n",
       "</div>"
      ]
     },
     "execution_count": 123,
     "metadata": {},
     "output_type": "execute_result"
    }
   ],
   "execution_count": 123
  },
  {
   "metadata": {
    "ExecuteTime": {
     "end_time": "2024-04-15T05:37:07.269129Z",
     "start_time": "2024-04-15T05:37:07.245774Z"
    }
   },
   "cell_type": "code",
   "source": [
    "norEconomyHuman = normalize_values(dfEconomyHumanAnalysis)\n",
    "clusterEconomyHuman = cluster_alg(2, 20000, norEconomyHuman)\n",
    "groupsEconomyHuman = cluster_groups(clusterEconomyHuman, norEconomyHuman)\n",
    "countryEconomyHuman = country_groups(groupsEconomyHuman, countryNames)\n",
    "dataEconomyHuman = pd.DataFrame.from_dict(countryEconomyHuman, orient='index')"
   ],
   "id": "ec3277d0e11541ec",
   "outputs": [],
   "execution_count": 126
  },
  {
   "metadata": {
    "ExecuteTime": {
     "end_time": "2024-04-15T05:37:07.763246Z",
     "start_time": "2024-04-15T05:37:07.749748Z"
    }
   },
   "cell_type": "code",
   "source": [
    "centroidsEconomyHuman = clusterEconomyHuman.cluster_centers_\n",
    "dfCentroidsEconomyHuman = pd.DataFrame(centroidsEconomyHuman, columns=['HDI(2022)', 'GDP(Per Capita)'])\n",
    "dfCentroidsEconomyHuman"
   ],
   "id": "651db5a4c944499f",
   "outputs": [
    {
     "data": {
      "text/plain": [
       "   HDI(2022)  GDP(Per Capita)\n",
       "0   0.418446         0.032645\n",
       "1   0.905987         0.419335"
      ],
      "text/html": [
       "<div>\n",
       "<style scoped>\n",
       "    .dataframe tbody tr th:only-of-type {\n",
       "        vertical-align: middle;\n",
       "    }\n",
       "\n",
       "    .dataframe tbody tr th {\n",
       "        vertical-align: top;\n",
       "    }\n",
       "\n",
       "    .dataframe thead th {\n",
       "        text-align: right;\n",
       "    }\n",
       "</style>\n",
       "<table border=\"1\" class=\"dataframe\">\n",
       "  <thead>\n",
       "    <tr style=\"text-align: right;\">\n",
       "      <th></th>\n",
       "      <th>HDI(2022)</th>\n",
       "      <th>GDP(Per Capita)</th>\n",
       "    </tr>\n",
       "  </thead>\n",
       "  <tbody>\n",
       "    <tr>\n",
       "      <th>0</th>\n",
       "      <td>0.418446</td>\n",
       "      <td>0.032645</td>\n",
       "    </tr>\n",
       "    <tr>\n",
       "      <th>1</th>\n",
       "      <td>0.905987</td>\n",
       "      <td>0.419335</td>\n",
       "    </tr>\n",
       "  </tbody>\n",
       "</table>\n",
       "</div>"
      ]
     },
     "execution_count": 127,
     "metadata": {},
     "output_type": "execute_result"
    }
   ],
   "execution_count": 127
  },
  {
   "metadata": {
    "ExecuteTime": {
     "end_time": "2024-04-15T05:37:09.434482Z",
     "start_time": "2024-04-15T05:37:09.415975Z"
    }
   },
   "cell_type": "code",
   "source": [
    "dfCovidAnalysis = cehDataLessOutliers.drop(columns=['Country', 'HDI Rank(2022)', 'HDI(2022)', 'Population(2022)', 'GDP(Per Capita)', 'GDP(Nominal,2022)'])\n",
    "dfCovidAnalysis.corr()"
   ],
   "id": "d000395853603dd0",
   "outputs": [
    {
     "data": {
      "text/plain": [
       "               TotCases1Mpop  Deaths1Mpop  Tests1Mpop\n",
       "TotCases1Mpop       1.000000     0.614357    0.573389\n",
       "Deaths1Mpop         0.614357     1.000000    0.316456\n",
       "Tests1Mpop          0.573389     0.316456    1.000000"
      ],
      "text/html": [
       "<div>\n",
       "<style scoped>\n",
       "    .dataframe tbody tr th:only-of-type {\n",
       "        vertical-align: middle;\n",
       "    }\n",
       "\n",
       "    .dataframe tbody tr th {\n",
       "        vertical-align: top;\n",
       "    }\n",
       "\n",
       "    .dataframe thead th {\n",
       "        text-align: right;\n",
       "    }\n",
       "</style>\n",
       "<table border=\"1\" class=\"dataframe\">\n",
       "  <thead>\n",
       "    <tr style=\"text-align: right;\">\n",
       "      <th></th>\n",
       "      <th>TotCases1Mpop</th>\n",
       "      <th>Deaths1Mpop</th>\n",
       "      <th>Tests1Mpop</th>\n",
       "    </tr>\n",
       "  </thead>\n",
       "  <tbody>\n",
       "    <tr>\n",
       "      <th>TotCases1Mpop</th>\n",
       "      <td>1.000000</td>\n",
       "      <td>0.614357</td>\n",
       "      <td>0.573389</td>\n",
       "    </tr>\n",
       "    <tr>\n",
       "      <th>Deaths1Mpop</th>\n",
       "      <td>0.614357</td>\n",
       "      <td>1.000000</td>\n",
       "      <td>0.316456</td>\n",
       "    </tr>\n",
       "    <tr>\n",
       "      <th>Tests1Mpop</th>\n",
       "      <td>0.573389</td>\n",
       "      <td>0.316456</td>\n",
       "      <td>1.000000</td>\n",
       "    </tr>\n",
       "  </tbody>\n",
       "</table>\n",
       "</div>"
      ]
     },
     "execution_count": 128,
     "metadata": {},
     "output_type": "execute_result"
    }
   ],
   "execution_count": 128
  },
  {
   "metadata": {
    "ExecuteTime": {
     "end_time": "2024-04-15T05:37:10.637768Z",
     "start_time": "2024-04-15T05:37:10.618761Z"
    }
   },
   "cell_type": "code",
   "source": [
    "norCovid = normalize_values(dfCovidAnalysis)\n",
    "clusterCovid = cluster_alg(2, 20000, norCovid)\n",
    "groupsCovid = cluster_groups(clusterCovid, norCovid)\n",
    "countryCovid = country_groups(groupsCovid, countryNames)\n",
    "dataCovid = pd.DataFrame.from_dict(countryCovid, orient='index')"
   ],
   "id": "38f3750c339515f",
   "outputs": [],
   "execution_count": 129
  },
  {
   "metadata": {
    "ExecuteTime": {
     "end_time": "2024-04-15T05:37:11.426043Z",
     "start_time": "2024-04-15T05:37:11.411044Z"
    }
   },
   "cell_type": "code",
   "source": [
    "centroidsCovid = clusterCovid.cluster_centers_\n",
    "dfCentroidsCovid = pd.DataFrame(centroidsCovid, columns=['TotCases1Mpop', 'Deaths1Mpop', 'Tests1Mpop'])\n",
    "dfCentroidsCovid"
   ],
   "id": "34d59fe7fad1b6f2",
   "outputs": [
    {
     "data": {
      "text/plain": [
       "   TotCases1Mpop  Deaths1Mpop  Tests1Mpop\n",
       "0       0.058683     0.094196    0.025677\n",
       "1       0.548491     0.489638    0.175611"
      ],
      "text/html": [
       "<div>\n",
       "<style scoped>\n",
       "    .dataframe tbody tr th:only-of-type {\n",
       "        vertical-align: middle;\n",
       "    }\n",
       "\n",
       "    .dataframe tbody tr th {\n",
       "        vertical-align: top;\n",
       "    }\n",
       "\n",
       "    .dataframe thead th {\n",
       "        text-align: right;\n",
       "    }\n",
       "</style>\n",
       "<table border=\"1\" class=\"dataframe\">\n",
       "  <thead>\n",
       "    <tr style=\"text-align: right;\">\n",
       "      <th></th>\n",
       "      <th>TotCases1Mpop</th>\n",
       "      <th>Deaths1Mpop</th>\n",
       "      <th>Tests1Mpop</th>\n",
       "    </tr>\n",
       "  </thead>\n",
       "  <tbody>\n",
       "    <tr>\n",
       "      <th>0</th>\n",
       "      <td>0.058683</td>\n",
       "      <td>0.094196</td>\n",
       "      <td>0.025677</td>\n",
       "    </tr>\n",
       "    <tr>\n",
       "      <th>1</th>\n",
       "      <td>0.548491</td>\n",
       "      <td>0.489638</td>\n",
       "      <td>0.175611</td>\n",
       "    </tr>\n",
       "  </tbody>\n",
       "</table>\n",
       "</div>"
      ]
     },
     "execution_count": 130,
     "metadata": {},
     "output_type": "execute_result"
    }
   ],
   "execution_count": 130
  },
  {
   "metadata": {
    "ExecuteTime": {
     "end_time": "2024-04-15T05:37:13.404286Z",
     "start_time": "2024-04-15T05:37:13.389289Z"
    }
   },
   "cell_type": "code",
   "source": "dataGroupsEconomyHuman = dataEconomyHuman.transpose()",
   "id": "6401928c401f51fb",
   "outputs": [],
   "execution_count": 131
  },
  {
   "metadata": {
    "ExecuteTime": {
     "end_time": "2024-04-15T05:37:13.930791Z",
     "start_time": "2024-04-15T05:37:13.918791Z"
    }
   },
   "cell_type": "code",
   "source": "dataGroupsCovid = dataCovid.transpose()",
   "id": "11fb0b8e21bd065b",
   "outputs": [],
   "execution_count": 132
  },
  {
   "metadata": {
    "ExecuteTime": {
     "end_time": "2024-04-15T05:37:14.456787Z",
     "start_time": "2024-04-15T05:37:14.442777Z"
    }
   },
   "cell_type": "code",
   "source": [
    "developing_socioeconomic_countries = array_remove_none(dataGroupsEconomyHuman[0]) \n",
    "developed_socioeconomic_countries = array_remove_none(dataGroupsEconomyHuman[1]) "
   ],
   "id": "818ab4ea890f55bd",
   "outputs": [],
   "execution_count": 133
  },
  {
   "metadata": {
    "ExecuteTime": {
     "end_time": "2024-04-15T05:37:15.045333Z",
     "start_time": "2024-04-15T05:37:15.039255Z"
    }
   },
   "cell_type": "code",
   "source": [
    "countries_with_effective_covid_control_strategies = array_remove_none(dataGroupsCovid[0]) \n",
    "countries_facing_challenges_in_covid_mitigation = array_remove_none(dataGroupsCovid[1])"
   ],
   "id": "81d88e7666a68b7d",
   "outputs": [],
   "execution_count": 134
  },
  {
   "metadata": {
    "ExecuteTime": {
     "end_time": "2024-04-15T05:40:41.496124Z",
     "start_time": "2024-04-15T05:40:41.482624Z"
    }
   },
   "cell_type": "code",
   "source": [
    "developing = developing_socioeconomic_countries.size\n",
    "developing_color = '#fbbc05'\n",
    "developing_label = 'Países Emergentes'"
   ],
   "id": "c27959c48b8196f5",
   "outputs": [],
   "execution_count": 141
  },
  {
   "metadata": {
    "ExecuteTime": {
     "end_time": "2024-04-15T05:40:42.053279Z",
     "start_time": "2024-04-15T05:40:42.049279Z"
    }
   },
   "cell_type": "code",
   "source": [
    "#Países Desenvolvidos\n",
    "developed = developed_socioeconomic_countries.size\n",
    "developed_color = '#87aa14'\n",
    "developed_label = 'Países Desenvolvidos'"
   ],
   "id": "505a1599ee4633ce",
   "outputs": [],
   "execution_count": 142
  },
  {
   "metadata": {
    "ExecuteTime": {
     "end_time": "2024-04-15T05:40:43.938188Z",
     "start_time": "2024-04-15T05:40:43.933694Z"
    }
   },
   "cell_type": "code",
   "source": [
    "#Controle De Crise Eficiente(CCE)\n",
    "cce = countries_with_effective_covid_control_strategies.size\n",
    "cce_color = '#d0e6da'\n",
    "cce_label = 'Controle De Crise Eficiente'"
   ],
   "id": "7d5b19d9b0328e7d",
   "outputs": [],
   "execution_count": 143
  },
  {
   "metadata": {
    "ExecuteTime": {
     "end_time": "2024-04-15T05:40:44.665208Z",
     "start_time": "2024-04-15T05:40:44.655207Z"
    }
   },
   "cell_type": "code",
   "source": [
    "#Gestão De Crise Deficiente(GCD)\n",
    "gcd = countries_facing_challenges_in_covid_mitigation.size\n",
    "gcd_color = '#f7c8c9'\n",
    "gcd_label = 'Gestão De Crise Deficiente'"
   ],
   "id": "9b71b6666845bf34",
   "outputs": [],
   "execution_count": 144
  },
  {
   "metadata": {
    "ExecuteTime": {
     "end_time": "2024-04-15T05:40:45.686768Z",
     "start_time": "2024-04-15T05:40:45.675267Z"
    }
   },
   "cell_type": "code",
   "source": "#PAISES DESENVOLVIDOS",
   "id": "a0748de042fb819c",
   "outputs": [],
   "execution_count": 145
  },
  {
   "metadata": {
    "ExecuteTime": {
     "end_time": "2024-04-15T05:40:47.064049Z",
     "start_time": "2024-04-15T05:40:47.052687Z"
    }
   },
   "cell_type": "code",
   "source": [
    "developed_mitigation = set(countries_facing_challenges_in_covid_mitigation).intersection(developed_socioeconomic_countries)\n",
    "developed_mitigation_result = len(developed_mitigation) / len(developed_socioeconomic_countries) * 100 \n",
    "developed_mitigation_result"
   ],
   "id": "67254af06251cc36",
   "outputs": [
    {
     "data": {
      "text/plain": [
       "86.11111111111111"
      ]
     },
     "execution_count": 146,
     "metadata": {},
     "output_type": "execute_result"
    }
   ],
   "execution_count": 146
  },
  {
   "metadata": {
    "ExecuteTime": {
     "end_time": "2024-04-15T05:45:36.106629Z",
     "start_time": "2024-04-15T05:45:36.046128Z"
    }
   },
   "cell_type": "code",
   "source": "venn2_intersection(gcd, developed, developed_mitigation, gcd_label, developed_label, gcd_color, developed_color)",
   "id": "bd5ec66abd56a832",
   "outputs": [
    {
     "data": {
      "text/plain": [
       "<Figure size 640x480 with 1 Axes>"
      ],
      "image/png": "[encoded data removed]"
     },
     "metadata": {},
     "output_type": "display_data"
    }
   ],
   "execution_count": 155
  },
  {
   "metadata": {
    "ExecuteTime": {
     "end_time": "2024-04-15T05:45:43.798802Z",
     "start_time": "2024-04-15T05:45:43.780011Z"
    }
   },
   "cell_type": "code",
   "source": [
    "developed_control_strategies = set(countries_with_effective_covid_control_strategies).intersection(developed_socioeconomic_countries)\n",
    "developed_control_strategies_result = len(developed_control_strategies) / len(developed_socioeconomic_countries) * 100 \n",
    "developed_control_strategies_result"
   ],
   "id": "306b165657c69ac4",
   "outputs": [
    {
     "data": {
      "text/plain": [
       "13.88888888888889"
      ]
     },
     "execution_count": 156,
     "metadata": {},
     "output_type": "execute_result"
    }
   ],
   "execution_count": 156
  },
  {
   "metadata": {
    "ExecuteTime": {
     "end_time": "2024-04-15T05:45:44.202081Z",
     "start_time": "2024-04-15T05:45:44.133999Z"
    }
   },
   "cell_type": "code",
   "source": "venn2_intersection(cce, developed, developed_control_strategies, cce_label, developed_label, cce_color, developed_color)",
   "id": "3a0f58715d98e5a2",
   "outputs": [
    {
     "data": {
      "text/plain": [
       "<Figure size 640x480 with 1 Axes>"
      ],
      "image/png": "[encoded data removed]"
     },
     "metadata": {},
     "output_type": "display_data"
    }
   ],
   "execution_count": 157
  },
  {
   "metadata": {
    "ExecuteTime": {
     "end_time": "2024-04-15T05:45:44.868722Z",
     "start_time": "2024-04-15T05:45:44.860227Z"
    }
   },
   "cell_type": "code",
   "source": "#PAISES EM DESENVOLVIMENTO",
   "id": "78fc7920c95a976e",
   "outputs": [],
   "execution_count": 158
  },
  {
   "metadata": {
    "ExecuteTime": {
     "end_time": "2024-04-15T05:45:45.519365Z",
     "start_time": "2024-04-15T05:45:45.506370Z"
    }
   },
   "cell_type": "code",
   "source": [
    "developing_mitigation = set(countries_facing_challenges_in_covid_mitigation).intersection(developing_socioeconomic_countries)\n",
    "developing_mitigation_result = len(developing_mitigation) / len(developing_socioeconomic_countries) * 100 \n",
    "developing_mitigation_result"
   ],
   "id": "7d19c051dcbb19ae",
   "outputs": [
    {
     "data": {
      "text/plain": [
       "8.21917808219178"
      ]
     },
     "execution_count": 159,
     "metadata": {},
     "output_type": "execute_result"
    }
   ],
   "execution_count": 159
  },
  {
   "metadata": {
    "ExecuteTime": {
     "end_time": "2024-04-15T05:45:45.966822Z",
     "start_time": "2024-04-15T05:45:45.891803Z"
    }
   },
   "cell_type": "code",
   "source": "venn2_intersection(gcd, developing, developing_mitigation, gcd_label, developing_label, gcd_color, developing_color)",
   "id": "aaa608eeea890284",
   "outputs": [
    {
     "data": {
      "text/plain": [
       "<Figure size 640x480 with 1 Axes>"
      ],
      "image/png": "[encoded data removed]"
     },
     "metadata": {},
     "output_type": "display_data"
    }
   ],
   "execution_count": 160
  },
  {
   "metadata": {
    "ExecuteTime": {
     "end_time": "2024-04-15T05:45:49.607067Z",
     "start_time": "2024-04-15T05:45:49.595064Z"
    }
   },
   "cell_type": "code",
   "source": [
    "developing_control_strategies = set(countries_with_effective_covid_control_strategies).intersection(developing_socioeconomic_countries)\n",
    "developing_control_strategies_result = len(developing_control_strategies) / len(developing_socioeconomic_countries) * 100 \n",
    "developing_control_strategies_result"
   ],
   "id": "af2c9b9821029730",
   "outputs": [
    {
     "data": {
      "text/plain": [
       "91.78082191780823"
      ]
     },
     "execution_count": 161,
     "metadata": {},
     "output_type": "execute_result"
    }
   ],
   "execution_count": 161
  },
  {
   "metadata": {
    "ExecuteTime": {
     "end_time": "2024-04-15T05:48:19.953149Z",
     "start_time": "2024-04-15T05:48:19.892864Z"
    }
   },
   "cell_type": "code",
   "source": "venn2_intersection(cce, developing, developing_control_strategies, cce_label, developing_label, cce_color, developing_color)",
   "id": "137e755d3efc54a4",
   "outputs": [
    {
     "data": {
      "text/plain": [
       "<Figure size 640x480 with 1 Axes>"
      ],
      "image/png": "[encoded data removed]"
     },
     "metadata": {},
     "output_type": "display_data"
    }
   ],
   "execution_count": 163
  }
 ],
 "metadata": {
  "kernelspec": {
   "display_name": "Python 3",
   "language": "python",
   "name": "python3"
  },
  "language_info": {
   "codemirror_mode": {
    "name": "ipython",
    "version": 2
   },
   "file_extension": ".py",
   "mimetype": "text/x-python",
   "name": "python",
   "nbconvert_exporter": "python",
   "pygments_lexer": "ipython2",
   "version": "2.7.6"
  }
 },
 "nbformat": 4,
 "nbformat_minor": 5
}
